{
 "cells": [
  {
   "cell_type": "markdown",
   "metadata": {
    "papermill": {
     "duration": 0.014348,
     "end_time": "2020-03-25T05:04:13.382133",
     "exception": false,
     "start_time": "2020-03-25T05:04:13.367785",
     "status": "completed"
    },
    "tags": []
   },
   "source": [
    "# Comparación con el resto del mundo\n",
    "> Como vienen evolucionando los paises donde COVID-19 llego antes en comparacion con Argentina?\n",
    "\n",
    "- comments: false\n",
    "- author: Pablo Zivic\n",
    "- categories: [graficos]\n",
    "- image: images/argentina-en-contexto.png\n",
    "- permalink: /argentina-en-contexto/"
   ]
  },
  {
   "cell_type": "code",
   "execution_count": 1,
   "metadata": {
    "papermill": {
     "duration": 0.329375,
     "end_time": "2020-03-25T05:04:13.717785",
     "exception": false,
     "start_time": "2020-03-25T05:04:13.388410",
     "status": "completed"
    },
    "tags": []
   },
   "outputs": [],
   "source": [
    "#hide\n",
    "\n",
    "from io import StringIO\n",
    "import csv\n",
    "import pandas as pd\n",
    "from datetime import datetime\n",
    "import requests\n",
    "\n",
    "BASE_URL = 'https://raw.githubusercontent.com/CSSEGISandData/COVID-19/master/csse_covid_19_data/'\n",
    "\n",
    "def parse_data(fname):\n",
    "    csv_content = requests.get(BASE_URL + fname).content\n",
    "    docs = list(csv.DictReader(StringIO(csv_content.decode('utf8'))))\n",
    "        \n",
    "    new_docs = []\n",
    "    for doc in docs:\n",
    "        meta = {k: doc[k] for k in ['Province/State', 'Country/Region', 'Lat', 'Long']}\n",
    "        for k, v in doc.items():\n",
    "            if k in meta: continue\n",
    "            new_doc = meta.copy()\n",
    "            new_doc['date'] = datetime.strptime(k, '%m/%d/%y')\n",
    "            if not v: continue\n",
    "            new_doc['cnt'] = int(v)\n",
    "            new_docs.append(new_doc)\n",
    "\n",
    "\n",
    "    return (\n",
    "        pd.DataFrame(new_docs)\n",
    "          .rename(\n",
    "              columns={\n",
    "                  'Province/State': 'province',\n",
    "                  'Country/Region': 'country',\n",
    "                  'Lat': 'lat', 'Long': 'long'\n",
    "              }\n",
    "          ).groupby(['date', 'country'])\n",
    "          .cnt.sum()\n",
    "          .reset_index()\n",
    "    )"
   ]
  },
  {
   "cell_type": "code",
   "execution_count": 2,
   "metadata": {
    "papermill": {
     "duration": 0.400873,
     "end_time": "2020-03-25T05:04:14.125417",
     "exception": false,
     "start_time": "2020-03-25T05:04:13.724544",
     "status": "completed"
    },
    "tags": []
   },
   "outputs": [],
   "source": [
    "#hide\n",
    "confirmed_df = parse_data('csse_covid_19_time_series/time_series_19-covid-Confirmed.csv')\n",
    "confirmed_df = confirmed_df.rename(columns=dict(cnt='confirmed'))"
   ]
  },
  {
   "cell_type": "code",
   "execution_count": 3,
   "metadata": {
    "papermill": {
     "duration": 0.760783,
     "end_time": "2020-03-25T05:04:14.892781",
     "exception": false,
     "start_time": "2020-03-25T05:04:14.131998",
     "status": "completed"
    },
    "tags": []
   },
   "outputs": [],
   "source": [
    "#hide\n",
    "import numpy as np\n",
    "\n",
    "dfs = []\n",
    "for c in confirmed_df.country.unique():\n",
    "    cdf = confirmed_df[confirmed_df.country == c].set_index('date').sort_index()\n",
    "    cdf['rate'] = np.minimum(1.6, cdf.confirmed / cdf.confirmed.shift(1)).rolling(7).mean().fillna(1.6)\n",
    "    dfs.append(cdf)\n",
    "    \n",
    "confirmed_df = pd.concat(dfs).reset_index()"
   ]
  },
  {
   "cell_type": "code",
   "execution_count": 4,
   "metadata": {
    "papermill": {
     "duration": 0.019784,
     "end_time": "2020-03-25T05:04:14.918676",
     "exception": false,
     "start_time": "2020-03-25T05:04:14.898892",
     "status": "completed"
    },
    "tags": []
   },
   "outputs": [],
   "source": [
    "#hide\n",
    "cnt_by_country = confirmed_df.groupby('country').confirmed.max().sort_values(ascending=False)\n",
    "rate_by_country = confirmed_df[confirmed_df.confirmed > 1000].groupby('country').rate.max().sort_values(ascending=False)"
   ]
  },
  {
   "cell_type": "code",
   "execution_count": 5,
   "metadata": {
    "papermill": {
     "duration": 0.142047,
     "end_time": "2020-03-25T05:04:15.066064",
     "exception": false,
     "start_time": "2020-03-25T05:04:14.924017",
     "status": "completed"
    },
    "tags": []
   },
   "outputs": [],
   "source": [
    "#hide\n",
    "import altair as alt\n",
    "\n",
    "def plot_rate_cnt_trajectories(countries, selected):\n",
    "    selection = alt.selection_multi(\n",
    "        fields=['country'], bind='legend', init=[{'country': c} for c in selected]\n",
    "    )\n",
    "    \n",
    "    source = confirmed_df[(confirmed_df.confirmed > 30) & (confirmed_df.country.isin(countries))]\n",
    "    \n",
    "    return (\n",
    "        alt.Chart(source)\n",
    "           .mark_line(point=True, radius=150)\n",
    "           .encode(\n",
    "               x=alt.X('confirmed', scale=alt.Scale(type='log'), axis=alt.Axis(title='Confirmed Cases')),\n",
    "               y=alt.Y('rate', axis=alt.Axis(title='Rate of growth'), scale=alt.Scale(domain=[0.95, 1.65])),\n",
    "               color=alt.Color('country:N', sort=selected),\n",
    "               tooltip=list(confirmed_df.columns), \n",
    "               opacity=alt.condition(selection, alt.value(.8), alt.value(.05))\n",
    "            ).add_selection(selection)\n",
    "             .configure_point(size=200).properties(width=650, height=400)\n",
    "    )"
   ]
  },
  {
   "cell_type": "markdown",
   "metadata": {
    "papermill": {
     "duration": 0.005346,
     "end_time": "2020-03-25T05:04:15.078002",
     "exception": false,
     "start_time": "2020-03-25T05:04:15.072656",
     "status": "completed"
    },
    "tags": []
   },
   "source": [
    "## Argentina comparado con el resto del mundo\n",
    "\n",
    "**Shift + Click** sobre la leyenda para agregar o quitar paises"
   ]
  },
  {
   "cell_type": "code",
   "execution_count": 6,
   "metadata": {
    "papermill": {
     "duration": 0.087732,
     "end_time": "2020-03-25T05:04:15.172173",
     "exception": false,
     "start_time": "2020-03-25T05:04:15.084441",
     "status": "completed"
    },
    "tags": []
   },
   "outputs": [
    {
     "data": {
      "text/html": [
       "\n",
       "<div id=\"altair-viz-729b5beece394862b4bf48c37c3d24dc\"></div>\n",
       "<script type=\"text/javascript\">\n",
       "  (function(spec, embedOpt){\n",
       "    const outputDiv = document.getElementById(\"altair-viz-729b5beece394862b4bf48c37c3d24dc\");\n",
       "    const paths = {\n",
       "      \"vega\": \"https://cdn.jsdelivr.net/npm//vega@5?noext\",\n",
       "      \"vega-lib\": \"https://cdn.jsdelivr.net/npm//vega-lib?noext\",\n",
       "      \"vega-lite\": \"https://cdn.jsdelivr.net/npm//vega-lite@4.0.2?noext\",\n",
       "      \"vega-embed\": \"https://cdn.jsdelivr.net/npm//vega-embed@6?noext\",\n",
       "    };\n",
       "\n",
       "    function loadScript(lib) {\n",
       "      return new Promise(function(resolve, reject) {\n",
       "        var s = document.createElement('script');\n",
       "        s.src = paths[lib];\n",
       "        s.async = true;\n",
       "        s.onload = () => resolve(paths[lib]);\n",
       "        s.onerror = () => reject(`Error loading script: ${paths[lib]}`);\n",
       "        document.getElementsByTagName(\"head\")[0].appendChild(s);\n",
       "      });\n",
       "    }\n",
       "\n",
       "    function showError(err) {\n",
       "      outputDiv.innerHTML = `<div class=\"error\" style=\"color:red;\">${err}</div>`;\n",
       "      throw err;\n",
       "    }\n",
       "\n",
       "    function displayChart(vegaEmbed) {\n",
       "      vegaEmbed(outputDiv, spec, embedOpt)\n",
       "        .catch(err => showError(`Javascript Error: ${err.message}<br>This usually means there's a typo in your chart specification. See the javascript console for the full traceback.`));\n",
       "    }\n",
       "\n",
       "    if(typeof define === \"function\" && define.amd) {\n",
       "      requirejs.config({paths});\n",
       "      require([\"vega-embed\"], displayChart, err => showError(`Error loading script: ${err.message}`));\n",
       "    } else if (typeof vegaEmbed === \"function\") {\n",
       "      displayChart(vegaEmbed);\n",
       "    } else {\n",
       "      loadScript(\"vega\")\n",
       "        .then(() => loadScript(\"vega-lite\"))\n",
       "        .then(() => loadScript(\"vega-embed\"))\n",
       "        .catch(showError)\n",
       "        .then(() => displayChart(vegaEmbed));\n",
       "    }\n",
       "  })({\"config\": {\"view\": {\"continuousWidth\": 400, \"continuousHeight\": 300}, \"point\": {\"size\": 200}}, \"data\": {\"name\": \"data-707618dde10f5900b627c4e4300ee891\"}, \"mark\": {\"type\": \"line\", \"point\": true, \"radius\": 150}, \"encoding\": {\"color\": {\"type\": \"nominal\", \"field\": \"country\", \"sort\": [\"Argentina\", \"Japan\", \"China\", \"Italy\", \"US\"]}, \"opacity\": {\"condition\": {\"value\": 0.8, \"selection\": \"selector001\"}, \"value\": 0.05}, \"tooltip\": [{\"type\": \"temporal\", \"field\": \"date\"}, {\"type\": \"nominal\", \"field\": \"country\"}, {\"type\": \"quantitative\", \"field\": \"confirmed\"}, {\"type\": \"quantitative\", \"field\": \"rate\"}], \"x\": {\"type\": \"quantitative\", \"axis\": {\"title\": \"Confirmed Cases\"}, \"field\": \"confirmed\", \"scale\": {\"type\": \"log\"}}, \"y\": {\"type\": \"quantitative\", \"axis\": {\"title\": \"Rate of growth\"}, \"field\": \"rate\", \"scale\": {\"domain\": [0.95, 1.65]}}}, \"height\": 400, \"selection\": {\"selector001\": {\"type\": \"multi\", \"fields\": [\"country\"], \"bind\": \"legend\", \"init\": [{\"country\": \"Argentina\"}, {\"country\": \"Japan\"}, {\"country\": \"China\"}, {\"country\": \"Italy\"}, {\"country\": \"US\"}]}}, \"width\": 650, \"$schema\": \"https://vega.github.io/schema/vega-lite/v4.0.2.json\", \"datasets\": {\"data-707618dde10f5900b627c4e4300ee891\": [{\"date\": \"2020-03-13T00:00:00\", \"country\": \"Argentina\", \"confirmed\": 31, \"rate\": 1.319187675070028}, {\"date\": \"2020-03-14T00:00:00\", \"country\": \"Argentina\", \"confirmed\": 34, \"rate\": 1.2472982741483691}, {\"date\": \"2020-03-15T00:00:00\", \"country\": \"Argentina\", \"confirmed\": 45, \"rate\": 1.2220881901147558}, {\"date\": \"2020-03-16T00:00:00\", \"country\": \"Argentina\", \"confirmed\": 56, \"rate\": 1.2570088250353908}, {\"date\": \"2020-03-17T00:00:00\", \"country\": \"Argentina\", \"confirmed\": 68, \"rate\": 1.2280972604095406}, {\"date\": \"2020-03-18T00:00:00\", \"country\": \"Argentina\", \"confirmed\": 79, \"rate\": 1.234399781417944}, {\"date\": \"2020-03-19T00:00:00\", \"country\": \"Argentina\", \"confirmed\": 97, \"rate\": 1.2669495101702044}, {\"date\": \"2020-03-20T00:00:00\", \"country\": \"Argentina\", \"confirmed\": 128, \"rate\": 1.2268906000082016}, {\"date\": \"2020-03-21T00:00:00\", \"country\": \"Argentina\", \"confirmed\": 158, \"rate\": 1.2465478580727176}, {\"date\": \"2020-03-22T00:00:00\", \"country\": \"Argentina\", \"confirmed\": 225, \"rate\": 1.260908032522244}, {\"date\": \"2020-03-23T00:00:00\", \"country\": \"Argentina\", \"confirmed\": 225, \"rate\": 1.2259873976016091}, {\"date\": \"2020-03-10T00:00:00\", \"country\": \"Brazil\", \"confirmed\": 31, \"rate\": 1.3183516483516482}, {\"date\": \"2020-03-11T00:00:00\", \"country\": \"Brazil\", \"confirmed\": 38, \"rate\": 1.2648954271534918}, {\"date\": \"2020-03-12T00:00:00\", \"country\": \"Brazil\", \"confirmed\": 52, \"rate\": 1.3175270061008602}, {\"date\": \"2020-03-13T00:00:00\", \"country\": \"Brazil\", \"confirmed\": 151, \"rate\": 1.3175270061008602}, {\"date\": \"2020-03-14T00:00:00\", \"country\": \"Brazil\", \"confirmed\": 151, \"rate\": 1.3175270061008602}, {\"date\": \"2020-03-15T00:00:00\", \"country\": \"Brazil\", \"confirmed\": 162, \"rate\": 1.2510107409090983}, {\"date\": \"2020-03-16T00:00:00\", \"country\": \"Brazil\", \"confirmed\": 200, \"rate\": 1.2488061553711793}, {\"date\": \"2020-03-17T00:00:00\", \"country\": \"Brazil\", \"confirmed\": 321, \"rate\": 1.3002347267997507}, {\"date\": \"2020-03-18T00:00:00\", \"country\": \"Brazil\", \"confirmed\": 372, \"rate\": 1.2906735915226069}, {\"date\": \"2020-03-19T00:00:00\", \"country\": \"Brazil\", \"confirmed\": 621, \"rate\": 1.3237562982895241}, {\"date\": \"2020-03-20T00:00:00\", \"country\": \"Brazil\", \"confirmed\": 793, \"rate\": 1.2776095304036257}, {\"date\": \"2020-03-21T00:00:00\", \"country\": \"Brazil\", \"confirmed\": 1021, \"rate\": 1.3186832108215685}, {\"date\": \"2020-03-22T00:00:00\", \"country\": \"Brazil\", \"confirmed\": 1593, \"rate\": 1.38830997961355}, {\"date\": \"2020-03-23T00:00:00\", \"country\": \"Brazil\", \"confirmed\": 1593, \"rate\": 1.3548002794371832}, {\"date\": \"2020-03-13T00:00:00\", \"country\": \"Chile\", \"confirmed\": 43, \"rate\": 1.342857142857143}, {\"date\": \"2020-03-14T00:00:00\", \"country\": \"Chile\", \"confirmed\": 61, \"rate\": 1.4026578073089702}, {\"date\": \"2020-03-15T00:00:00\", \"country\": \"Chile\", \"confirmed\": 74, \"rate\": 1.3473884864658792}, {\"date\": \"2020-03-16T00:00:00\", \"country\": \"Chile\", \"confirmed\": 155, \"rate\": 1.4331027721801648}, {\"date\": \"2020-03-17T00:00:00\", \"country\": \"Chile\", \"confirmed\": 201, \"rate\": 1.3897847998299344}, {\"date\": \"2020-03-18T00:00:00\", \"country\": \"Chile\", \"confirmed\": 238, \"rate\": 1.3303676001142273}, {\"date\": \"2020-03-19T00:00:00\", \"country\": \"Chile\", \"confirmed\": 238, \"rate\": 1.3303676001142273}, {\"date\": \"2020-03-20T00:00:00\", \"country\": \"Chile\", \"confirmed\": 434, \"rate\": 1.3303676001142273}, {\"date\": \"2020-03-21T00:00:00\", \"country\": \"Chile\", \"confirmed\": 537, \"rate\": 1.3044708197966988}, {\"date\": \"2020-03-22T00:00:00\", \"country\": \"Chile\", \"confirmed\": 632, \"rate\": 1.2992985338294685}, {\"date\": \"2020-03-23T00:00:00\", \"country\": \"Chile\", \"confirmed\": 632, \"rate\": 1.2135842481151828}, {\"date\": \"2020-01-22T00:00:00\", \"country\": \"China\", \"confirmed\": 548, \"rate\": 1.6}, {\"date\": \"2020-01-23T00:00:00\", \"country\": \"China\", \"confirmed\": 643, \"rate\": 1.6}, {\"date\": \"2020-01-24T00:00:00\", \"country\": \"China\", \"confirmed\": 920, \"rate\": 1.6}, {\"date\": \"2020-01-25T00:00:00\", \"country\": \"China\", \"confirmed\": 1406, \"rate\": 1.6}, {\"date\": \"2020-01-26T00:00:00\", \"country\": \"China\", \"confirmed\": 2075, \"rate\": 1.6}, {\"date\": \"2020-01-27T00:00:00\", \"country\": \"China\", \"confirmed\": 2877, \"rate\": 1.6}, {\"date\": \"2020-01-28T00:00:00\", \"country\": \"China\", \"confirmed\": 5509, \"rate\": 1.6}, {\"date\": \"2020-01-29T00:00:00\", \"country\": \"China\", \"confirmed\": 6087, \"rate\": 1.3856649801781742}, {\"date\": \"2020-01-30T00:00:00\", \"country\": \"China\", \"confirmed\": 8141, \"rate\": 1.4091053776953708}, {\"date\": \"2020-01-31T00:00:00\", \"country\": \"China\", \"confirmed\": 9802, \"rate\": 1.376710496551296}, {\"date\": \"2020-02-01T00:00:00\", \"country\": \"China\", \"confirmed\": 11891, \"rate\": 1.331690339681295}, {\"date\": \"2020-02-02T00:00:00\", \"country\": \"China\", \"confirmed\": 16630, \"rate\": 1.3206501661453818}, {\"date\": \"2020-02-03T00:00:00\", \"country\": \"China\", \"confirmed\": 19716, \"rate\": 1.2919447698673738}, {\"date\": \"2020-02-04T00:00:00\", \"country\": \"China\", \"confirmed\": 23707, \"rate\": 1.235148259419007}, {\"date\": \"2020-02-05T00:00:00\", \"country\": \"China\", \"confirmed\": 27440, \"rate\": 1.2426546618572105}, {\"date\": \"2020-02-06T00:00:00\", \"country\": \"China\", \"confirmed\": 30587, \"rate\": 1.2108326821525435}, {\"date\": \"2020-02-07T00:00:00\", \"country\": \"China\", \"confirmed\": 34110, \"rate\": 1.198139919640864}, {\"date\": \"2020-02-08T00:00:00\", \"country\": \"China\", \"confirmed\": 36814, \"rate\": 1.1790189437853569}, {\"date\": \"2020-02-09T00:00:00\", \"country\": \"China\", \"confirmed\": 39829, \"rate\": 1.1337848698525972}, {\"date\": \"2020-02-10T00:00:00\", \"country\": \"China\", \"confirmed\": 42354, \"rate\": 1.1163316938278143}, {\"date\": \"2020-02-11T00:00:00\", \"country\": \"China\", \"confirmed\": 44386, \"rate\": 1.094267715470941}, {\"date\": \"2020-02-12T00:00:00\", \"country\": \"China\", \"confirmed\": 44759, \"rate\": 1.0729733598298288}, {\"date\": \"2020-02-13T00:00:00\", \"country\": \"China\", \"confirmed\": 59895, \"rate\": 1.1048990793705828}, {\"date\": \"2020-02-14T00:00:00\", \"country\": \"China\", \"confirmed\": 66358, \"rate\": 1.1038599150574409}, {\"date\": \"2020-02-15T00:00:00\", \"country\": \"China\", \"confirmed\": 68413, \"rate\": 1.0969592640759382}, {\"date\": \"2020-02-16T00:00:00\", \"country\": \"China\", \"confirmed\": 70513, \"rate\": 1.0896446539988496}, {\"date\": \"2020-02-17T00:00:00\", \"country\": \"China\", \"confirmed\": 72434, \"rate\": 1.0844799661994333}, {\"date\": \"2020-02-18T00:00:00\", \"country\": \"China\", \"confirmed\": 74211, \"rate\": 1.0811308375795494}, {\"date\": \"2020-02-19T00:00:00\", \"country\": \"China\", \"confirmed\": 74619, \"rate\": 1.0807157356622235}, {\"date\": \"2020-02-20T00:00:00\", \"country\": \"China\", \"confirmed\": 75077, \"rate\": 1.0332830529797241}, {\"date\": \"2020-02-21T00:00:00\", \"country\": \"China\", \"confirmed\": 75550, \"rate\": 1.0187680097181497}, {\"date\": \"2020-02-22T00:00:00\", \"country\": \"China\", \"confirmed\": 77001, \"rate\": 1.01708764405265}, {\"date\": \"2020-02-23T00:00:00\", \"country\": \"China\", \"confirmed\": 77022, \"rate\": 1.0127414731047713}, {\"date\": \"2020-02-24T00:00:00\", \"country\": \"China\", \"confirmed\": 77241, \"rate\": 1.0092557788303957}, {\"date\": \"2020-02-25T00:00:00\", \"country\": \"China\", \"confirmed\": 77754, \"rate\": 1.006699903465791}, {\"date\": \"2020-02-26T00:00:00\", \"country\": \"China\", \"confirmed\": 78166, \"rate\": 1.006671464253901}, {\"date\": \"2020-02-27T00:00:00\", \"country\": \"China\", \"confirmed\": 78600, \"rate\": 1.0065878127154948}, {\"date\": \"2020-02-28T00:00:00\", \"country\": \"China\", \"confirmed\": 78928, \"rate\": 1.0062839312193392}, {\"date\": \"2020-02-29T00:00:00\", \"country\": \"China\", \"confirmed\": 79356, \"rate\": 1.0043149083244605}, {\"date\": \"2020-03-01T00:00:00\", \"country\": \"China\", \"confirmed\": 79932, \"rate\": 1.0053128664149706}, {\"date\": \"2020-03-02T00:00:00\", \"country\": \"China\", \"confirmed\": 80136, \"rate\": 1.0052712701126325}, {\"date\": \"2020-03-03T00:00:00\", \"country\": \"China\", \"confirmed\": 80261, \"rate\": 1.0045453126534984}, {\"date\": \"2020-03-04T00:00:00\", \"country\": \"China\", \"confirmed\": 80386, \"rate\": 1.0040108349615207}, {\"date\": \"2020-03-05T00:00:00\", \"country\": \"China\", \"confirmed\": 80537, \"rate\": 1.003485999302014}, {\"date\": \"2020-03-06T00:00:00\", \"country\": \"China\", \"confirmed\": 80690, \"rate\": 1.0031612450094596}, {\"date\": \"2020-03-07T00:00:00\", \"country\": \"China\", \"confirmed\": 80770, \"rate\": 1.002528214303888}, {\"date\": \"2020-03-08T00:00:00\", \"country\": \"China\", \"confirmed\": 80823, \"rate\": 1.0015850362842282}, {\"date\": \"2020-03-09T00:00:00\", \"country\": \"China\", \"confirmed\": 80860, \"rate\": 1.001285839303727}, {\"date\": \"2020-03-10T00:00:00\", \"country\": \"China\", \"confirmed\": 80887, \"rate\": 1.0011107053329504}, {\"date\": \"2020-03-11T00:00:00\", \"country\": \"China\", \"confirmed\": 80921, \"rate\": 1.00094826541369}, {\"date\": \"2020-03-12T00:00:00\", \"country\": \"China\", \"confirmed\": 80932, \"rate\": 1.0006993366285595}, {\"date\": \"2020-03-13T00:00:00\", \"country\": \"China\", \"confirmed\": 80945, \"rate\": 1.000450891019129}, {\"date\": \"2020-03-14T00:00:00\", \"country\": \"China\", \"confirmed\": 80977, \"rate\": 1.0003657312202667}, {\"date\": \"2020-03-15T00:00:00\", \"country\": \"China\", \"confirmed\": 81003, \"rate\": 1.000317859019986}, {\"date\": \"2020-03-16T00:00:00\", \"country\": \"China\", \"confirmed\": 81033, \"rate\": 1.0003053684732752}, {\"date\": \"2020-03-17T00:00:00\", \"country\": \"China\", \"confirmed\": 81058, \"rate\": 1.0003017407334125}, {\"date\": \"2020-03-18T00:00:00\", \"country\": \"China\", \"confirmed\": 81102, \"rate\": 1.000319238119672}, {\"date\": \"2020-03-19T00:00:00\", \"country\": \"China\", \"confirmed\": 81156, \"rate\": 1.0003949371437517}, {\"date\": \"2020-03-20T00:00:00\", \"country\": \"China\", \"confirmed\": 81250, \"rate\": 1.000537456346938}, {\"date\": \"2020-03-21T00:00:00\", \"country\": \"China\", \"confirmed\": 81305, \"rate\": 1.0005776839061478}, {\"date\": \"2020-03-22T00:00:00\", \"country\": \"China\", \"confirmed\": 81397, \"rate\": 1.0006934643205405}, {\"date\": \"2020-03-23T00:00:00\", \"country\": \"China\", \"confirmed\": 81439, \"rate\": 1.0007142690175872}, {\"date\": \"2020-03-15T00:00:00\", \"country\": \"Colombia\", \"confirmed\": 34, \"rate\": 1.3985569985569983}, {\"date\": \"2020-03-16T00:00:00\", \"country\": \"Colombia\", \"confirmed\": 54, \"rate\": 1.4825906120023764}, {\"date\": \"2020-03-17T00:00:00\", \"country\": \"Colombia\", \"confirmed\": 65, \"rate\": 1.42597685538862}, {\"date\": \"2020-03-18T00:00:00\", \"country\": \"Colombia\", \"confirmed\": 93, \"rate\": 1.401801031212796}, {\"date\": \"2020-03-19T00:00:00\", \"country\": \"Colombia\", \"confirmed\": 102, \"rate\": 1.4156259160054228}, {\"date\": \"2020-03-20T00:00:00\", \"country\": \"Colombia\", \"confirmed\": 128, \"rate\": 1.3885484183396897}, {\"date\": \"2020-03-21T00:00:00\", \"country\": \"Colombia\", \"confirmed\": 196, \"rate\": 1.378726989768261}, {\"date\": \"2020-03-22T00:00:00\", \"country\": \"Colombia\", \"confirmed\": 231, \"rate\": 1.326315115927816}, {\"date\": \"2020-03-23T00:00:00\", \"country\": \"Colombia\", \"confirmed\": 231, \"rate\": 1.2422815024824378}, {\"date\": \"2020-03-16T00:00:00\", \"country\": \"Costa Rica\", \"confirmed\": 35, \"rate\": 1.2221559438950744}, {\"date\": \"2020-03-17T00:00:00\", \"country\": \"Costa Rica\", \"confirmed\": 41, \"rate\": 1.2466457398134416}, {\"date\": \"2020-03-18T00:00:00\", \"country\": \"Costa Rica\", \"confirmed\": 50, \"rate\": 1.2145125613387997}, {\"date\": \"2020-03-19T00:00:00\", \"country\": \"Costa Rica\", \"confirmed\": 69, \"rate\": 1.1830839899102283}, {\"date\": \"2020-03-20T00:00:00\", \"country\": \"Costa Rica\", \"confirmed\": 89, \"rate\": 1.217998350911546}, {\"date\": \"2020-03-21T00:00:00\", \"country\": \"Costa Rica\", \"confirmed\": 117, \"rate\": 1.2443086307635942}, {\"date\": \"2020-03-22T00:00:00\", \"country\": \"Costa Rica\", \"confirmed\": 134, \"rate\": 1.2595711460261094}, {\"date\": \"2020-03-23T00:00:00\", \"country\": \"Costa Rica\", \"confirmed\": 134, \"rate\": 1.217243103698067}, {\"date\": \"2020-03-22T00:00:00\", \"country\": \"Cuba\", \"confirmed\": 35, \"rate\": 1.3697820037105752}, {\"date\": \"2020-03-23T00:00:00\", \"country\": \"Cuba\", \"confirmed\": 35, \"rate\": 1.3697820037105752}, {\"date\": \"2020-03-19T00:00:00\", \"country\": \"Dominican Republic\", \"confirmed\": 34, \"rate\": 1.257142857142857}, {\"date\": \"2020-03-20T00:00:00\", \"country\": \"Dominican Republic\", \"confirmed\": 72, \"rate\": 1.3428571428571427}, {\"date\": \"2020-03-21T00:00:00\", \"country\": \"Dominican Republic\", \"confirmed\": 112, \"rate\": 1.3365079365079364}, {\"date\": \"2020-03-22T00:00:00\", \"country\": \"Dominican Republic\", \"confirmed\": 202, \"rate\": 1.422222222222222}, {\"date\": \"2020-03-23T00:00:00\", \"country\": \"Dominican Republic\", \"confirmed\": 202, \"rate\": 1.422222222222222}, {\"date\": \"2020-03-16T00:00:00\", \"country\": \"Ecuador\", \"confirmed\": 37, \"rate\": 1.1506802721088436}, {\"date\": \"2020-03-17T00:00:00\", \"country\": \"Ecuador\", \"confirmed\": 58, \"rate\": 1.2317613531899245}, {\"date\": \"2020-03-18T00:00:00\", \"country\": \"Ecuador\", \"confirmed\": 111, \"rate\": 1.2984280198565912}, {\"date\": \"2020-03-19T00:00:00\", \"country\": \"Ecuador\", \"confirmed\": 199, \"rate\": 1.384142305570877}, {\"date\": \"2020-03-20T00:00:00\", \"country\": \"Ecuador\", \"confirmed\": 367, \"rate\": 1.4698565912851627}, {\"date\": \"2020-03-21T00:00:00\", \"country\": \"Ecuador\", \"confirmed\": 506, \"rate\": 1.4382489618573697}, {\"date\": \"2020-03-22T00:00:00\", \"country\": \"Ecuador\", \"confirmed\": 789, \"rate\": 1.5181473243644277}, {\"date\": \"2020-03-23T00:00:00\", \"country\": \"Ecuador\", \"confirmed\": 789, \"rate\": 1.472228957017489}, {\"date\": \"2020-02-27T00:00:00\", \"country\": \"France\", \"confirmed\": 38, \"rate\": 1.1503401360544214}, {\"date\": \"2020-02-28T00:00:00\", \"country\": \"France\", \"confirmed\": 57, \"rate\": 1.2217687074829928}, {\"date\": \"2020-02-29T00:00:00\", \"country\": \"France\", \"confirmed\": 100, \"rate\": 1.3074829931972787}, {\"date\": \"2020-03-01T00:00:00\", \"country\": \"France\", \"confirmed\": 130, \"rate\": 1.3503401360544216}, {\"date\": \"2020-03-02T00:00:00\", \"country\": \"France\", \"confirmed\": 191, \"rate\": 1.4173731030873886}, {\"date\": \"2020-03-03T00:00:00\", \"country\": \"France\", \"confirmed\": 204, \"rate\": 1.4032868403100263}, {\"date\": \"2020-03-04T00:00:00\", \"country\": \"France\", \"confirmed\": 288, \"rate\": 1.4212940431911787}, {\"date\": \"2020-03-05T00:00:00\", \"country\": \"France\", \"confirmed\": 380, \"rate\": 1.3812146781118138}, {\"date\": \"2020-03-06T00:00:00\", \"country\": \"France\", \"confirmed\": 656, \"rate\": 1.395500392397528}, {\"date\": \"2020-03-07T00:00:00\", \"country\": \"France\", \"confirmed\": 957, \"rate\": 1.3753348871710471}, {\"date\": \"2020-03-08T00:00:00\", \"country\": \"France\", \"confirmed\": 1134, \"rate\": 1.3588995983219652}, {\"date\": \"2020-03-09T00:00:00\", \"country\": \"France\", \"confirmed\": 1217, \"rate\": 1.3023226655545561}, {\"date\": \"2020-03-10T00:00:00\", \"country\": \"France\", \"confirmed\": 1792, \"rate\": 1.360095589520634}, {\"date\": \"2020-03-11T00:00:00\", \"country\": \"France\", \"confirmed\": 2290, \"rate\": 1.34097231521091}, {\"date\": \"2020-03-12T00:00:00\", \"country\": \"France\", \"confirmed\": 2290, \"rate\": 1.2953373945759894}, {\"date\": \"2020-03-13T00:00:00\", \"country\": \"France\", \"confirmed\": 3678, \"rate\": 1.2953373945759894}, {\"date\": \"2020-03-14T00:00:00\", \"country\": \"France\", \"confirmed\": 4487, \"rate\": 1.2612109709591548}, {\"date\": \"2020-03-15T00:00:00\", \"country\": \"France\", \"confirmed\": 4523, \"rate\": 1.2359352852468053}, {\"date\": \"2020-03-16T00:00:00\", \"country\": \"France\", \"confirmed\": 6668, \"rate\": 1.2932282165856184}, {\"date\": \"2020-03-17T00:00:00\", \"country\": \"France\", \"confirmed\": 7699, \"rate\": 1.2478204710423455}, {\"date\": \"2020-03-18T00:00:00\", \"country\": \"France\", \"confirmed\": 9105, \"rate\": 1.234208947315437}, {\"date\": \"2020-03-19T00:00:00\", \"country\": \"France\", \"confirmed\": 10947, \"rate\": 1.2631098651784636}, {\"date\": \"2020-03-20T00:00:00\", \"country\": \"France\", \"confirmed\": 12726, \"rate\": 1.200611333291058}, {\"date\": \"2020-03-21T00:00:00\", \"country\": \"France\", \"confirmed\": 14431, \"rate\": 1.1883286454890354}, {\"date\": \"2020-03-22T00:00:00\", \"country\": \"France\", \"confirmed\": 16176, \"rate\": 1.2044567973572569}, {\"date\": \"2020-03-23T00:00:00\", \"country\": \"France\", \"confirmed\": 16044, \"rate\": 1.1355420835544965}, {\"date\": \"2020-02-27T00:00:00\", \"country\": \"Germany\", \"confirmed\": 46, \"rate\": 1.1786764705882358}, {\"date\": \"2020-02-28T00:00:00\", \"country\": \"Germany\", \"confirmed\": 48, \"rate\": 1.1848876507124593}, {\"date\": \"2020-02-29T00:00:00\", \"country\": \"Germany\", \"confirmed\": 79, \"rate\": 1.270601936426745}, {\"date\": \"2020-03-01T00:00:00\", \"country\": \"Germany\", \"confirmed\": 130, \"rate\": 1.3563162221410305}, {\"date\": \"2020-03-02T00:00:00\", \"country\": \"Germany\", \"confirmed\": 159, \"rate\": 1.3881843540091623}, {\"date\": \"2020-03-03T00:00:00\", \"country\": \"Germany\", \"confirmed\": 196, \"rate\": 1.4124992686542657}, {\"date\": \"2020-03-04T00:00:00\", \"country\": \"Germany\", \"confirmed\": 262, \"rate\": 1.3765706114771092}, {\"date\": \"2020-03-05T00:00:00\", \"country\": \"Germany\", \"confirmed\": 482, \"rate\": 1.3765706114771092}, {\"date\": \"2020-03-06T00:00:00\", \"country\": \"Germany\", \"confirmed\": 670, \"rate\": 1.4260796447494477}, {\"date\": \"2020-03-07T00:00:00\", \"country\": \"Germany\", \"confirmed\": 799, \"rate\": 1.367870689525567}, {\"date\": \"2020-03-08T00:00:00\", \"country\": \"Germany\", \"confirmed\": 1040, \"rate\": 1.3252459800673155}, {\"date\": \"2020-03-09T00:00:00\", \"country\": \"Germany\", \"confirmed\": 1176, \"rate\": 1.3120591668805024}, {\"date\": \"2020-03-10T00:00:00\", \"country\": \"Germany\", \"confirmed\": 1457, \"rate\": 1.312950763411298}, {\"date\": \"2020-03-11T00:00:00\", \"country\": \"Germany\", \"confirmed\": 1908, \"rate\": 1.3090658287138186}, {\"date\": \"2020-03-12T00:00:00\", \"country\": \"Germany\", \"confirmed\": 2078, \"rate\": 1.2360799047844986}, {\"date\": \"2020-03-13T00:00:00\", \"country\": \"Germany\", \"confirmed\": 3675, \"rate\": 1.2660739771022222}, {\"date\": \"2020-03-14T00:00:00\", \"country\": \"Germany\", \"confirmed\": 4585, \"rate\": 1.2739427962716812}, {\"date\": \"2020-03-15T00:00:00\", \"country\": \"Germany\", \"confirmed\": 5795, \"rate\": 1.2685537964294185}, {\"date\": \"2020-03-16T00:00:00\", \"country\": \"Germany\", \"confirmed\": 7272, \"rate\": 1.286283176626443}, {\"date\": \"2020-03-17T00:00:00\", \"country\": \"Germany\", \"confirmed\": 9257, \"rate\": 1.2911430649476368}, {\"date\": \"2020-03-18T00:00:00\", \"country\": \"Germany\", \"confirmed\": 12327, \"rate\": 1.294300317717548}, {\"date\": \"2020-03-19T00:00:00\", \"country\": \"Germany\", \"confirmed\": 15320, \"rate\": 1.3162577212097324}, {\"date\": \"2020-03-20T00:00:00\", \"country\": \"Germany\", \"confirmed\": 19848, \"rate\": 1.2727664865957826}, {\"date\": \"2020-03-21T00:00:00\", \"country\": \"Germany\", \"confirmed\": 22213, \"rate\": 1.2544145629968386}, {\"date\": \"2020-03-22T00:00:00\", \"country\": \"Germany\", \"confirmed\": 24873, \"rate\": 1.2338210860293373}, {\"date\": \"2020-03-23T00:00:00\", \"country\": \"Germany\", \"confirmed\": 24873, \"rate\": 1.1974103871509938}, {\"date\": \"2020-02-23T00:00:00\", \"country\": \"Iran\", \"confirmed\": 43, \"rate\": 1.6}, {\"date\": \"2020-02-24T00:00:00\", \"country\": \"Iran\", \"confirmed\": 61, \"rate\": 1.6}, {\"date\": \"2020-02-25T00:00:00\", \"country\": \"Iran\", \"confirmed\": 95, \"rate\": 1.5524645059447086}, {\"date\": \"2020-02-26T00:00:00\", \"country\": \"Iran\", \"confirmed\": 139, \"rate\": 1.5329156337642575}, {\"date\": \"2020-02-27T00:00:00\", \"country\": \"Iran\", \"confirmed\": 245, \"rate\": 1.5329156337642575}, {\"date\": \"2020-02-28T00:00:00\", \"country\": \"Iran\", \"confirmed\": 388, \"rate\": 1.5305832722482224}, {\"date\": \"2020-02-29T00:00:00\", \"country\": \"Iran\", \"confirmed\": 593, \"rate\": 1.5266968379494172}, {\"date\": \"2020-03-01T00:00:00\", \"country\": \"Iran\", \"confirmed\": 978, \"rate\": 1.5358805114188048}, {\"date\": \"2020-03-02T00:00:00\", \"country\": \"Iran\", \"confirmed\": 1501, \"rate\": 1.5524748221349587}, {\"date\": \"2020-03-03T00:00:00\", \"country\": \"Iran\", \"confirmed\": 2336, \"rate\": 1.5523203583660738}, {\"date\": \"2020-03-04T00:00:00\", \"country\": \"Iran\", \"confirmed\": 2922, \"rate\": 1.5219915397441766}, {\"date\": \"2020-03-05T00:00:00\", \"country\": \"Iran\", \"confirmed\": 3513, \"rate\": 1.46517135787266}, {\"date\": \"2020-03-06T00:00:00\", \"country\": \"Iran\", \"confirmed\": 4747, \"rate\": 1.4319703941884185}, {\"date\": \"2020-03-07T00:00:00\", \"country\": \"Iran\", \"confirmed\": 5823, \"rate\": 1.3888731027590282}, {\"date\": \"2020-03-08T00:00:00\", \"country\": \"Iran\", \"confirmed\": 6566, \"rate\": 1.3213870253811424}, {\"date\": \"2020-03-09T00:00:00\", \"country\": \"Iran\", \"confirmed\": 7161, \"rate\": 1.2579375269113033}, {\"date\": \"2020-03-10T00:00:00\", \"country\": \"Iran\", \"confirmed\": 8042, \"rate\": 1.1960420565293248}, {\"date\": \"2020-03-11T00:00:00\", \"country\": \"Iran\", \"confirmed\": 9000, \"rate\": 1.1772232610276263}, {\"date\": \"2020-03-12T00:00:00\", \"country\": \"Iran\", \"confirmed\": 10075, \"rate\": 1.1653926492483495}, {\"date\": \"2020-03-13T00:00:00\", \"country\": \"Iran\", \"confirmed\": 11364, \"rate\": 1.1334888953986437}, {\"date\": \"2020-03-14T00:00:00\", \"country\": \"Iran\", \"confirmed\": 12729, \"rate\": 1.1182669926593314}, {\"date\": \"2020-03-15T00:00:00\", \"country\": \"Iran\", \"confirmed\": 13938, \"rate\": 1.113607351037857}, {\"date\": \"2020-03-16T00:00:00\", \"country\": \"Iran\", \"confirmed\": 14991, \"rate\": 1.111454568515965}, {\"date\": \"2020-03-17T00:00:00\", \"country\": \"Iran\", \"confirmed\": 16169, \"rate\": 1.1051049930156824}, {\"date\": \"2020-03-18T00:00:00\", \"country\": \"Iran\", \"confirmed\": 17361, \"rate\": 1.0986188105443828}, {\"date\": \"2020-03-19T00:00:00\", \"country\": \"Iran\", \"confirmed\": 18407, \"rate\": 1.0901624592808774}, {\"date\": \"2020-03-20T00:00:00\", \"country\": \"Iran\", \"confirmed\": 19644, \"rate\": 1.0814856375632949}, {\"date\": \"2020-03-21T00:00:00\", \"country\": \"Iran\", \"confirmed\": 20610, \"rate\": 1.0713512324812398}, {\"date\": \"2020-03-22T00:00:00\", \"country\": \"Iran\", \"confirmed\": 21638, \"rate\": 1.064908194289223}, {\"date\": \"2020-03-23T00:00:00\", \"country\": \"Iran\", \"confirmed\": 21638, \"rate\": 1.054115500112973}, {\"date\": \"2020-02-22T00:00:00\", \"country\": \"Italy\", \"confirmed\": 62, \"rate\": 1.1714285714285713}, {\"date\": \"2020-02-23T00:00:00\", \"country\": \"Italy\", \"confirmed\": 155, \"rate\": 1.257142857142857}, {\"date\": \"2020-02-24T00:00:00\", \"country\": \"Italy\", \"confirmed\": 229, \"rate\": 1.3253456221198157}, {\"date\": \"2020-02-25T00:00:00\", \"country\": \"Italy\", \"confirmed\": 322, \"rate\": 1.3833618417080875}, {\"date\": \"2020-02-26T00:00:00\", \"country\": \"Italy\", \"confirmed\": 453, \"rate\": 1.4414807414418942}, {\"date\": \"2020-02-27T00:00:00\", \"country\": \"Italy\", \"confirmed\": 655, \"rate\": 1.5051830435547922}, {\"date\": \"2020-02-28T00:00:00\", \"country\": \"Italy\", \"confirmed\": 888, \"rate\": 1.4702866422461771}, {\"date\": \"2020-02-29T00:00:00\", \"country\": \"Italy\", \"confirmed\": 1128, \"rate\": 1.42318239514193}, {\"date\": \"2020-03-01T00:00:00\", \"country\": \"Italy\", \"confirmed\": 1694, \"rate\": 1.4091499736627}, {\"date\": \"2020-03-02T00:00:00\", \"country\": \"Italy\", \"confirmed\": 2036, \"rate\": 1.3697884972672898}, {\"date\": \"2020-03-03T00:00:00\", \"country\": \"Italy\", \"confirmed\": 2502, \"rate\": 1.3444694429891497}, {\"date\": \"2020-03-04T00:00:00\", \"country\": \"Italy\", \"confirmed\": 3089, \"rate\": 1.3198665875627544}, {\"date\": \"2020-03-05T00:00:00\", \"country\": \"Italy\", \"confirmed\": 3858, \"rate\": 1.2917282682459528}, {\"date\": \"2020-03-06T00:00:00\", \"country\": \"Italy\", \"confirmed\": 4636, \"rate\": 1.2697187967855537}, {\"date\": \"2020-03-07T00:00:00\", \"country\": \"Italy\", \"confirmed\": 5883, \"rate\": 1.2695347411657776}, {\"date\": \"2020-03-08T00:00:00\", \"country\": \"Italy\", \"confirmed\": 7375, \"rate\": 1.2340831773119656}, {\"date\": \"2020-03-09T00:00:00\", \"country\": \"Italy\", \"confirmed\": 9172, \"rate\": 1.240050605437439}, {\"date\": \"2020-03-10T00:00:00\", \"country\": \"Italy\", \"confirmed\": 10149, \"rate\": 1.2225705605559407}, {\"date\": \"2020-03-11T00:00:00\", \"country\": \"Italy\", \"confirmed\": 12462, \"rate\": 1.2216122629653068}, {\"date\": \"2020-03-12T00:00:00\", \"country\": \"Italy\", \"confirmed\": 12462, \"rate\": 1.18604828016921}, {\"date\": \"2020-03-13T00:00:00\", \"country\": \"Italy\", \"confirmed\": 17660, \"rate\": 1.2168267255589915}, {\"date\": \"2020-03-14T00:00:00\", \"country\": \"Italy\", \"confirmed\": 21157, \"rate\": 1.2066890454323431}, {\"date\": \"2020-03-15T00:00:00\", \"country\": \"Italy\", \"confirmed\": 24747, \"rate\": 1.1946992868508415}, {\"date\": \"2020-03-16T00:00:00\", \"country\": \"Italy\", \"confirmed\": 27980, \"rate\": 1.1785537270055462}, {\"date\": \"2020-03-17T00:00:00\", \"country\": \"Italy\", \"confirmed\": 31506, \"rate\": 1.1813392615345353}, {\"date\": \"2020-03-18T00:00:00\", \"country\": \"Italy\", \"confirmed\": 35713, \"rate\": 1.1678572464244361}, {\"date\": \"2020-03-19T00:00:00\", \"country\": \"Italy\", \"confirmed\": 41035, \"rate\": 1.1891460128200264}, {\"date\": \"2020-03-20T00:00:00\", \"country\": \"Italy\", \"confirmed\": 47021, \"rate\": 1.15039850765039}, {\"date\": \"2020-03-21T00:00:00\", \"country\": \"Italy\", \"confirmed\": 53578, \"rate\": 1.14203139501485}, {\"date\": \"2020-03-22T00:00:00\", \"country\": \"Italy\", \"confirmed\": 59138, \"rate\": 1.1326157013670681}, {\"date\": \"2020-03-23T00:00:00\", \"country\": \"Italy\", \"confirmed\": 59138, \"rate\": 1.1139525445053418}, {\"date\": \"2020-02-06T00:00:00\", \"country\": \"Japan\", \"confirmed\": 45, \"rate\": 1.1995670995670997}, {\"date\": \"2020-02-15T00:00:00\", \"country\": \"Japan\", \"confirmed\": 43, \"rate\": 1.0907708547610029}, {\"date\": \"2020-02-16T00:00:00\", \"country\": \"Japan\", \"confirmed\": 59, \"rate\": 1.1382127152261192}, {\"date\": \"2020-02-17T00:00:00\", \"country\": \"Japan\", \"confirmed\": 66, \"rate\": 1.155161867768492}, {\"date\": \"2020-02-18T00:00:00\", \"country\": \"Japan\", \"confirmed\": 74, \"rate\": 1.1724778850845095}, {\"date\": \"2020-02-19T00:00:00\", \"country\": \"Japan\", \"confirmed\": 84, \"rate\": 1.1807938934005178}, {\"date\": \"2020-02-20T00:00:00\", \"country\": \"Japan\", \"confirmed\": 94, \"rate\": 1.1978006961216061}, {\"date\": \"2020-02-21T00:00:00\", \"country\": \"Japan\", \"confirmed\": 105, \"rate\": 1.2094159805332432}, {\"date\": \"2020-02-22T00:00:00\", \"country\": \"Japan\", \"confirmed\": 122, \"rate\": 1.163579714992544}, {\"date\": \"2020-02-23T00:00:00\", \"country\": \"Japan\", \"confirmed\": 147, \"rate\": 1.1396975734969828}, {\"date\": \"2020-02-24T00:00:00\", \"country\": \"Japan\", \"confirmed\": 159, \"rate\": 1.134410228534785}, {\"date\": \"2020-02-25T00:00:00\", \"country\": \"Japan\", \"confirmed\": 170, \"rate\": 1.1269774097812115}, {\"date\": \"2020-02-26T00:00:00\", \"country\": \"Japan\", \"confirmed\": 189, \"rate\": 1.123638777030814}, {\"date\": \"2020-02-27T00:00:00\", \"country\": \"Japan\", \"confirmed\": 214, \"rate\": 1.1255284217776018}, {\"date\": \"2020-02-28T00:00:00\", \"country\": \"Japan\", \"confirmed\": 228, \"rate\": 1.1181568909421615}, {\"date\": \"2020-02-29T00:00:00\", \"country\": \"Japan\", \"confirmed\": 241, \"rate\": 1.1031730026500024}, {\"date\": \"2020-03-01T00:00:00\", \"country\": \"Japan\", \"confirmed\": 256, \"rate\": 1.0827905213805067}, {\"date\": \"2020-03-02T00:00:00\", \"country\": \"Japan\", \"confirmed\": 274, \"rate\": 1.0811733566574746}, {\"date\": \"2020-03-03T00:00:00\", \"country\": \"Japan\", \"confirmed\": 293, \"rate\": 1.0811963103369495}, {\"date\": \"2020-03-04T00:00:00\", \"country\": \"Japan\", \"confirmed\": 331, \"rate\": 1.0837574713201141}, {\"date\": \"2020-03-05T00:00:00\", \"country\": \"Japan\", \"confirmed\": 360, \"rate\": 1.077377208573861}, {\"date\": \"2020-03-06T00:00:00\", \"country\": \"Japan\", \"confirmed\": 420, \"rate\": 1.0918409379908616}, {\"date\": \"2020-03-07T00:00:00\", \"country\": \"Japan\", \"confirmed\": 461, \"rate\": 1.097641152813633}, {\"date\": \"2020-03-08T00:00:00\", \"country\": \"Japan\", \"confirmed\": 502, \"rate\": 1.1014549284386435}, {\"date\": \"2020-03-09T00:00:00\", \"country\": \"Japan\", \"confirmed\": 511, \"rate\": 1.0939714694175848}, {\"date\": \"2020-03-10T00:00:00\", \"country\": \"Japan\", \"confirmed\": 581, \"rate\": 1.103634788799932}, {\"date\": \"2020-03-11T00:00:00\", \"country\": \"Japan\", \"confirmed\": 639, \"rate\": 1.0993683673993477}, {\"date\": \"2020-03-12T00:00:00\", \"country\": \"Japan\", \"confirmed\": 639, \"rate\": 1.0868521826777249}, {\"date\": \"2020-03-13T00:00:00\", \"country\": \"Japan\", \"confirmed\": 701, \"rate\": 1.0769036023066092}, {\"date\": \"2020-03-14T00:00:00\", \"country\": \"Japan\", \"confirmed\": 773, \"rate\": 1.0776309403174198}, {\"date\": \"2020-03-15T00:00:00\", \"country\": \"Japan\", \"confirmed\": 839, \"rate\": 1.077123016994198}, {\"date\": \"2020-03-16T00:00:00\", \"country\": \"Japan\", \"confirmed\": 825, \"rate\": 1.0721780429316539}, {\"date\": \"2020-03-17T00:00:00\", \"country\": \"Japan\", \"confirmed\": 878, \"rate\": 1.061786060484877}, {\"date\": \"2020-03-18T00:00:00\", \"country\": \"Japan\", \"confirmed\": 889, \"rate\": 1.0493147163196892}, {\"date\": \"2020-03-19T00:00:00\", \"country\": \"Japan\", \"confirmed\": 924, \"rate\": 1.054939013282569}, {\"date\": \"2020-03-20T00:00:00\", \"country\": \"Japan\", \"confirmed\": 963, \"rate\": 1.0471077544452738}, {\"date\": \"2020-03-21T00:00:00\", \"country\": \"Japan\", \"confirmed\": 1007, \"rate\": 1.038962059683663}, {\"date\": \"2020-03-22T00:00:00\", \"country\": \"Japan\", \"confirmed\": 1086, \"rate\": 1.0379719474091522}, {\"date\": \"2020-03-23T00:00:00\", \"country\": \"Japan\", \"confirmed\": 1086, \"rate\": 1.0403557376356125}, {\"date\": \"2020-03-15T00:00:00\", \"country\": \"Mexico\", \"confirmed\": 41, \"rate\": 1.2599686028257455}, {\"date\": \"2020-03-16T00:00:00\", \"country\": \"Mexico\", \"confirmed\": 53, \"rate\": 1.301780449515641}, {\"date\": \"2020-03-17T00:00:00\", \"country\": \"Mexico\", \"confirmed\": 82, \"rate\": 1.379947565418606}, {\"date\": \"2020-03-18T00:00:00\", \"country\": \"Mexico\", \"confirmed\": 93, \"rate\": 1.378703165219502}, {\"date\": \"2020-03-19T00:00:00\", \"country\": \"Mexico\", \"confirmed\": 118, \"rate\": 1.3456770515482273}, {\"date\": \"2020-03-20T00:00:00\", \"country\": \"Mexico\", \"confirmed\": 164, \"rate\": 1.4013671241874524}, {\"date\": \"2020-03-21T00:00:00\", \"country\": \"Mexico\", \"confirmed\": 203, \"rate\": 1.3496249639087068}, {\"date\": \"2020-03-22T00:00:00\", \"country\": \"Mexico\", \"confirmed\": 251, \"rate\": 1.300986410344045}, {\"date\": \"2020-03-23T00:00:00\", \"country\": \"Mexico\", \"confirmed\": 251, \"rate\": 1.2591745636541494}, {\"date\": \"2020-03-14T00:00:00\", \"country\": \"Panama\", \"confirmed\": 36, \"rate\": 1.6}, {\"date\": \"2020-03-15T00:00:00\", \"country\": \"Panama\", \"confirmed\": 43, \"rate\": 1.6}, {\"date\": \"2020-03-16T00:00:00\", \"country\": \"Panama\", \"confirmed\": 55, \"rate\": 1.4259782207456626}, {\"date\": \"2020-03-17T00:00:00\", \"country\": \"Panama\", \"confirmed\": 69, \"rate\": 1.3766275713950133}, {\"date\": \"2020-03-18T00:00:00\", \"country\": \"Panama\", \"confirmed\": 86, \"rate\": 1.326109973051328}, {\"date\": \"2020-03-19T00:00:00\", \"country\": \"Panama\", \"confirmed\": 109, \"rate\": 1.3107445245463445}, {\"date\": \"2020-03-20T00:00:00\", \"country\": \"Panama\", \"confirmed\": 137, \"rate\": 1.2617274865384809}, {\"date\": \"2020-03-21T00:00:00\", \"country\": \"Panama\", \"confirmed\": 200, \"rate\": 1.2798018695763675}, {\"date\": \"2020-03-22T00:00:00\", \"country\": \"Panama\", \"confirmed\": 245, \"rate\": 1.284166948941447}, {\"date\": \"2020-03-23T00:00:00\", \"country\": \"Panama\", \"confirmed\": 245, \"rate\": 1.2442998393068954}, {\"date\": \"2020-02-28T00:00:00\", \"country\": \"Spain\", \"confirmed\": 32, \"rate\": 1.2791208791208788}, {\"date\": \"2020-02-29T00:00:00\", \"country\": \"Spain\", \"confirmed\": 45, \"rate\": 1.3371565934065932}, {\"date\": \"2020-03-01T00:00:00\", \"country\": \"Spain\", \"confirmed\": 84, \"rate\": 1.4228708791208788}, {\"date\": \"2020-03-02T00:00:00\", \"country\": \"Spain\", \"confirmed\": 120, \"rate\": 1.4840953689167973}, {\"date\": \"2020-03-03T00:00:00\", \"country\": \"Spain\", \"confirmed\": 165, \"rate\": 1.4519525117739402}, {\"date\": \"2020-03-04T00:00:00\", \"country\": \"Spain\", \"confirmed\": 222, \"rate\": 1.4155888754103039}, {\"date\": \"2020-03-05T00:00:00\", \"country\": \"Spain\", \"confirmed\": 259, \"rate\": 1.4174203772418057}, {\"date\": \"2020-03-06T00:00:00\", \"country\": \"Spain\", \"confirmed\": 400, \"rate\": 1.4094777407277408}, {\"date\": \"2020-03-07T00:00:00\", \"country\": \"Spain\", \"confirmed\": 500, \"rate\": 1.3871563121563122}, {\"date\": \"2020-03-08T00:00:00\", \"country\": \"Spain\", \"confirmed\": 673, \"rate\": 1.350870597870598}, {\"date\": \"2020-03-09T00:00:00\", \"country\": \"Spain\", \"confirmed\": 1073, \"rate\": 1.3745537709912576}, {\"date\": \"2020-03-10T00:00:00\", \"country\": \"Spain\", \"confirmed\": 1695, \"rate\": 1.4037942183351535}, {\"date\": \"2020-03-11T00:00:00\", \"country\": \"Spain\", \"confirmed\": 2277, \"rate\": 1.4034954021071335}, {\"date\": \"2020-03-12T00:00:00\", \"country\": \"Spain\", \"confirmed\": 2277, \"rate\": 1.3796858782976098}, {\"date\": \"2020-03-13T00:00:00\", \"country\": \"Spain\", \"confirmed\": 5232, \"rate\": 1.387628514811675}, {\"date\": \"2020-03-14T00:00:00\", \"country\": \"Spain\", \"confirmed\": 6391, \"rate\": 1.3835601443442218}, {\"date\": \"2020-03-15T00:00:00\", \"country\": \"Spain\", \"confirmed\": 7798, \"rate\": 1.3655820501492602}, {\"date\": \"2020-03-16T00:00:00\", \"country\": \"Spain\", \"confirmed\": 9942, \"rate\": 1.3199518576463412}, {\"date\": \"2020-03-17T00:00:00\", \"country\": \"Spain\", \"confirmed\": 11748, \"rate\": 1.2630904947062735}, {\"date\": \"2020-03-18T00:00:00\", \"country\": \"Spain\", \"confirmed\": 13910, \"rate\": 1.2403288507951815}, {\"date\": \"2020-03-19T00:00:00\", \"country\": \"Spain\", \"confirmed\": 17963, \"rate\": 1.2819535812049587}, {\"date\": \"2020-03-20T00:00:00\", \"country\": \"Spain\", \"confirmed\": 20410, \"rate\": 1.2156999328325107}, {\"date\": \"2020-03-21T00:00:00\", \"country\": \"Spain\", \"confirmed\": 25374, \"rate\": 1.2187988905471114}, {\"date\": \"2020-03-22T00:00:00\", \"country\": \"Spain\", \"confirmed\": 28768, \"rate\": 1.2064568370092985}, {\"date\": \"2020-03-23T00:00:00\", \"country\": \"Spain\", \"confirmed\": 28768, \"rate\": 1.1671793665956394}, {\"date\": \"2020-02-24T00:00:00\", \"country\": \"US\", \"confirmed\": 51, \"rate\": 1.1076923076923075}, {\"date\": \"2020-02-25T00:00:00\", \"country\": \"US\", \"confirmed\": 51, \"rate\": 1.1076923076923075}, {\"date\": \"2020-02-26T00:00:00\", \"country\": \"US\", \"confirmed\": 57, \"rate\": 1.124499030381383}, {\"date\": \"2020-02-27T00:00:00\", \"country\": \"US\", \"confirmed\": 58, \"rate\": 1.1270052960455437}, {\"date\": \"2020-02-28T00:00:00\", \"country\": \"US\", \"confirmed\": 60, \"rate\": 1.1099533824419061}, {\"date\": \"2020-02-29T00:00:00\", \"country\": \"US\", \"confirmed\": 68, \"rate\": 1.129001001489525}, {\"date\": \"2020-03-01T00:00:00\", \"country\": \"US\", \"confirmed\": 74, \"rate\": 1.1416060435063318}, {\"date\": \"2020-03-02T00:00:00\", \"country\": \"US\", \"confirmed\": 98, \"rate\": 1.1022238041240924}, {\"date\": \"2020-03-03T00:00:00\", \"country\": \"US\", \"confirmed\": 118, \"rate\": 1.1313783230745298}, {\"date\": \"2020-03-04T00:00:00\", \"country\": \"US\", \"confirmed\": 149, \"rate\": 1.15210186672928}, {\"date\": \"2020-03-05T00:00:00\", \"country\": \"US\", \"confirmed\": 217, \"rate\": 1.2147921494831444}, {\"date\": \"2020-03-06T00:00:00\", \"country\": \"US\", \"confirmed\": 262, \"rate\": 1.239490794235817}, {\"date\": \"2020-03-07T00:00:00\", \"country\": \"US\", \"confirmed\": 402, \"rate\": 1.2967790530507934}, {\"date\": \"2020-03-08T00:00:00\", \"country\": \"US\", \"confirmed\": 518, \"rate\": 1.3253964701668937}, {\"date\": \"2020-03-09T00:00:00\", \"country\": \"US\", \"confirmed\": 583, \"rate\": 1.296990513189508}, {\"date\": \"2020-03-10T00:00:00\", \"country\": \"US\", \"confirmed\": 959, \"rate\": 1.3535502799533565}, {\"date\": \"2020-03-11T00:00:00\", \"country\": \"US\", \"confirmed\": 1281, \"rate\": 1.3639866455177685}, {\"date\": \"2020-03-12T00:00:00\", \"country\": \"US\", \"confirmed\": 1663, \"rate\": 1.3413907439158472}, {\"date\": \"2020-03-13T00:00:00\", \"country\": \"US\", \"confirmed\": 2179, \"rate\": 1.3560920796127742}, {\"date\": \"2020-03-14T00:00:00\", \"country\": \"US\", \"confirmed\": 2727, \"rate\": 1.315683560302595}, {\"date\": \"2020-03-15T00:00:00\", \"country\": \"US\", \"confirmed\": 3499, \"rate\": 1.3149032406217285}, {\"date\": \"2020-03-16T00:00:00\", \"country\": \"US\", \"confirmed\": 4632, \"rate\": 1.3432352658304123}, {\"date\": \"2020-03-17T00:00:00\", \"country\": \"US\", \"confirmed\": 6421, \"rate\": 1.312696158995969}, {\"date\": \"2020-03-18T00:00:00\", \"country\": \"US\", \"confirmed\": 7783, \"rate\": 1.2950318831960363}, {\"date\": \"2020-03-19T00:00:00\", \"country\": \"US\", \"confirmed\": 13677, \"rate\": 1.3381455220942182}, {\"date\": \"2020-03-20T00:00:00\", \"country\": \"US\", \"confirmed\": 19100, \"rate\": 1.3504630163450522}, {\"date\": \"2020-03-21T00:00:00\", \"country\": \"US\", \"confirmed\": 25489, \"rate\": 1.3623217460499286}, {\"date\": \"2020-03-22T00:00:00\", \"country\": \"US\", \"confirmed\": 33272, \"rate\": 1.3655006644211507}, {\"date\": \"2020-03-23T00:00:00\", \"country\": \"US\", \"confirmed\": 33276, \"rate\": 1.319259724315952}, {\"date\": \"2020-03-18T00:00:00\", \"country\": \"Uruguay\", \"confirmed\": 50, \"rate\": 1.6}, {\"date\": \"2020-03-19T00:00:00\", \"country\": \"Uruguay\", \"confirmed\": 79, \"rate\": 1.6}, {\"date\": \"2020-03-20T00:00:00\", \"country\": \"Uruguay\", \"confirmed\": 94, \"rate\": 1.4528390596745027}, {\"date\": \"2020-03-21T00:00:00\", \"country\": \"Uruguay\", \"confirmed\": 110, \"rate\": 1.3914408833827092}, {\"date\": \"2020-03-22T00:00:00\", \"country\": \"Uruguay\", \"confirmed\": 135, \"rate\": 1.4239084158502417}, {\"date\": \"2020-03-23T00:00:00\", \"country\": \"Uruguay\", \"confirmed\": 135, \"rate\": 1.3381941301359561}, {\"date\": \"2020-03-17T00:00:00\", \"country\": \"Venezuela\", \"confirmed\": 33, \"rate\": 1.6}, {\"date\": \"2020-03-18T00:00:00\", \"country\": \"Venezuela\", \"confirmed\": 36, \"rate\": 1.6}, {\"date\": \"2020-03-19T00:00:00\", \"country\": \"Venezuela\", \"confirmed\": 42, \"rate\": 1.6}, {\"date\": \"2020-03-20T00:00:00\", \"country\": \"Venezuela\", \"confirmed\": 42, \"rate\": 1.3796536796536798}, {\"date\": \"2020-03-21T00:00:00\", \"country\": \"Venezuela\", \"confirmed\": 70, \"rate\": 1.3796536796536798}, {\"date\": \"2020-03-22T00:00:00\", \"country\": \"Venezuela\", \"confirmed\": 70, \"rate\": 1.2939393939393942}, {\"date\": \"2020-03-23T00:00:00\", \"country\": \"Venezuela\", \"confirmed\": 70, \"rate\": 1.2082251082251083}]}}, {\"mode\": \"vega-lite\"});\n",
       "</script>"
      ],
      "text/plain": [
       "alt.Chart(...)"
      ]
     },
     "execution_count": 6,
     "metadata": {},
     "output_type": "execute_result"
    }
   ],
   "source": [
    "#hide_input\n",
    "latam = [\n",
    "    'Brazil', 'Chile', 'Argentina', 'Panama', 'Colombia','Mexico', \n",
    "    'Ecuador', 'Costa Rica', 'Venezuela', 'Dominican Republic', 'Bolivia',\n",
    "    'Paraguay', 'Uruguay','Honduras', 'Cuba', 'Puerto Rico','Guatemala', \n",
    "]\n",
    "\n",
    "with_most_cases = list(cnt_by_country.index[:7])\n",
    "controlled_situations = list(rate_by_country[rate_by_country < 1.1].index)\n",
    "\n",
    "plot_rate_cnt_trajectories(\n",
    "    with_most_cases + controlled_situations + latam, \n",
    "    selected=['Argentina'] + list(rate_by_country[rate_by_country < 1.05].index) + with_most_cases[:3]\n",
    ")"
   ]
  },
  {
   "cell_type": "markdown",
   "metadata": {
    "papermill": {
     "duration": 0.006312,
     "end_time": "2020-03-25T05:04:15.185666",
     "exception": false,
     "start_time": "2020-03-25T05:04:15.179354",
     "status": "completed"
    },
    "tags": []
   },
   "source": [
    "- Eje X: Cantidad de casos confirmados\n",
    "- Eje Y: Tasa diaria de crecimiento"
   ]
  },
  {
   "cell_type": "markdown",
   "metadata": {
    "papermill": {
     "duration": 0.0065,
     "end_time": "2020-03-25T05:04:15.199058",
     "exception": false,
     "start_time": "2020-03-25T05:04:15.192558",
     "status": "completed"
    },
    "tags": []
   },
   "source": [
    "# Mirando al resto de latino america\n",
    "\n",
    "Comparando con algunos paises de fuera de latam"
   ]
  },
  {
   "cell_type": "code",
   "execution_count": 7,
   "metadata": {
    "papermill": {
     "duration": 0.05555,
     "end_time": "2020-03-25T05:04:15.261610",
     "exception": false,
     "start_time": "2020-03-25T05:04:15.206060",
     "status": "completed"
    },
    "tags": []
   },
   "outputs": [
    {
     "data": {
      "text/html": [
       "\n",
       "<div id=\"altair-viz-bb4f468f93fc4a2e9a81f7f2b903e458\"></div>\n",
       "<script type=\"text/javascript\">\n",
       "  (function(spec, embedOpt){\n",
       "    const outputDiv = document.getElementById(\"altair-viz-bb4f468f93fc4a2e9a81f7f2b903e458\");\n",
       "    const paths = {\n",
       "      \"vega\": \"https://cdn.jsdelivr.net/npm//vega@5?noext\",\n",
       "      \"vega-lib\": \"https://cdn.jsdelivr.net/npm//vega-lib?noext\",\n",
       "      \"vega-lite\": \"https://cdn.jsdelivr.net/npm//vega-lite@4.0.2?noext\",\n",
       "      \"vega-embed\": \"https://cdn.jsdelivr.net/npm//vega-embed@6?noext\",\n",
       "    };\n",
       "\n",
       "    function loadScript(lib) {\n",
       "      return new Promise(function(resolve, reject) {\n",
       "        var s = document.createElement('script');\n",
       "        s.src = paths[lib];\n",
       "        s.async = true;\n",
       "        s.onload = () => resolve(paths[lib]);\n",
       "        s.onerror = () => reject(`Error loading script: ${paths[lib]}`);\n",
       "        document.getElementsByTagName(\"head\")[0].appendChild(s);\n",
       "      });\n",
       "    }\n",
       "\n",
       "    function showError(err) {\n",
       "      outputDiv.innerHTML = `<div class=\"error\" style=\"color:red;\">${err}</div>`;\n",
       "      throw err;\n",
       "    }\n",
       "\n",
       "    function displayChart(vegaEmbed) {\n",
       "      vegaEmbed(outputDiv, spec, embedOpt)\n",
       "        .catch(err => showError(`Javascript Error: ${err.message}<br>This usually means there's a typo in your chart specification. See the javascript console for the full traceback.`));\n",
       "    }\n",
       "\n",
       "    if(typeof define === \"function\" && define.amd) {\n",
       "      requirejs.config({paths});\n",
       "      require([\"vega-embed\"], displayChart, err => showError(`Error loading script: ${err.message}`));\n",
       "    } else if (typeof vegaEmbed === \"function\") {\n",
       "      displayChart(vegaEmbed);\n",
       "    } else {\n",
       "      loadScript(\"vega\")\n",
       "        .then(() => loadScript(\"vega-lite\"))\n",
       "        .then(() => loadScript(\"vega-embed\"))\n",
       "        .catch(showError)\n",
       "        .then(() => displayChart(vegaEmbed));\n",
       "    }\n",
       "  })({\"config\": {\"view\": {\"continuousWidth\": 400, \"continuousHeight\": 300}, \"point\": {\"size\": 200}}, \"data\": {\"name\": \"data-eac567ad9d1963b94247734620265c58\"}, \"mark\": {\"type\": \"line\", \"point\": true, \"radius\": 150}, \"encoding\": {\"color\": {\"type\": \"nominal\", \"field\": \"country\", \"sort\": [\"Argentina\", \"Chile\", \"Brazil\", \"Ecuador\", \"Japan\", \"US\"]}, \"opacity\": {\"condition\": {\"value\": 0.8, \"selection\": \"selector002\"}, \"value\": 0.05}, \"tooltip\": [{\"type\": \"temporal\", \"field\": \"date\"}, {\"type\": \"nominal\", \"field\": \"country\"}, {\"type\": \"quantitative\", \"field\": \"confirmed\"}, {\"type\": \"quantitative\", \"field\": \"rate\"}], \"x\": {\"type\": \"quantitative\", \"axis\": {\"title\": \"Confirmed Cases\"}, \"field\": \"confirmed\", \"scale\": {\"type\": \"log\"}}, \"y\": {\"type\": \"quantitative\", \"axis\": {\"title\": \"Rate of growth\"}, \"field\": \"rate\", \"scale\": {\"domain\": [0.95, 1.65]}}}, \"height\": 400, \"selection\": {\"selector002\": {\"type\": \"multi\", \"fields\": [\"country\"], \"bind\": \"legend\", \"init\": [{\"country\": \"Argentina\"}, {\"country\": \"Chile\"}, {\"country\": \"Brazil\"}, {\"country\": \"Ecuador\"}, {\"country\": \"Japan\"}, {\"country\": \"US\"}]}}, \"width\": 650, \"$schema\": \"https://vega.github.io/schema/vega-lite/v4.0.2.json\", \"datasets\": {\"data-eac567ad9d1963b94247734620265c58\": [{\"date\": \"2020-03-13T00:00:00\", \"country\": \"Argentina\", \"confirmed\": 31, \"rate\": 1.319187675070028}, {\"date\": \"2020-03-14T00:00:00\", \"country\": \"Argentina\", \"confirmed\": 34, \"rate\": 1.2472982741483691}, {\"date\": \"2020-03-15T00:00:00\", \"country\": \"Argentina\", \"confirmed\": 45, \"rate\": 1.2220881901147558}, {\"date\": \"2020-03-16T00:00:00\", \"country\": \"Argentina\", \"confirmed\": 56, \"rate\": 1.2570088250353908}, {\"date\": \"2020-03-17T00:00:00\", \"country\": \"Argentina\", \"confirmed\": 68, \"rate\": 1.2280972604095406}, {\"date\": \"2020-03-18T00:00:00\", \"country\": \"Argentina\", \"confirmed\": 79, \"rate\": 1.234399781417944}, {\"date\": \"2020-03-19T00:00:00\", \"country\": \"Argentina\", \"confirmed\": 97, \"rate\": 1.2669495101702044}, {\"date\": \"2020-03-20T00:00:00\", \"country\": \"Argentina\", \"confirmed\": 128, \"rate\": 1.2268906000082016}, {\"date\": \"2020-03-21T00:00:00\", \"country\": \"Argentina\", \"confirmed\": 158, \"rate\": 1.2465478580727176}, {\"date\": \"2020-03-22T00:00:00\", \"country\": \"Argentina\", \"confirmed\": 225, \"rate\": 1.260908032522244}, {\"date\": \"2020-03-23T00:00:00\", \"country\": \"Argentina\", \"confirmed\": 225, \"rate\": 1.2259873976016091}, {\"date\": \"2020-03-10T00:00:00\", \"country\": \"Brazil\", \"confirmed\": 31, \"rate\": 1.3183516483516482}, {\"date\": \"2020-03-11T00:00:00\", \"country\": \"Brazil\", \"confirmed\": 38, \"rate\": 1.2648954271534918}, {\"date\": \"2020-03-12T00:00:00\", \"country\": \"Brazil\", \"confirmed\": 52, \"rate\": 1.3175270061008602}, {\"date\": \"2020-03-13T00:00:00\", \"country\": \"Brazil\", \"confirmed\": 151, \"rate\": 1.3175270061008602}, {\"date\": \"2020-03-14T00:00:00\", \"country\": \"Brazil\", \"confirmed\": 151, \"rate\": 1.3175270061008602}, {\"date\": \"2020-03-15T00:00:00\", \"country\": \"Brazil\", \"confirmed\": 162, \"rate\": 1.2510107409090983}, {\"date\": \"2020-03-16T00:00:00\", \"country\": \"Brazil\", \"confirmed\": 200, \"rate\": 1.2488061553711793}, {\"date\": \"2020-03-17T00:00:00\", \"country\": \"Brazil\", \"confirmed\": 321, \"rate\": 1.3002347267997507}, {\"date\": \"2020-03-18T00:00:00\", \"country\": \"Brazil\", \"confirmed\": 372, \"rate\": 1.2906735915226069}, {\"date\": \"2020-03-19T00:00:00\", \"country\": \"Brazil\", \"confirmed\": 621, \"rate\": 1.3237562982895241}, {\"date\": \"2020-03-20T00:00:00\", \"country\": \"Brazil\", \"confirmed\": 793, \"rate\": 1.2776095304036257}, {\"date\": \"2020-03-21T00:00:00\", \"country\": \"Brazil\", \"confirmed\": 1021, \"rate\": 1.3186832108215685}, {\"date\": \"2020-03-22T00:00:00\", \"country\": \"Brazil\", \"confirmed\": 1593, \"rate\": 1.38830997961355}, {\"date\": \"2020-03-23T00:00:00\", \"country\": \"Brazil\", \"confirmed\": 1593, \"rate\": 1.3548002794371832}, {\"date\": \"2020-03-13T00:00:00\", \"country\": \"Chile\", \"confirmed\": 43, \"rate\": 1.342857142857143}, {\"date\": \"2020-03-14T00:00:00\", \"country\": \"Chile\", \"confirmed\": 61, \"rate\": 1.4026578073089702}, {\"date\": \"2020-03-15T00:00:00\", \"country\": \"Chile\", \"confirmed\": 74, \"rate\": 1.3473884864658792}, {\"date\": \"2020-03-16T00:00:00\", \"country\": \"Chile\", \"confirmed\": 155, \"rate\": 1.4331027721801648}, {\"date\": \"2020-03-17T00:00:00\", \"country\": \"Chile\", \"confirmed\": 201, \"rate\": 1.3897847998299344}, {\"date\": \"2020-03-18T00:00:00\", \"country\": \"Chile\", \"confirmed\": 238, \"rate\": 1.3303676001142273}, {\"date\": \"2020-03-19T00:00:00\", \"country\": \"Chile\", \"confirmed\": 238, \"rate\": 1.3303676001142273}, {\"date\": \"2020-03-20T00:00:00\", \"country\": \"Chile\", \"confirmed\": 434, \"rate\": 1.3303676001142273}, {\"date\": \"2020-03-21T00:00:00\", \"country\": \"Chile\", \"confirmed\": 537, \"rate\": 1.3044708197966988}, {\"date\": \"2020-03-22T00:00:00\", \"country\": \"Chile\", \"confirmed\": 632, \"rate\": 1.2992985338294685}, {\"date\": \"2020-03-23T00:00:00\", \"country\": \"Chile\", \"confirmed\": 632, \"rate\": 1.2135842481151828}, {\"date\": \"2020-03-15T00:00:00\", \"country\": \"Colombia\", \"confirmed\": 34, \"rate\": 1.3985569985569983}, {\"date\": \"2020-03-16T00:00:00\", \"country\": \"Colombia\", \"confirmed\": 54, \"rate\": 1.4825906120023764}, {\"date\": \"2020-03-17T00:00:00\", \"country\": \"Colombia\", \"confirmed\": 65, \"rate\": 1.42597685538862}, {\"date\": \"2020-03-18T00:00:00\", \"country\": \"Colombia\", \"confirmed\": 93, \"rate\": 1.401801031212796}, {\"date\": \"2020-03-19T00:00:00\", \"country\": \"Colombia\", \"confirmed\": 102, \"rate\": 1.4156259160054228}, {\"date\": \"2020-03-20T00:00:00\", \"country\": \"Colombia\", \"confirmed\": 128, \"rate\": 1.3885484183396897}, {\"date\": \"2020-03-21T00:00:00\", \"country\": \"Colombia\", \"confirmed\": 196, \"rate\": 1.378726989768261}, {\"date\": \"2020-03-22T00:00:00\", \"country\": \"Colombia\", \"confirmed\": 231, \"rate\": 1.326315115927816}, {\"date\": \"2020-03-23T00:00:00\", \"country\": \"Colombia\", \"confirmed\": 231, \"rate\": 1.2422815024824378}, {\"date\": \"2020-03-16T00:00:00\", \"country\": \"Costa Rica\", \"confirmed\": 35, \"rate\": 1.2221559438950744}, {\"date\": \"2020-03-17T00:00:00\", \"country\": \"Costa Rica\", \"confirmed\": 41, \"rate\": 1.2466457398134416}, {\"date\": \"2020-03-18T00:00:00\", \"country\": \"Costa Rica\", \"confirmed\": 50, \"rate\": 1.2145125613387997}, {\"date\": \"2020-03-19T00:00:00\", \"country\": \"Costa Rica\", \"confirmed\": 69, \"rate\": 1.1830839899102283}, {\"date\": \"2020-03-20T00:00:00\", \"country\": \"Costa Rica\", \"confirmed\": 89, \"rate\": 1.217998350911546}, {\"date\": \"2020-03-21T00:00:00\", \"country\": \"Costa Rica\", \"confirmed\": 117, \"rate\": 1.2443086307635942}, {\"date\": \"2020-03-22T00:00:00\", \"country\": \"Costa Rica\", \"confirmed\": 134, \"rate\": 1.2595711460261094}, {\"date\": \"2020-03-23T00:00:00\", \"country\": \"Costa Rica\", \"confirmed\": 134, \"rate\": 1.217243103698067}, {\"date\": \"2020-03-22T00:00:00\", \"country\": \"Cuba\", \"confirmed\": 35, \"rate\": 1.3697820037105752}, {\"date\": \"2020-03-23T00:00:00\", \"country\": \"Cuba\", \"confirmed\": 35, \"rate\": 1.3697820037105752}, {\"date\": \"2020-03-19T00:00:00\", \"country\": \"Dominican Republic\", \"confirmed\": 34, \"rate\": 1.257142857142857}, {\"date\": \"2020-03-20T00:00:00\", \"country\": \"Dominican Republic\", \"confirmed\": 72, \"rate\": 1.3428571428571427}, {\"date\": \"2020-03-21T00:00:00\", \"country\": \"Dominican Republic\", \"confirmed\": 112, \"rate\": 1.3365079365079364}, {\"date\": \"2020-03-22T00:00:00\", \"country\": \"Dominican Republic\", \"confirmed\": 202, \"rate\": 1.422222222222222}, {\"date\": \"2020-03-23T00:00:00\", \"country\": \"Dominican Republic\", \"confirmed\": 202, \"rate\": 1.422222222222222}, {\"date\": \"2020-03-16T00:00:00\", \"country\": \"Ecuador\", \"confirmed\": 37, \"rate\": 1.1506802721088436}, {\"date\": \"2020-03-17T00:00:00\", \"country\": \"Ecuador\", \"confirmed\": 58, \"rate\": 1.2317613531899245}, {\"date\": \"2020-03-18T00:00:00\", \"country\": \"Ecuador\", \"confirmed\": 111, \"rate\": 1.2984280198565912}, {\"date\": \"2020-03-19T00:00:00\", \"country\": \"Ecuador\", \"confirmed\": 199, \"rate\": 1.384142305570877}, {\"date\": \"2020-03-20T00:00:00\", \"country\": \"Ecuador\", \"confirmed\": 367, \"rate\": 1.4698565912851627}, {\"date\": \"2020-03-21T00:00:00\", \"country\": \"Ecuador\", \"confirmed\": 506, \"rate\": 1.4382489618573697}, {\"date\": \"2020-03-22T00:00:00\", \"country\": \"Ecuador\", \"confirmed\": 789, \"rate\": 1.5181473243644277}, {\"date\": \"2020-03-23T00:00:00\", \"country\": \"Ecuador\", \"confirmed\": 789, \"rate\": 1.472228957017489}, {\"date\": \"2020-02-06T00:00:00\", \"country\": \"Japan\", \"confirmed\": 45, \"rate\": 1.1995670995670997}, {\"date\": \"2020-02-15T00:00:00\", \"country\": \"Japan\", \"confirmed\": 43, \"rate\": 1.0907708547610029}, {\"date\": \"2020-02-16T00:00:00\", \"country\": \"Japan\", \"confirmed\": 59, \"rate\": 1.1382127152261192}, {\"date\": \"2020-02-17T00:00:00\", \"country\": \"Japan\", \"confirmed\": 66, \"rate\": 1.155161867768492}, {\"date\": \"2020-02-18T00:00:00\", \"country\": \"Japan\", \"confirmed\": 74, \"rate\": 1.1724778850845095}, {\"date\": \"2020-02-19T00:00:00\", \"country\": \"Japan\", \"confirmed\": 84, \"rate\": 1.1807938934005178}, {\"date\": \"2020-02-20T00:00:00\", \"country\": \"Japan\", \"confirmed\": 94, \"rate\": 1.1978006961216061}, {\"date\": \"2020-02-21T00:00:00\", \"country\": \"Japan\", \"confirmed\": 105, \"rate\": 1.2094159805332432}, {\"date\": \"2020-02-22T00:00:00\", \"country\": \"Japan\", \"confirmed\": 122, \"rate\": 1.163579714992544}, {\"date\": \"2020-02-23T00:00:00\", \"country\": \"Japan\", \"confirmed\": 147, \"rate\": 1.1396975734969828}, {\"date\": \"2020-02-24T00:00:00\", \"country\": \"Japan\", \"confirmed\": 159, \"rate\": 1.134410228534785}, {\"date\": \"2020-02-25T00:00:00\", \"country\": \"Japan\", \"confirmed\": 170, \"rate\": 1.1269774097812115}, {\"date\": \"2020-02-26T00:00:00\", \"country\": \"Japan\", \"confirmed\": 189, \"rate\": 1.123638777030814}, {\"date\": \"2020-02-27T00:00:00\", \"country\": \"Japan\", \"confirmed\": 214, \"rate\": 1.1255284217776018}, {\"date\": \"2020-02-28T00:00:00\", \"country\": \"Japan\", \"confirmed\": 228, \"rate\": 1.1181568909421615}, {\"date\": \"2020-02-29T00:00:00\", \"country\": \"Japan\", \"confirmed\": 241, \"rate\": 1.1031730026500024}, {\"date\": \"2020-03-01T00:00:00\", \"country\": \"Japan\", \"confirmed\": 256, \"rate\": 1.0827905213805067}, {\"date\": \"2020-03-02T00:00:00\", \"country\": \"Japan\", \"confirmed\": 274, \"rate\": 1.0811733566574746}, {\"date\": \"2020-03-03T00:00:00\", \"country\": \"Japan\", \"confirmed\": 293, \"rate\": 1.0811963103369495}, {\"date\": \"2020-03-04T00:00:00\", \"country\": \"Japan\", \"confirmed\": 331, \"rate\": 1.0837574713201141}, {\"date\": \"2020-03-05T00:00:00\", \"country\": \"Japan\", \"confirmed\": 360, \"rate\": 1.077377208573861}, {\"date\": \"2020-03-06T00:00:00\", \"country\": \"Japan\", \"confirmed\": 420, \"rate\": 1.0918409379908616}, {\"date\": \"2020-03-07T00:00:00\", \"country\": \"Japan\", \"confirmed\": 461, \"rate\": 1.097641152813633}, {\"date\": \"2020-03-08T00:00:00\", \"country\": \"Japan\", \"confirmed\": 502, \"rate\": 1.1014549284386435}, {\"date\": \"2020-03-09T00:00:00\", \"country\": \"Japan\", \"confirmed\": 511, \"rate\": 1.0939714694175848}, {\"date\": \"2020-03-10T00:00:00\", \"country\": \"Japan\", \"confirmed\": 581, \"rate\": 1.103634788799932}, {\"date\": \"2020-03-11T00:00:00\", \"country\": \"Japan\", \"confirmed\": 639, \"rate\": 1.0993683673993477}, {\"date\": \"2020-03-12T00:00:00\", \"country\": \"Japan\", \"confirmed\": 639, \"rate\": 1.0868521826777249}, {\"date\": \"2020-03-13T00:00:00\", \"country\": \"Japan\", \"confirmed\": 701, \"rate\": 1.0769036023066092}, {\"date\": \"2020-03-14T00:00:00\", \"country\": \"Japan\", \"confirmed\": 773, \"rate\": 1.0776309403174198}, {\"date\": \"2020-03-15T00:00:00\", \"country\": \"Japan\", \"confirmed\": 839, \"rate\": 1.077123016994198}, {\"date\": \"2020-03-16T00:00:00\", \"country\": \"Japan\", \"confirmed\": 825, \"rate\": 1.0721780429316539}, {\"date\": \"2020-03-17T00:00:00\", \"country\": \"Japan\", \"confirmed\": 878, \"rate\": 1.061786060484877}, {\"date\": \"2020-03-18T00:00:00\", \"country\": \"Japan\", \"confirmed\": 889, \"rate\": 1.0493147163196892}, {\"date\": \"2020-03-19T00:00:00\", \"country\": \"Japan\", \"confirmed\": 924, \"rate\": 1.054939013282569}, {\"date\": \"2020-03-20T00:00:00\", \"country\": \"Japan\", \"confirmed\": 963, \"rate\": 1.0471077544452738}, {\"date\": \"2020-03-21T00:00:00\", \"country\": \"Japan\", \"confirmed\": 1007, \"rate\": 1.038962059683663}, {\"date\": \"2020-03-22T00:00:00\", \"country\": \"Japan\", \"confirmed\": 1086, \"rate\": 1.0379719474091522}, {\"date\": \"2020-03-23T00:00:00\", \"country\": \"Japan\", \"confirmed\": 1086, \"rate\": 1.0403557376356125}, {\"date\": \"2020-03-15T00:00:00\", \"country\": \"Mexico\", \"confirmed\": 41, \"rate\": 1.2599686028257455}, {\"date\": \"2020-03-16T00:00:00\", \"country\": \"Mexico\", \"confirmed\": 53, \"rate\": 1.301780449515641}, {\"date\": \"2020-03-17T00:00:00\", \"country\": \"Mexico\", \"confirmed\": 82, \"rate\": 1.379947565418606}, {\"date\": \"2020-03-18T00:00:00\", \"country\": \"Mexico\", \"confirmed\": 93, \"rate\": 1.378703165219502}, {\"date\": \"2020-03-19T00:00:00\", \"country\": \"Mexico\", \"confirmed\": 118, \"rate\": 1.3456770515482273}, {\"date\": \"2020-03-20T00:00:00\", \"country\": \"Mexico\", \"confirmed\": 164, \"rate\": 1.4013671241874524}, {\"date\": \"2020-03-21T00:00:00\", \"country\": \"Mexico\", \"confirmed\": 203, \"rate\": 1.3496249639087068}, {\"date\": \"2020-03-22T00:00:00\", \"country\": \"Mexico\", \"confirmed\": 251, \"rate\": 1.300986410344045}, {\"date\": \"2020-03-23T00:00:00\", \"country\": \"Mexico\", \"confirmed\": 251, \"rate\": 1.2591745636541494}, {\"date\": \"2020-03-14T00:00:00\", \"country\": \"Panama\", \"confirmed\": 36, \"rate\": 1.6}, {\"date\": \"2020-03-15T00:00:00\", \"country\": \"Panama\", \"confirmed\": 43, \"rate\": 1.6}, {\"date\": \"2020-03-16T00:00:00\", \"country\": \"Panama\", \"confirmed\": 55, \"rate\": 1.4259782207456626}, {\"date\": \"2020-03-17T00:00:00\", \"country\": \"Panama\", \"confirmed\": 69, \"rate\": 1.3766275713950133}, {\"date\": \"2020-03-18T00:00:00\", \"country\": \"Panama\", \"confirmed\": 86, \"rate\": 1.326109973051328}, {\"date\": \"2020-03-19T00:00:00\", \"country\": \"Panama\", \"confirmed\": 109, \"rate\": 1.3107445245463445}, {\"date\": \"2020-03-20T00:00:00\", \"country\": \"Panama\", \"confirmed\": 137, \"rate\": 1.2617274865384809}, {\"date\": \"2020-03-21T00:00:00\", \"country\": \"Panama\", \"confirmed\": 200, \"rate\": 1.2798018695763675}, {\"date\": \"2020-03-22T00:00:00\", \"country\": \"Panama\", \"confirmed\": 245, \"rate\": 1.284166948941447}, {\"date\": \"2020-03-23T00:00:00\", \"country\": \"Panama\", \"confirmed\": 245, \"rate\": 1.2442998393068954}, {\"date\": \"2020-02-24T00:00:00\", \"country\": \"US\", \"confirmed\": 51, \"rate\": 1.1076923076923075}, {\"date\": \"2020-02-25T00:00:00\", \"country\": \"US\", \"confirmed\": 51, \"rate\": 1.1076923076923075}, {\"date\": \"2020-02-26T00:00:00\", \"country\": \"US\", \"confirmed\": 57, \"rate\": 1.124499030381383}, {\"date\": \"2020-02-27T00:00:00\", \"country\": \"US\", \"confirmed\": 58, \"rate\": 1.1270052960455437}, {\"date\": \"2020-02-28T00:00:00\", \"country\": \"US\", \"confirmed\": 60, \"rate\": 1.1099533824419061}, {\"date\": \"2020-02-29T00:00:00\", \"country\": \"US\", \"confirmed\": 68, \"rate\": 1.129001001489525}, {\"date\": \"2020-03-01T00:00:00\", \"country\": \"US\", \"confirmed\": 74, \"rate\": 1.1416060435063318}, {\"date\": \"2020-03-02T00:00:00\", \"country\": \"US\", \"confirmed\": 98, \"rate\": 1.1022238041240924}, {\"date\": \"2020-03-03T00:00:00\", \"country\": \"US\", \"confirmed\": 118, \"rate\": 1.1313783230745298}, {\"date\": \"2020-03-04T00:00:00\", \"country\": \"US\", \"confirmed\": 149, \"rate\": 1.15210186672928}, {\"date\": \"2020-03-05T00:00:00\", \"country\": \"US\", \"confirmed\": 217, \"rate\": 1.2147921494831444}, {\"date\": \"2020-03-06T00:00:00\", \"country\": \"US\", \"confirmed\": 262, \"rate\": 1.239490794235817}, {\"date\": \"2020-03-07T00:00:00\", \"country\": \"US\", \"confirmed\": 402, \"rate\": 1.2967790530507934}, {\"date\": \"2020-03-08T00:00:00\", \"country\": \"US\", \"confirmed\": 518, \"rate\": 1.3253964701668937}, {\"date\": \"2020-03-09T00:00:00\", \"country\": \"US\", \"confirmed\": 583, \"rate\": 1.296990513189508}, {\"date\": \"2020-03-10T00:00:00\", \"country\": \"US\", \"confirmed\": 959, \"rate\": 1.3535502799533565}, {\"date\": \"2020-03-11T00:00:00\", \"country\": \"US\", \"confirmed\": 1281, \"rate\": 1.3639866455177685}, {\"date\": \"2020-03-12T00:00:00\", \"country\": \"US\", \"confirmed\": 1663, \"rate\": 1.3413907439158472}, {\"date\": \"2020-03-13T00:00:00\", \"country\": \"US\", \"confirmed\": 2179, \"rate\": 1.3560920796127742}, {\"date\": \"2020-03-14T00:00:00\", \"country\": \"US\", \"confirmed\": 2727, \"rate\": 1.315683560302595}, {\"date\": \"2020-03-15T00:00:00\", \"country\": \"US\", \"confirmed\": 3499, \"rate\": 1.3149032406217285}, {\"date\": \"2020-03-16T00:00:00\", \"country\": \"US\", \"confirmed\": 4632, \"rate\": 1.3432352658304123}, {\"date\": \"2020-03-17T00:00:00\", \"country\": \"US\", \"confirmed\": 6421, \"rate\": 1.312696158995969}, {\"date\": \"2020-03-18T00:00:00\", \"country\": \"US\", \"confirmed\": 7783, \"rate\": 1.2950318831960363}, {\"date\": \"2020-03-19T00:00:00\", \"country\": \"US\", \"confirmed\": 13677, \"rate\": 1.3381455220942182}, {\"date\": \"2020-03-20T00:00:00\", \"country\": \"US\", \"confirmed\": 19100, \"rate\": 1.3504630163450522}, {\"date\": \"2020-03-21T00:00:00\", \"country\": \"US\", \"confirmed\": 25489, \"rate\": 1.3623217460499286}, {\"date\": \"2020-03-22T00:00:00\", \"country\": \"US\", \"confirmed\": 33272, \"rate\": 1.3655006644211507}, {\"date\": \"2020-03-23T00:00:00\", \"country\": \"US\", \"confirmed\": 33276, \"rate\": 1.319259724315952}, {\"date\": \"2020-03-18T00:00:00\", \"country\": \"Uruguay\", \"confirmed\": 50, \"rate\": 1.6}, {\"date\": \"2020-03-19T00:00:00\", \"country\": \"Uruguay\", \"confirmed\": 79, \"rate\": 1.6}, {\"date\": \"2020-03-20T00:00:00\", \"country\": \"Uruguay\", \"confirmed\": 94, \"rate\": 1.4528390596745027}, {\"date\": \"2020-03-21T00:00:00\", \"country\": \"Uruguay\", \"confirmed\": 110, \"rate\": 1.3914408833827092}, {\"date\": \"2020-03-22T00:00:00\", \"country\": \"Uruguay\", \"confirmed\": 135, \"rate\": 1.4239084158502417}, {\"date\": \"2020-03-23T00:00:00\", \"country\": \"Uruguay\", \"confirmed\": 135, \"rate\": 1.3381941301359561}, {\"date\": \"2020-03-17T00:00:00\", \"country\": \"Venezuela\", \"confirmed\": 33, \"rate\": 1.6}, {\"date\": \"2020-03-18T00:00:00\", \"country\": \"Venezuela\", \"confirmed\": 36, \"rate\": 1.6}, {\"date\": \"2020-03-19T00:00:00\", \"country\": \"Venezuela\", \"confirmed\": 42, \"rate\": 1.6}, {\"date\": \"2020-03-20T00:00:00\", \"country\": \"Venezuela\", \"confirmed\": 42, \"rate\": 1.3796536796536798}, {\"date\": \"2020-03-21T00:00:00\", \"country\": \"Venezuela\", \"confirmed\": 70, \"rate\": 1.3796536796536798}, {\"date\": \"2020-03-22T00:00:00\", \"country\": \"Venezuela\", \"confirmed\": 70, \"rate\": 1.2939393939393942}, {\"date\": \"2020-03-23T00:00:00\", \"country\": \"Venezuela\", \"confirmed\": 70, \"rate\": 1.2082251082251083}]}}, {\"mode\": \"vega-lite\"});\n",
       "</script>"
      ],
      "text/plain": [
       "alt.Chart(...)"
      ]
     },
     "execution_count": 7,
     "metadata": {},
     "output_type": "execute_result"
    }
   ],
   "source": [
    "#hide_input\n",
    "latam = [\n",
    "    'Brazil', 'Chile', 'Argentina', 'Panama', 'Colombia','Mexico', \n",
    "    'Ecuador', 'Costa Rica', 'Venezuela', 'Dominican Republic', 'Bolivia',\n",
    "    'Paraguay', 'Uruguay','Honduras', 'Cuba', 'Puerto Rico','Guatemala', 'Japan', 'US'\n",
    "]\n",
    "\n",
    "plot_rate_cnt_trajectories(latam, ['Argentina', 'Chile', 'Brazil', 'Ecuador', 'Japan', 'US'])"
   ]
  },
  {
   "cell_type": "markdown",
   "metadata": {
    "papermill": {
     "duration": 0.00745,
     "end_time": "2020-03-25T05:04:15.277450",
     "exception": false,
     "start_time": "2020-03-25T05:04:15.270000",
     "status": "completed"
    },
    "tags": []
   },
   "source": [
    "Datos obtenidos de https://github.com/CSSEGISandData/COVID-19"
   ]
  }
 ],
 "metadata": {
  "kernelspec": {
   "display_name": "Python 3",
   "language": "python",
   "name": "python3"
  },
  "language_info": {
   "codemirror_mode": {
    "name": "ipython",
    "version": 3
   },
   "file_extension": ".py",
   "mimetype": "text/x-python",
   "name": "python",
   "nbconvert_exporter": "python",
   "pygments_lexer": "ipython3",
   "version": "3.6.10"
  },
  "papermill": {
   "duration": 2.863251,
   "end_time": "2020-03-25T05:04:15.288516",
   "environment_variables": {},
   "exception": null,
   "input_path": "2020-03-24-argentina-en-contexto.ipynb",
   "output_path": "2020-03-24-argentina-en-contexto.ipynb",
   "parameters": {},
   "start_time": "2020-03-25T05:04:12.425265",
   "version": "2.0.0"
  }
 },
 "nbformat": 4,
 "nbformat_minor": 2
}