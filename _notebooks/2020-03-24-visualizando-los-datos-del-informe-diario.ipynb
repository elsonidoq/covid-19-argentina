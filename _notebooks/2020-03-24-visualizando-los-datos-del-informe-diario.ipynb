{
 "cells": [
  {
   "cell_type": "markdown",
   "metadata": {
    "papermill": {
     "duration": 0.015079,
     "end_time": "2020-03-25T02:27:07.830748",
     "exception": false,
     "start_time": "2020-03-25T02:27:07.815669",
     "status": "completed"
    },
    "tags": []
   },
   "source": [
    "# Visualizando los datos de los reportes diarios\n",
    "> Como podemos hacer para aprovechar los datos de los informes diarios\n",
    "\n",
    "- toc: false \n",
    "- badges: true\n",
    "- comments: false\n",
    "- categories: [graficos]\n",
    "- image: images/evolucion-por-provincia.png"
   ]
  },
  {
   "cell_type": "markdown",
   "metadata": {
    "papermill": {
     "duration": 0.01049,
     "end_time": "2020-03-25T02:27:07.852432",
     "exception": false,
     "start_time": "2020-03-25T02:27:07.841942",
     "status": "completed"
    },
    "tags": []
   },
   "source": [
    "En este post evaluamos rapidamente como se puede aprovechar la informacion que se encuentra disponible en el sitio https://www.argentina.gob.ar/coronavirus/informe-diario para tener una vision general de lo que pasa en el pais"
   ]
  },
  {
   "cell_type": "code",
   "execution_count": 1,
   "metadata": {
    "papermill": {
     "duration": 0.01955,
     "end_time": "2020-03-25T02:27:07.882537",
     "exception": false,
     "start_time": "2020-03-25T02:27:07.862987",
     "status": "completed"
    },
    "tags": []
   },
   "outputs": [],
   "source": [
    "#hide\n",
    "headers = {'authority': 'www.argentina.gob.ar',\n",
    " 'cache-control': 'max-age=0',\n",
    " 'dnt': '1',\n",
    " 'upgrade-insecure-requests': '1',\n",
    " 'user-agent': 'Mozilla/5.0 (Macintosh; Intel Mac OS X 10_15_0) AppleWebKit/537.36 (KHTML, like Gecko) Chrome/80.0.3987.149 Safari/537.36',\n",
    " 'sec-fetch-dest': 'document',\n",
    " 'accept': 'text/html,application/xhtml+xml,application/xml;q=0.9,image/webp,image/apng,*/*;q=0.8,application/signed-exchange;v=b3;q=0.9',\n",
    " 'sec-fetch-site': 'none',\n",
    " 'sec-fetch-mode': 'navigate',\n",
    " 'sec-fetch-user': '?1',\n",
    " 'accept-language': 'en-US,en;q=0.9,es-AR;q=0.8,es;q=0.7'}"
   ]
  },
  {
   "cell_type": "code",
   "execution_count": 2,
   "metadata": {
    "papermill": {
     "duration": 0.226283,
     "end_time": "2020-03-25T02:27:08.119367",
     "exception": false,
     "start_time": "2020-03-25T02:27:07.893084",
     "status": "completed"
    },
    "tags": []
   },
   "outputs": [],
   "source": [
    "#hide\n",
    "import requests\n",
    "content = requests.get('https://www.argentina.gob.ar/coronavirus/informe-diario', headers=headers).content"
   ]
  },
  {
   "cell_type": "code",
   "execution_count": 3,
   "metadata": {
    "papermill": {
     "duration": 0.122032,
     "end_time": "2020-03-25T02:27:08.252390",
     "exception": false,
     "start_time": "2020-03-25T02:27:08.130358",
     "status": "completed"
    },
    "tags": []
   },
   "outputs": [],
   "source": [
    "#hide\n",
    "from bs4 import BeautifulSoup\n",
    "soup = BeautifulSoup(content, 'html.parser')\n"
   ]
  },
  {
   "cell_type": "code",
   "execution_count": 4,
   "metadata": {
    "papermill": {
     "duration": 0.019321,
     "end_time": "2020-03-25T02:27:08.283570",
     "exception": false,
     "start_time": "2020-03-25T02:27:08.264249",
     "status": "completed"
    },
    "tags": []
   },
   "outputs": [],
   "source": [
    "#hide\n",
    "pdfs = []\n",
    "for a in soup.find_all('a'):\n",
    "    href = a.attrs.get('href', '')\n",
    "    if 'facebook' in href: continue\n",
    "    if 'linkedin' in href: continue\n",
    "    if 'whatsapp' in href: continue\n",
    "    if 'matutino' in href: continue\n",
    "        \n",
    "    if 'diario' in href:\n",
    "        pdfs.append(href)\n"
   ]
  },
  {
   "cell_type": "code",
   "execution_count": 5,
   "metadata": {
    "papermill": {
     "duration": 0.019417,
     "end_time": "2020-03-25T02:27:08.314039",
     "exception": false,
     "start_time": "2020-03-25T02:27:08.294622",
     "status": "completed"
    },
    "tags": []
   },
   "outputs": [],
   "source": [
    "#hide\n",
    "from pathlib import Path\n",
    "\n",
    "def get_pdf(link):\n",
    "    cache_path = Path('cache')\n",
    "    cache_path.mkdir(exist_ok=True, parents=True)\n",
    "    cache_fname = cache_path / link.split('/')[-1]\n",
    "    if not cache_fname.exists():\n",
    "        pdf_content = requests.get(link, headers=headers).content\n",
    "        with cache_fname.open('wb') as f: f.write(pdf_content)\n",
    "    return cache_fname"
   ]
  },
  {
   "cell_type": "code",
   "execution_count": 6,
   "metadata": {
    "papermill": {
     "duration": 0.01978,
     "end_time": "2020-03-25T02:27:08.345651",
     "exception": false,
     "start_time": "2020-03-25T02:27:08.325871",
     "status": "completed"
    },
    "tags": []
   },
   "outputs": [],
   "source": [
    "#hide\n",
    "from datetime import datetime\n",
    "import re\n",
    "\n",
    "date_pat = re.compile('(\\d+-\\d+-\\d+)')\n",
    "\n",
    "def extract_date(link):\n",
    "    last = link.split('/')[-1]\n",
    "    date_string = date_pat.search(last).group(0)\n",
    "    day, month, year = map(int, date_string.split('-'))\n",
    "    if year == 20: year = 2020\n",
    "    return datetime(year, month, day)"
   ]
  },
  {
   "cell_type": "code",
   "execution_count": 7,
   "metadata": {
    "papermill": {
     "duration": 0.022986,
     "end_time": "2020-03-25T02:27:08.379275",
     "exception": false,
     "start_time": "2020-03-25T02:27:08.356289",
     "status": "completed"
    },
    "tags": []
   },
   "outputs": [],
   "source": [
    "#hide\n",
    "from collections import Counter\n",
    "\n",
    "provinces = [\n",
    "    'Ciudad Autonoma de Buenos Aires', 'Provincia de Buenos Aires', 'Catamarca', 'Chaco', 'Chubut', 'Córdoba', 'Corrientes', 'Entre Ríos',\n",
    "    'Formosa', 'Jujuy', 'La Pampa', 'La Rioja', 'Mendoza', 'Misiones', 'Neuquén', 'Río Negro',\n",
    "    'Salta', 'San Juan', 'San Luis', 'Santa Cruz', 'Santa Fe', 'Santiago del Estero', 'Tierra del Fuego','Tucumán'\n",
    "]\n",
    "\n",
    "def get_vec(s):\n",
    "    return Counter(s)\n",
    "\n",
    "def sim(query_s, target_s):\n",
    "    query_v = get_vec(query_s.lower())\n",
    "    target_v = get_vec(target_s.lower())\n",
    "    \n",
    "    res = 0\n",
    "    for char, cnt in query_v.items():\n",
    "        res += min(cnt, target_v.get(char, 0))\n",
    "    return res / max(len(target_s), len(query_s))\n",
    "    \n",
    "def infer_province(txt):\n",
    "    if 'buenosaires' in txt.lower().replace(' ', ''):\n",
    "        if 'ciudad' in txt.lower(): return 'Ciudad autonoma de Buenos Aires', 1\n",
    "        else: return 'Provincia de Buenos Aires', 1\n",
    "                      \n",
    "    scores = {}\n",
    "    txt = unidecode(txt.lower())\n",
    "    for p in provinces:\n",
    "        scores[p] = sim(txt, unidecode(p.lower()))\n",
    "    \n",
    "    p, score = max(scores.items(), key=lambda x: x[1])\n",
    "    if p == 'Buenos Aires': p = 'Provincia de Buenos Aires'\n",
    "    return p, score\n",
    "    "
   ]
  },
  {
   "cell_type": "code",
   "execution_count": 8,
   "metadata": {
    "papermill": {
     "duration": 0.702786,
     "end_time": "2020-03-25T02:27:09.092735",
     "exception": false,
     "start_time": "2020-03-25T02:27:08.389949",
     "status": "completed"
    },
    "scrolled": false,
    "tags": []
   },
   "outputs": [],
   "source": [
    "#hide\n",
    "from unidecode import unidecode\n",
    "import PyPDF2 \n",
    "\n",
    "pat = re.compile('(?P<num>\\d+)(?P<middle>( *[a-z]{,3}){,2} *)(?P<place>[A-Z]\\w+(\\s\\w+)*)')\n",
    "pat2 = re.compile('\\((?P<num>\\d+)\\)(?P<middle>( *[a-z]{,3}){,5} *)(?P<place>[A-Z]\\w+(\\s\\w+)*)')\n",
    "\n",
    "docs = []\n",
    "\n",
    "for pdf in pdfs:\n",
    "    cached_fname = get_pdf(pdf)\n",
    "#     print(cached_fname)\n",
    "    \n",
    "    pdfReader = PyPDF2.PdfFileReader(cached_fname.open('rb'))\n",
    "    page = pdfReader.getPage(0)\n",
    "    txt = page.extractText().replace('personas', '').replace('\\n', ' ')\n",
    "#     print(txt)\n",
    "    matches = list(pat.finditer(txt)) + list(pat2.finditer(txt))\n",
    "\n",
    "    date = extract_date(pdf)\n",
    "    for e in matches:\n",
    "        gd = e.groupdict()\n",
    "        \n",
    "        if 'argentina' in gd['place'].lower(): continue \n",
    "        if 'covid' in gd['place'].lower(): continue\n",
    "        if 'informe' in gd['place'].lower(): continue\n",
    "        \n",
    "        gd['infered_place'], gd['infered_place_score'] = infer_province(gd['place'])\n",
    "        \n",
    "        gd['infected'] = int(gd.pop('num'))\n",
    "        gd.pop('middle')\n",
    "        gd['date'] = date\n",
    "        docs.append(gd)"
   ]
  },
  {
   "cell_type": "code",
   "execution_count": 9,
   "metadata": {
    "papermill": {
     "duration": 0.420869,
     "end_time": "2020-03-25T02:27:09.524855",
     "exception": false,
     "start_time": "2020-03-25T02:27:09.103986",
     "status": "completed"
    },
    "tags": []
   },
   "outputs": [],
   "source": [
    "#hide\n",
    "import pandas as pd\n",
    "\n",
    "df = pd.DataFrame(docs).sort_values('date')"
   ]
  },
  {
   "cell_type": "code",
   "execution_count": 10,
   "metadata": {
    "papermill": {
     "duration": 0.108833,
     "end_time": "2020-03-25T02:27:09.645199",
     "exception": false,
     "start_time": "2020-03-25T02:27:09.536366",
     "status": "completed"
    },
    "tags": []
   },
   "outputs": [],
   "source": [
    "#hide\n",
    "dfs = []\n",
    "\n",
    "cnt_by_place = df.groupby('infered_place').infected.sum().sort_values(ascending=False)\n",
    "for place in cnt_by_place.index:\n",
    "    p_df = df[df.infered_place==place].copy()\n",
    "    d0 = p_df.date.min()\n",
    "    p_df['days_from_first_infection'] = (p_df.date - d0).apply(lambda x: x.days)\n",
    "    p_df['cum_infected'] = p_df['infected'].cumsum()\n",
    "    dfs.append(p_df)\n",
    "    \n",
    "df = pd.concat(dfs)"
   ]
  },
  {
   "cell_type": "code",
   "execution_count": 11,
   "metadata": {
    "papermill": {
     "duration": 0.436356,
     "end_time": "2020-03-25T02:27:10.093936",
     "exception": false,
     "start_time": "2020-03-25T02:27:09.657580",
     "status": "completed"
    },
    "tags": []
   },
   "outputs": [],
   "source": [
    "#hide\n",
    "import altair as alt\n",
    "\n",
    "def plot_evolution(selected_places=None, xaxis='date', xaxis_title='Fecha'):\n",
    "    selection = alt.selection_multi(\n",
    "        fields=['infered_place'], bind='legend', init=[{'infered_place': c} for c in (selected_places or [])]\n",
    "    )\n",
    "    \n",
    "    return (\n",
    "        alt.Chart(df)\n",
    "           .mark_line(point=True, radius=150)\n",
    "           .encode(\n",
    "               x=alt.X(xaxis, axis=alt.Axis(title=xaxis_title)),\n",
    "               y=alt.Y('cum_infected', scale=alt.Scale(type='log'), axis=alt.Axis(title='Casos confirmados')),\n",
    "               color=alt.Color('infered_place', sort=list(cnt_by_place.index)),\n",
    "               tooltip=list(df.columns), \n",
    "               opacity=alt.condition(selection, alt.value(.8), alt.value(.05))\n",
    "            ).add_selection(selection)\n",
    "             .configure_point(size=200)\n",
    "             .properties(width=650, height=400)\n",
    "             .configure_title(align='center', )\n",
    "    )\n",
    "    "
   ]
  },
  {
   "cell_type": "markdown",
   "metadata": {
    "papermill": {
     "duration": 0.010385,
     "end_time": "2020-03-25T02:27:10.115384",
     "exception": false,
     "start_time": "2020-03-25T02:27:10.104999",
     "status": "completed"
    },
    "tags": []
   },
   "source": [
    "# Evolucion en el tiempo de la cantidad de casos totales\n",
    "\n",
    "Haciendo Shift+Click en las provincias que se ven a la derecha, podemos agregar o quitar provincias al gráfico"
   ]
  },
  {
   "cell_type": "code",
   "execution_count": 12,
   "metadata": {
    "papermill": {
     "duration": 0.111234,
     "end_time": "2020-03-25T02:27:10.237251",
     "exception": false,
     "start_time": "2020-03-25T02:27:10.126017",
     "status": "completed"
    },
    "tags": []
   },
   "outputs": [
    {
     "data": {
      "text/html": [
       "\n",
       "<div id=\"altair-viz-6ee1ec9dec08405d88e884c964025ac0\"></div>\n",
       "<script type=\"text/javascript\">\n",
       "  (function(spec, embedOpt){\n",
       "    const outputDiv = document.getElementById(\"altair-viz-6ee1ec9dec08405d88e884c964025ac0\");\n",
       "    const paths = {\n",
       "      \"vega\": \"https://cdn.jsdelivr.net/npm//vega@5?noext\",\n",
       "      \"vega-lib\": \"https://cdn.jsdelivr.net/npm//vega-lib?noext\",\n",
       "      \"vega-lite\": \"https://cdn.jsdelivr.net/npm//vega-lite@4.0.2?noext\",\n",
       "      \"vega-embed\": \"https://cdn.jsdelivr.net/npm//vega-embed@6?noext\",\n",
       "    };\n",
       "\n",
       "    function loadScript(lib) {\n",
       "      return new Promise(function(resolve, reject) {\n",
       "        var s = document.createElement('script');\n",
       "        s.src = paths[lib];\n",
       "        s.async = true;\n",
       "        s.onload = () => resolve(paths[lib]);\n",
       "        s.onerror = () => reject(`Error loading script: ${paths[lib]}`);\n",
       "        document.getElementsByTagName(\"head\")[0].appendChild(s);\n",
       "      });\n",
       "    }\n",
       "\n",
       "    function showError(err) {\n",
       "      outputDiv.innerHTML = `<div class=\"error\" style=\"color:red;\">${err}</div>`;\n",
       "      throw err;\n",
       "    }\n",
       "\n",
       "    function displayChart(vegaEmbed) {\n",
       "      vegaEmbed(outputDiv, spec, embedOpt)\n",
       "        .catch(err => showError(`Javascript Error: ${err.message}<br>This usually means there's a typo in your chart specification. See the javascript console for the full traceback.`));\n",
       "    }\n",
       "\n",
       "    if(typeof define === \"function\" && define.amd) {\n",
       "      requirejs.config({paths});\n",
       "      require([\"vega-embed\"], displayChart, err => showError(`Error loading script: ${err.message}`));\n",
       "    } else if (typeof vegaEmbed === \"function\") {\n",
       "      displayChart(vegaEmbed);\n",
       "    } else {\n",
       "      loadScript(\"vega\")\n",
       "        .then(() => loadScript(\"vega-lite\"))\n",
       "        .then(() => loadScript(\"vega-embed\"))\n",
       "        .catch(showError)\n",
       "        .then(() => displayChart(vegaEmbed));\n",
       "    }\n",
       "  })({\"config\": {\"view\": {\"continuousWidth\": 400, \"continuousHeight\": 300}, \"point\": {\"size\": 200}, \"title\": {\"align\": \"center\"}}, \"data\": {\"name\": \"data-79994ce379de73cce7734e02ce29ea64\"}, \"mark\": {\"type\": \"line\", \"point\": true, \"radius\": 150}, \"encoding\": {\"color\": {\"type\": \"nominal\", \"field\": \"infered_place\", \"sort\": [\"Ciudad autonoma de Buenos Aires\", \"Provincia de Buenos Aires\", \"Chaco\", \"C\\u00f3rdoba\", \"Santa Fe\", \"Tierra del Fuego\", \"Tucum\\u00e1n\", \"Mendoza\", \"Neuqu\\u00e9n\", \"Entre R\\u00edos\", \"Corrientes\", \"R\\u00edo Negro\", \"Santa Cruz\", \"La Pampa\", \"Jujuy\", \"Salta\", \"Misiones\"]}, \"opacity\": {\"condition\": {\"value\": 0.8, \"selection\": \"selector001\"}, \"value\": 0.05}, \"tooltip\": [{\"type\": \"nominal\", \"field\": \"place\"}, {\"type\": \"nominal\", \"field\": \"infered_place\"}, {\"type\": \"quantitative\", \"field\": \"infered_place_score\"}, {\"type\": \"quantitative\", \"field\": \"infected\"}, {\"type\": \"temporal\", \"field\": \"date\"}, {\"type\": \"quantitative\", \"field\": \"days_from_first_infection\"}, {\"type\": \"quantitative\", \"field\": \"cum_infected\"}], \"x\": {\"type\": \"temporal\", \"axis\": {\"title\": \"Fecha\"}, \"field\": \"date\"}, \"y\": {\"type\": \"quantitative\", \"axis\": {\"title\": \"Casos confirmados\"}, \"field\": \"cum_infected\", \"scale\": {\"type\": \"log\"}}}, \"height\": 400, \"selection\": {\"selector001\": {\"type\": \"multi\", \"fields\": [\"infered_place\"], \"bind\": \"legend\", \"init\": [{\"infered_place\": \"Ciudad autonoma de Buenos Aires\"}, {\"infered_place\": \"Provincia de Buenos Aires\"}, {\"infered_place\": \"Chaco\"}, {\"infered_place\": \"C\\u00f3rdoba\"}, {\"infered_place\": \"Santa Fe\"}]}}, \"width\": 650, \"$schema\": \"https://vega.github.io/schema/vega-lite/v4.0.2.json\", \"datasets\": {\"data-79994ce379de73cce7734e02ce29ea64\": [{\"place\": \"Ciudad de Buenos Aires\", \"infered_place\": \"Ciudad autonoma de Buenos Aires\", \"infered_place_score\": 1.0, \"infected\": 2, \"date\": \"2020-03-13T00:00:00\", \"days_from_first_infection\": 0, \"cum_infected\": 2}, {\"place\": \"Ciudad Aut\\u00f3noma de Buenos Aires\", \"infered_place\": \"Ciudad autonoma de Buenos Aires\", \"infered_place_score\": 1.0, \"infected\": 5, \"date\": \"2020-03-16T00:00:00\", \"days_from_first_infection\": 3, \"cum_infected\": 7}, {\"place\": \"Ciudad Aut\\u00f3noma de Buenos Aires\", \"infered_place\": \"Ciudad autonoma de Buenos Aires\", \"infered_place_score\": 1.0, \"infected\": 4, \"date\": \"2020-03-17T00:00:00\", \"days_from_first_infection\": 4, \"cum_infected\": 11}, {\"place\": \"Ciudad Aut\\u00f3noma de Buenos Aires\", \"infered_place\": \"Ciudad autonoma de Buenos Aires\", \"infered_place_score\": 1.0, \"infected\": 10, \"date\": \"2020-03-18T00:00:00\", \"days_from_first_infection\": 5, \"cum_infected\": 21}, {\"place\": \"Ciudad Aut\\u00f3noma de Buenos Aires\", \"infered_place\": \"Ciudad autonoma de Buenos Aires\", \"infered_place_score\": 1.0, \"infected\": 8, \"date\": \"2020-03-19T00:00:00\", \"days_from_first_infection\": 6, \"cum_infected\": 29}, {\"place\": \"Ciudad Aut\\u00f3noma de Buenos Aires\", \"infered_place\": \"Ciudad autonoma de Buenos Aires\", \"infered_place_score\": 1.0, \"infected\": 9, \"date\": \"2020-03-20T00:00:00\", \"days_from_first_infection\": 7, \"cum_infected\": 38}, {\"place\": \"Ciudad Aut\\u00f3noma de Buenos Aires\", \"infered_place\": \"Ciudad autonoma de Buenos Aires\", \"infered_place_score\": 1.0, \"infected\": 9, \"date\": \"2020-03-21T00:00:00\", \"days_from_first_infection\": 8, \"cum_infected\": 47}, {\"place\": \"Ciudad Aut\\u00f3noma de Buenos Aires\", \"infered_place\": \"Ciudad autonoma de Buenos Aires\", \"infered_place_score\": 1.0, \"infected\": 12, \"date\": \"2020-03-22T00:00:00\", \"days_from_first_infection\": 9, \"cum_infected\": 59}, {\"place\": \"Ciudad Aut\\u00f3noma de Buenos Aires\", \"infered_place\": \"Ciudad autonoma de Buenos Aires\", \"infered_place_score\": 1.0, \"infected\": 11, \"date\": \"2020-03-23T00:00:00\", \"days_from_first_infection\": 10, \"cum_infected\": 70}, {\"place\": \"Ciudad Aut\\u00f3noma de Buenos Aires\", \"infered_place\": \"Ciudad autonoma de Buenos Aires\", \"infered_place_score\": 1.0, \"infected\": 30, \"date\": \"2020-03-24T00:00:00\", \"days_from_first_infection\": 11, \"cum_infected\": 100}, {\"place\": \"Buenos Aires y\", \"infered_place\": \"Provincia de Buenos Aires\", \"infered_place_score\": 1.0, \"infected\": 1, \"date\": \"2020-03-13T00:00:00\", \"days_from_first_infection\": 0, \"cum_infected\": 1}, {\"place\": \"Provincia de Buenos Aires\", \"infered_place\": \"Provincia de Buenos Aires\", \"infered_place_score\": 1.0, \"infected\": 1, \"date\": \"2020-03-16T00:00:00\", \"days_from_first_infection\": 3, \"cum_infected\": 2}, {\"place\": \"Provincia de Buenos Aires\", \"infered_place\": \"Provincia de Buenos Aires\", \"infered_place_score\": 1.0, \"infected\": 2, \"date\": \"2020-03-17T00:00:00\", \"days_from_first_infection\": 4, \"cum_infected\": 4}, {\"place\": \"Provi ncia de Buenos Aires\", \"infered_place\": \"Provincia de Buenos Aires\", \"infered_place_score\": 1.0, \"infected\": 6, \"date\": \"2020-03-18T00:00:00\", \"days_from_first_infection\": 5, \"cum_infected\": 10}, {\"place\": \"Provincia de Buenos Aires\", \"infered_place\": \"Provincia de Buenos Aires\", \"infered_place_score\": 1.0, \"infected\": 15, \"date\": \"2020-03-19T00:00:00\", \"days_from_first_infection\": 6, \"cum_infected\": 25}, {\"place\": \"Provincia de Buenos Aires\", \"infered_place\": \"Provincia de Buenos Aires\", \"infered_place_score\": 1.0, \"infected\": 9, \"date\": \"2020-03-20T00:00:00\", \"days_from_first_infection\": 7, \"cum_infected\": 34}, {\"place\": \"Provincia de Buenos Aires\", \"infered_place\": \"Provincia de Buenos Aires\", \"infered_place_score\": 1.0, \"infected\": 15, \"date\": \"2020-03-21T00:00:00\", \"days_from_first_infection\": 8, \"cum_infected\": 49}, {\"place\": \"Provincia de Buenos Aires\", \"infered_place\": \"Provincia de Buenos Aires\", \"infered_place_score\": 1.0, \"infected\": 8, \"date\": \"2020-03-22T00:00:00\", \"days_from_first_infection\": 9, \"cum_infected\": 57}, {\"place\": \"Provincia de Buenos Aires\", \"infered_place\": \"Provincia de Buenos Aires\", \"infered_place_score\": 1.0, \"infected\": 5, \"date\": \"2020-03-23T00:00:00\", \"days_from_first_infection\": 10, \"cum_infected\": 62}, {\"place\": \"Provincia de Buenos Aires\", \"infered_place\": \"Provincia de Buenos Aires\", \"infered_place_score\": 1.0, \"infected\": 30, \"date\": \"2020-03-24T00:00:00\", \"days_from_first_infection\": 11, \"cum_infected\": 92}, {\"place\": \"Chaco y uno\", \"infered_place\": \"Chaco\", \"infered_place_score\": 0.45454545454545453, \"infected\": 3, \"date\": \"2020-03-16T00:00:00\", \"days_from_first_infection\": 0, \"cum_infected\": 3}, {\"place\": \"Chaco\", \"infered_place\": \"Chaco\", \"infered_place_score\": 1.0, \"infected\": 1, \"date\": \"2020-03-17T00:00:00\", \"days_from_first_infection\": 1, \"cum_infected\": 4}, {\"place\": \"Chaco\", \"infered_place\": \"Chaco\", \"infered_place_score\": 1.0, \"infected\": 1, \"date\": \"2020-03-18T00:00:00\", \"days_from_first_infection\": 2, \"cum_infected\": 5}, {\"place\": \"Chaco\", \"infered_place\": \"Chaco\", \"infered_place_score\": 1.0, \"infected\": 2, \"date\": \"2020-03-19T00:00:00\", \"days_from_first_infection\": 3, \"cum_infected\": 7}, {\"place\": \"Chaco\", \"infered_place\": \"Chaco\", \"infered_place_score\": 1.0, \"infected\": 1, \"date\": \"2020-03-20T00:00:00\", \"days_from_first_infection\": 4, \"cum_infected\": 8}, {\"place\": \"Chaco\", \"infered_place\": \"Chaco\", \"infered_place_score\": 1.0, \"infected\": 5, \"date\": \"2020-03-21T00:00:00\", \"days_from_first_infection\": 5, \"cum_infected\": 13}, {\"place\": \"Chaco\", \"infered_place\": \"Chaco\", \"infered_place_score\": 1.0, \"infected\": 7, \"date\": \"2020-03-22T00:00:00\", \"days_from_first_infection\": 6, \"cum_infected\": 20}, {\"place\": \"Chaco\", \"infered_place\": \"Chaco\", \"infered_place_score\": 1.0, \"infected\": 4, \"date\": \"2020-03-23T00:00:00\", \"days_from_first_infection\": 7, \"cum_infected\": 24}, {\"place\": \"Chaco\", \"infered_place\": \"Chaco\", \"infered_place_score\": 1.0, \"infected\": 9, \"date\": \"2020-03-24T00:00:00\", \"days_from_first_infection\": 8, \"cum_infected\": 33}, {\"place\": \"C\\u00f3rdoba\", \"infered_place\": \"C\\u00f3rdoba\", \"infered_place_score\": 1.0, \"infected\": 2, \"date\": \"2020-03-17T00:00:00\", \"days_from_first_infection\": 0, \"cum_infected\": 2}, {\"place\": \"C\\u00f3rdoba\", \"infered_place\": \"C\\u00f3rdoba\", \"infered_place_score\": 1.0, \"infected\": 1, \"date\": \"2020-03-18T00:00:00\", \"days_from_first_infection\": 1, \"cum_infected\": 3}, {\"place\": \"C\\u00f3rdoba\", \"infered_place\": \"C\\u00f3rdoba\", \"infered_place_score\": 1.0, \"infected\": 3, \"date\": \"2020-03-19T00:00:00\", \"days_from_first_infection\": 2, \"cum_infected\": 6}, {\"place\": \"C\\u00f3rdoba\", \"infered_place\": \"C\\u00f3rdoba\", \"infered_place_score\": 1.0, \"infected\": 5, \"date\": \"2020-03-20T00:00:00\", \"days_from_first_infection\": 3, \"cum_infected\": 11}, {\"place\": \"C\\u00f3rdoba\", \"infered_place\": \"C\\u00f3rdoba\", \"infered_place_score\": 1.0, \"infected\": 4, \"date\": \"2020-03-21T00:00:00\", \"days_from_first_infection\": 4, \"cum_infected\": 15}, {\"place\": \"C\\u00f3rdoba\", \"infered_place\": \"C\\u00f3rdoba\", \"infered_place_score\": 1.0, \"infected\": 8, \"date\": \"2020-03-22T00:00:00\", \"days_from_first_infection\": 5, \"cum_infected\": 23}, {\"place\": \"C\\u00f3rdoba\", \"infered_place\": \"C\\u00f3rdoba\", \"infered_place_score\": 1.0, \"infected\": 3, \"date\": \"2020-03-23T00:00:00\", \"days_from_first_infection\": 6, \"cum_infected\": 26}, {\"place\": \"C\\u00f3rdoba\", \"infered_place\": \"C\\u00f3rdoba\", \"infered_place_score\": 1.0, \"infected\": 7, \"date\": \"2020-03-24T00:00:00\", \"days_from_first_infection\": 7, \"cum_infected\": 33}, {\"place\": \"Santa Fe\", \"infered_place\": \"Santa Fe\", \"infered_place_score\": 1.0, \"infected\": 2, \"date\": \"2020-03-21T00:00:00\", \"days_from_first_infection\": 0, \"cum_infected\": 2}, {\"place\": \"Santa Fe\", \"infered_place\": \"Santa Fe\", \"infered_place_score\": 1.0, \"infected\": 13, \"date\": \"2020-03-23T00:00:00\", \"days_from_first_infection\": 2, \"cum_infected\": 15}, {\"place\": \"Santa Fe\", \"infered_place\": \"Santa Fe\", \"infered_place_score\": 1.0, \"infected\": 3, \"date\": \"2020-03-24T00:00:00\", \"days_from_first_infection\": 3, \"cum_infected\": 18}, {\"place\": \"Tierra del Fuego\", \"infered_place\": \"Tierra del Fuego\", \"infered_place_score\": 1.0, \"infected\": 1, \"date\": \"2020-03-20T00:00:00\", \"days_from_first_infection\": 0, \"cum_infected\": 1}, {\"place\": \"Tierra del Fuego\", \"infered_place\": \"Tierra del Fuego\", \"infered_place_score\": 1.0, \"infected\": 3, \"date\": \"2020-03-21T00:00:00\", \"days_from_first_infection\": 1, \"cum_infected\": 4}, {\"place\": \"Tierra del Fuego\", \"infered_place\": \"Tierra del Fuego\", \"infered_place_score\": 1.0, \"infected\": 4, \"date\": \"2020-03-24T00:00:00\", \"days_from_first_infection\": 4, \"cum_infected\": 8}, {\"place\": \"Tucum\\u00e1n\", \"infered_place\": \"Tucum\\u00e1n\", \"infered_place_score\": 1.0, \"infected\": 1, \"date\": \"2020-03-19T00:00:00\", \"days_from_first_infection\": 0, \"cum_infected\": 1}, {\"place\": \"Tucum\\u00e1n\", \"infered_place\": \"Tucum\\u00e1n\", \"infered_place_score\": 1.0, \"infected\": 5, \"date\": \"2020-03-22T00:00:00\", \"days_from_first_infection\": 3, \"cum_infected\": 6}, {\"place\": \"Mendoza\", \"infered_place\": \"Mendoza\", \"infered_place_score\": 1.0, \"infected\": 5, \"date\": \"2020-03-21T00:00:00\", \"days_from_first_infection\": 0, \"cum_infected\": 5}, {\"place\": \"Neuqu\\u00e9n\", \"infered_place\": \"Neuqu\\u00e9n\", \"infered_place_score\": 1.0, \"infected\": 2, \"date\": \"2020-03-20T00:00:00\", \"days_from_first_infection\": 0, \"cum_infected\": 2}, {\"place\": \"Neuqu\\u00e9n\", \"infered_place\": \"Neuqu\\u00e9n\", \"infered_place_score\": 1.0, \"infected\": 1, \"date\": \"2020-03-24T00:00:00\", \"days_from_first_infection\": 4, \"cum_infected\": 3}, {\"place\": \"Entre R\\u00edos\", \"infered_place\": \"Entre R\\u00edos\", \"infered_place_score\": 1.0, \"infected\": 1, \"date\": \"2020-03-17T00:00:00\", \"days_from_first_infection\": 0, \"cum_infected\": 1}, {\"place\": \"Entre R\\u00edos\", \"infered_place\": \"Entre R\\u00edos\", \"infered_place_score\": 1.0, \"infected\": 1, \"date\": \"2020-03-18T00:00:00\", \"days_from_first_infection\": 1, \"cum_infected\": 2}, {\"place\": \"Entre R\\u00edos\", \"infered_place\": \"Entre R\\u00edos\", \"infered_place_score\": 1.0, \"infected\": 1, \"date\": \"2020-03-20T00:00:00\", \"days_from_first_infection\": 3, \"cum_infected\": 3}, {\"place\": \"Corrientes\", \"infered_place\": \"Corrientes\", \"infered_place_score\": 1.0, \"infected\": 1, \"date\": \"2020-03-20T00:00:00\", \"days_from_first_infection\": 0, \"cum_infected\": 1}, {\"place\": \"Corrientes\", \"infered_place\": \"Corrientes\", \"infered_place_score\": 1.0, \"infected\": 2, \"date\": \"2020-03-21T00:00:00\", \"days_from_first_infection\": 1, \"cum_infected\": 3}, {\"place\": \"R\\u00edo Negro\", \"infered_place\": \"R\\u00edo Negro\", \"infered_place_score\": 1.0, \"infected\": 1, \"date\": \"2020-03-17T00:00:00\", \"days_from_first_infection\": 0, \"cum_infected\": 1}, {\"place\": \"Rio Negro\", \"infered_place\": \"R\\u00edo Negro\", \"infered_place_score\": 1.0, \"infected\": 1, \"date\": \"2020-03-19T00:00:00\", \"days_from_first_infection\": 2, \"cum_infected\": 2}, {\"place\": \"Santa Cruz\", \"infered_place\": \"Santa Cruz\", \"infered_place_score\": 1.0, \"infected\": 1, \"date\": \"2020-03-17T00:00:00\", \"days_from_first_infection\": 0, \"cum_infected\": 1}, {\"place\": \"Santa Cruz\", \"infered_place\": \"Santa Cruz\", \"infered_place_score\": 1.0, \"infected\": 1, \"date\": \"2020-03-24T00:00:00\", \"days_from_first_infection\": 7, \"cum_infected\": 2}, {\"place\": \"La Pampa\", \"infered_place\": \"La Pampa\", \"infered_place_score\": 1.0, \"infected\": 1, \"date\": \"2020-03-24T00:00:00\", \"days_from_first_infection\": 0, \"cum_infected\": 1}, {\"place\": \"Jujuy\", \"infered_place\": \"Jujuy\", \"infered_place_score\": 1.0, \"infected\": 1, \"date\": \"2020-03-17T00:00:00\", \"days_from_first_infection\": 0, \"cum_infected\": 1}, {\"place\": \"Salt a\", \"infered_place\": \"Salta\", \"infered_place_score\": 0.8333333333333334, \"infected\": 1, \"date\": \"2020-03-17T00:00:00\", \"days_from_first_infection\": 0, \"cum_infected\": 1}, {\"place\": \"Misiones\", \"infered_place\": \"Misiones\", \"infered_place_score\": 1.0, \"infected\": 1, \"date\": \"2020-03-22T00:00:00\", \"days_from_first_infection\": 0, \"cum_infected\": 1}]}}, {\"mode\": \"vega-lite\"});\n",
       "</script>"
      ],
      "text/plain": [
       "alt.Chart(...)"
      ]
     },
     "execution_count": 12,
     "metadata": {},
     "output_type": "execute_result"
    }
   ],
   "source": [
    "#hide_input\n",
    "plot_evolution(cnt_by_place[cnt_by_place >=10].index.tolist())#, xaxis='days_from_first_infection')"
   ]
  },
  {
   "cell_type": "markdown",
   "metadata": {
    "papermill": {
     "duration": 0.010941,
     "end_time": "2020-03-25T02:27:10.259690",
     "exception": false,
     "start_time": "2020-03-25T02:27:10.248749",
     "status": "completed"
    },
    "tags": []
   },
   "source": [
    "# Graficando las mismas curvas cambiando el eje X\n",
    "\n",
    "En lugar de utilizar la fecha, utilizamos cantidad de dias desde el primer caso confirmado"
   ]
  },
  {
   "cell_type": "code",
   "execution_count": 13,
   "metadata": {
    "papermill": {
     "duration": 0.083037,
     "end_time": "2020-03-25T02:27:10.354215",
     "exception": false,
     "start_time": "2020-03-25T02:27:10.271178",
     "status": "completed"
    },
    "tags": []
   },
   "outputs": [
    {
     "data": {
      "text/html": [
       "\n",
       "<div id=\"altair-viz-000f8ed1bd9b4c6ab0201a6ff71c3289\"></div>\n",
       "<script type=\"text/javascript\">\n",
       "  (function(spec, embedOpt){\n",
       "    const outputDiv = document.getElementById(\"altair-viz-000f8ed1bd9b4c6ab0201a6ff71c3289\");\n",
       "    const paths = {\n",
       "      \"vega\": \"https://cdn.jsdelivr.net/npm//vega@5?noext\",\n",
       "      \"vega-lib\": \"https://cdn.jsdelivr.net/npm//vega-lib?noext\",\n",
       "      \"vega-lite\": \"https://cdn.jsdelivr.net/npm//vega-lite@4.0.2?noext\",\n",
       "      \"vega-embed\": \"https://cdn.jsdelivr.net/npm//vega-embed@6?noext\",\n",
       "    };\n",
       "\n",
       "    function loadScript(lib) {\n",
       "      return new Promise(function(resolve, reject) {\n",
       "        var s = document.createElement('script');\n",
       "        s.src = paths[lib];\n",
       "        s.async = true;\n",
       "        s.onload = () => resolve(paths[lib]);\n",
       "        s.onerror = () => reject(`Error loading script: ${paths[lib]}`);\n",
       "        document.getElementsByTagName(\"head\")[0].appendChild(s);\n",
       "      });\n",
       "    }\n",
       "\n",
       "    function showError(err) {\n",
       "      outputDiv.innerHTML = `<div class=\"error\" style=\"color:red;\">${err}</div>`;\n",
       "      throw err;\n",
       "    }\n",
       "\n",
       "    function displayChart(vegaEmbed) {\n",
       "      vegaEmbed(outputDiv, spec, embedOpt)\n",
       "        .catch(err => showError(`Javascript Error: ${err.message}<br>This usually means there's a typo in your chart specification. See the javascript console for the full traceback.`));\n",
       "    }\n",
       "\n",
       "    if(typeof define === \"function\" && define.amd) {\n",
       "      requirejs.config({paths});\n",
       "      require([\"vega-embed\"], displayChart, err => showError(`Error loading script: ${err.message}`));\n",
       "    } else if (typeof vegaEmbed === \"function\") {\n",
       "      displayChart(vegaEmbed);\n",
       "    } else {\n",
       "      loadScript(\"vega\")\n",
       "        .then(() => loadScript(\"vega-lite\"))\n",
       "        .then(() => loadScript(\"vega-embed\"))\n",
       "        .catch(showError)\n",
       "        .then(() => displayChart(vegaEmbed));\n",
       "    }\n",
       "  })({\"config\": {\"view\": {\"continuousWidth\": 400, \"continuousHeight\": 300}, \"point\": {\"size\": 200}, \"title\": {\"align\": \"center\"}}, \"data\": {\"name\": \"data-79994ce379de73cce7734e02ce29ea64\"}, \"mark\": {\"type\": \"line\", \"point\": true, \"radius\": 150}, \"encoding\": {\"color\": {\"type\": \"nominal\", \"field\": \"infered_place\", \"sort\": [\"Ciudad autonoma de Buenos Aires\", \"Provincia de Buenos Aires\", \"Chaco\", \"C\\u00f3rdoba\", \"Santa Fe\", \"Tierra del Fuego\", \"Tucum\\u00e1n\", \"Mendoza\", \"Neuqu\\u00e9n\", \"Entre R\\u00edos\", \"Corrientes\", \"R\\u00edo Negro\", \"Santa Cruz\", \"La Pampa\", \"Jujuy\", \"Salta\", \"Misiones\"]}, \"opacity\": {\"condition\": {\"value\": 0.8, \"selection\": \"selector002\"}, \"value\": 0.05}, \"tooltip\": [{\"type\": \"nominal\", \"field\": \"place\"}, {\"type\": \"nominal\", \"field\": \"infered_place\"}, {\"type\": \"quantitative\", \"field\": \"infered_place_score\"}, {\"type\": \"quantitative\", \"field\": \"infected\"}, {\"type\": \"temporal\", \"field\": \"date\"}, {\"type\": \"quantitative\", \"field\": \"days_from_first_infection\"}, {\"type\": \"quantitative\", \"field\": \"cum_infected\"}], \"x\": {\"type\": \"quantitative\", \"axis\": {\"title\": \"Dias desde el primer caso confirmado\"}, \"field\": \"days_from_first_infection\"}, \"y\": {\"type\": \"quantitative\", \"axis\": {\"title\": \"Casos confirmados\"}, \"field\": \"cum_infected\", \"scale\": {\"type\": \"log\"}}}, \"height\": 400, \"selection\": {\"selector002\": {\"type\": \"multi\", \"fields\": [\"infered_place\"], \"bind\": \"legend\", \"init\": [{\"infered_place\": \"Ciudad autonoma de Buenos Aires\"}, {\"infered_place\": \"Provincia de Buenos Aires\"}, {\"infered_place\": \"Chaco\"}, {\"infered_place\": \"C\\u00f3rdoba\"}, {\"infered_place\": \"Santa Fe\"}]}}, \"width\": 650, \"$schema\": \"https://vega.github.io/schema/vega-lite/v4.0.2.json\", \"datasets\": {\"data-79994ce379de73cce7734e02ce29ea64\": [{\"place\": \"Ciudad de Buenos Aires\", \"infered_place\": \"Ciudad autonoma de Buenos Aires\", \"infered_place_score\": 1.0, \"infected\": 2, \"date\": \"2020-03-13T00:00:00\", \"days_from_first_infection\": 0, \"cum_infected\": 2}, {\"place\": \"Ciudad Aut\\u00f3noma de Buenos Aires\", \"infered_place\": \"Ciudad autonoma de Buenos Aires\", \"infered_place_score\": 1.0, \"infected\": 5, \"date\": \"2020-03-16T00:00:00\", \"days_from_first_infection\": 3, \"cum_infected\": 7}, {\"place\": \"Ciudad Aut\\u00f3noma de Buenos Aires\", \"infered_place\": \"Ciudad autonoma de Buenos Aires\", \"infered_place_score\": 1.0, \"infected\": 4, \"date\": \"2020-03-17T00:00:00\", \"days_from_first_infection\": 4, \"cum_infected\": 11}, {\"place\": \"Ciudad Aut\\u00f3noma de Buenos Aires\", \"infered_place\": \"Ciudad autonoma de Buenos Aires\", \"infered_place_score\": 1.0, \"infected\": 10, \"date\": \"2020-03-18T00:00:00\", \"days_from_first_infection\": 5, \"cum_infected\": 21}, {\"place\": \"Ciudad Aut\\u00f3noma de Buenos Aires\", \"infered_place\": \"Ciudad autonoma de Buenos Aires\", \"infered_place_score\": 1.0, \"infected\": 8, \"date\": \"2020-03-19T00:00:00\", \"days_from_first_infection\": 6, \"cum_infected\": 29}, {\"place\": \"Ciudad Aut\\u00f3noma de Buenos Aires\", \"infered_place\": \"Ciudad autonoma de Buenos Aires\", \"infered_place_score\": 1.0, \"infected\": 9, \"date\": \"2020-03-20T00:00:00\", \"days_from_first_infection\": 7, \"cum_infected\": 38}, {\"place\": \"Ciudad Aut\\u00f3noma de Buenos Aires\", \"infered_place\": \"Ciudad autonoma de Buenos Aires\", \"infered_place_score\": 1.0, \"infected\": 9, \"date\": \"2020-03-21T00:00:00\", \"days_from_first_infection\": 8, \"cum_infected\": 47}, {\"place\": \"Ciudad Aut\\u00f3noma de Buenos Aires\", \"infered_place\": \"Ciudad autonoma de Buenos Aires\", \"infered_place_score\": 1.0, \"infected\": 12, \"date\": \"2020-03-22T00:00:00\", \"days_from_first_infection\": 9, \"cum_infected\": 59}, {\"place\": \"Ciudad Aut\\u00f3noma de Buenos Aires\", \"infered_place\": \"Ciudad autonoma de Buenos Aires\", \"infered_place_score\": 1.0, \"infected\": 11, \"date\": \"2020-03-23T00:00:00\", \"days_from_first_infection\": 10, \"cum_infected\": 70}, {\"place\": \"Ciudad Aut\\u00f3noma de Buenos Aires\", \"infered_place\": \"Ciudad autonoma de Buenos Aires\", \"infered_place_score\": 1.0, \"infected\": 30, \"date\": \"2020-03-24T00:00:00\", \"days_from_first_infection\": 11, \"cum_infected\": 100}, {\"place\": \"Buenos Aires y\", \"infered_place\": \"Provincia de Buenos Aires\", \"infered_place_score\": 1.0, \"infected\": 1, \"date\": \"2020-03-13T00:00:00\", \"days_from_first_infection\": 0, \"cum_infected\": 1}, {\"place\": \"Provincia de Buenos Aires\", \"infered_place\": \"Provincia de Buenos Aires\", \"infered_place_score\": 1.0, \"infected\": 1, \"date\": \"2020-03-16T00:00:00\", \"days_from_first_infection\": 3, \"cum_infected\": 2}, {\"place\": \"Provincia de Buenos Aires\", \"infered_place\": \"Provincia de Buenos Aires\", \"infered_place_score\": 1.0, \"infected\": 2, \"date\": \"2020-03-17T00:00:00\", \"days_from_first_infection\": 4, \"cum_infected\": 4}, {\"place\": \"Provi ncia de Buenos Aires\", \"infered_place\": \"Provincia de Buenos Aires\", \"infered_place_score\": 1.0, \"infected\": 6, \"date\": \"2020-03-18T00:00:00\", \"days_from_first_infection\": 5, \"cum_infected\": 10}, {\"place\": \"Provincia de Buenos Aires\", \"infered_place\": \"Provincia de Buenos Aires\", \"infered_place_score\": 1.0, \"infected\": 15, \"date\": \"2020-03-19T00:00:00\", \"days_from_first_infection\": 6, \"cum_infected\": 25}, {\"place\": \"Provincia de Buenos Aires\", \"infered_place\": \"Provincia de Buenos Aires\", \"infered_place_score\": 1.0, \"infected\": 9, \"date\": \"2020-03-20T00:00:00\", \"days_from_first_infection\": 7, \"cum_infected\": 34}, {\"place\": \"Provincia de Buenos Aires\", \"infered_place\": \"Provincia de Buenos Aires\", \"infered_place_score\": 1.0, \"infected\": 15, \"date\": \"2020-03-21T00:00:00\", \"days_from_first_infection\": 8, \"cum_infected\": 49}, {\"place\": \"Provincia de Buenos Aires\", \"infered_place\": \"Provincia de Buenos Aires\", \"infered_place_score\": 1.0, \"infected\": 8, \"date\": \"2020-03-22T00:00:00\", \"days_from_first_infection\": 9, \"cum_infected\": 57}, {\"place\": \"Provincia de Buenos Aires\", \"infered_place\": \"Provincia de Buenos Aires\", \"infered_place_score\": 1.0, \"infected\": 5, \"date\": \"2020-03-23T00:00:00\", \"days_from_first_infection\": 10, \"cum_infected\": 62}, {\"place\": \"Provincia de Buenos Aires\", \"infered_place\": \"Provincia de Buenos Aires\", \"infered_place_score\": 1.0, \"infected\": 30, \"date\": \"2020-03-24T00:00:00\", \"days_from_first_infection\": 11, \"cum_infected\": 92}, {\"place\": \"Chaco y uno\", \"infered_place\": \"Chaco\", \"infered_place_score\": 0.45454545454545453, \"infected\": 3, \"date\": \"2020-03-16T00:00:00\", \"days_from_first_infection\": 0, \"cum_infected\": 3}, {\"place\": \"Chaco\", \"infered_place\": \"Chaco\", \"infered_place_score\": 1.0, \"infected\": 1, \"date\": \"2020-03-17T00:00:00\", \"days_from_first_infection\": 1, \"cum_infected\": 4}, {\"place\": \"Chaco\", \"infered_place\": \"Chaco\", \"infered_place_score\": 1.0, \"infected\": 1, \"date\": \"2020-03-18T00:00:00\", \"days_from_first_infection\": 2, \"cum_infected\": 5}, {\"place\": \"Chaco\", \"infered_place\": \"Chaco\", \"infered_place_score\": 1.0, \"infected\": 2, \"date\": \"2020-03-19T00:00:00\", \"days_from_first_infection\": 3, \"cum_infected\": 7}, {\"place\": \"Chaco\", \"infered_place\": \"Chaco\", \"infered_place_score\": 1.0, \"infected\": 1, \"date\": \"2020-03-20T00:00:00\", \"days_from_first_infection\": 4, \"cum_infected\": 8}, {\"place\": \"Chaco\", \"infered_place\": \"Chaco\", \"infered_place_score\": 1.0, \"infected\": 5, \"date\": \"2020-03-21T00:00:00\", \"days_from_first_infection\": 5, \"cum_infected\": 13}, {\"place\": \"Chaco\", \"infered_place\": \"Chaco\", \"infered_place_score\": 1.0, \"infected\": 7, \"date\": \"2020-03-22T00:00:00\", \"days_from_first_infection\": 6, \"cum_infected\": 20}, {\"place\": \"Chaco\", \"infered_place\": \"Chaco\", \"infered_place_score\": 1.0, \"infected\": 4, \"date\": \"2020-03-23T00:00:00\", \"days_from_first_infection\": 7, \"cum_infected\": 24}, {\"place\": \"Chaco\", \"infered_place\": \"Chaco\", \"infered_place_score\": 1.0, \"infected\": 9, \"date\": \"2020-03-24T00:00:00\", \"days_from_first_infection\": 8, \"cum_infected\": 33}, {\"place\": \"C\\u00f3rdoba\", \"infered_place\": \"C\\u00f3rdoba\", \"infered_place_score\": 1.0, \"infected\": 2, \"date\": \"2020-03-17T00:00:00\", \"days_from_first_infection\": 0, \"cum_infected\": 2}, {\"place\": \"C\\u00f3rdoba\", \"infered_place\": \"C\\u00f3rdoba\", \"infered_place_score\": 1.0, \"infected\": 1, \"date\": \"2020-03-18T00:00:00\", \"days_from_first_infection\": 1, \"cum_infected\": 3}, {\"place\": \"C\\u00f3rdoba\", \"infered_place\": \"C\\u00f3rdoba\", \"infered_place_score\": 1.0, \"infected\": 3, \"date\": \"2020-03-19T00:00:00\", \"days_from_first_infection\": 2, \"cum_infected\": 6}, {\"place\": \"C\\u00f3rdoba\", \"infered_place\": \"C\\u00f3rdoba\", \"infered_place_score\": 1.0, \"infected\": 5, \"date\": \"2020-03-20T00:00:00\", \"days_from_first_infection\": 3, \"cum_infected\": 11}, {\"place\": \"C\\u00f3rdoba\", \"infered_place\": \"C\\u00f3rdoba\", \"infered_place_score\": 1.0, \"infected\": 4, \"date\": \"2020-03-21T00:00:00\", \"days_from_first_infection\": 4, \"cum_infected\": 15}, {\"place\": \"C\\u00f3rdoba\", \"infered_place\": \"C\\u00f3rdoba\", \"infered_place_score\": 1.0, \"infected\": 8, \"date\": \"2020-03-22T00:00:00\", \"days_from_first_infection\": 5, \"cum_infected\": 23}, {\"place\": \"C\\u00f3rdoba\", \"infered_place\": \"C\\u00f3rdoba\", \"infered_place_score\": 1.0, \"infected\": 3, \"date\": \"2020-03-23T00:00:00\", \"days_from_first_infection\": 6, \"cum_infected\": 26}, {\"place\": \"C\\u00f3rdoba\", \"infered_place\": \"C\\u00f3rdoba\", \"infered_place_score\": 1.0, \"infected\": 7, \"date\": \"2020-03-24T00:00:00\", \"days_from_first_infection\": 7, \"cum_infected\": 33}, {\"place\": \"Santa Fe\", \"infered_place\": \"Santa Fe\", \"infered_place_score\": 1.0, \"infected\": 2, \"date\": \"2020-03-21T00:00:00\", \"days_from_first_infection\": 0, \"cum_infected\": 2}, {\"place\": \"Santa Fe\", \"infered_place\": \"Santa Fe\", \"infered_place_score\": 1.0, \"infected\": 13, \"date\": \"2020-03-23T00:00:00\", \"days_from_first_infection\": 2, \"cum_infected\": 15}, {\"place\": \"Santa Fe\", \"infered_place\": \"Santa Fe\", \"infered_place_score\": 1.0, \"infected\": 3, \"date\": \"2020-03-24T00:00:00\", \"days_from_first_infection\": 3, \"cum_infected\": 18}, {\"place\": \"Tierra del Fuego\", \"infered_place\": \"Tierra del Fuego\", \"infered_place_score\": 1.0, \"infected\": 1, \"date\": \"2020-03-20T00:00:00\", \"days_from_first_infection\": 0, \"cum_infected\": 1}, {\"place\": \"Tierra del Fuego\", \"infered_place\": \"Tierra del Fuego\", \"infered_place_score\": 1.0, \"infected\": 3, \"date\": \"2020-03-21T00:00:00\", \"days_from_first_infection\": 1, \"cum_infected\": 4}, {\"place\": \"Tierra del Fuego\", \"infered_place\": \"Tierra del Fuego\", \"infered_place_score\": 1.0, \"infected\": 4, \"date\": \"2020-03-24T00:00:00\", \"days_from_first_infection\": 4, \"cum_infected\": 8}, {\"place\": \"Tucum\\u00e1n\", \"infered_place\": \"Tucum\\u00e1n\", \"infered_place_score\": 1.0, \"infected\": 1, \"date\": \"2020-03-19T00:00:00\", \"days_from_first_infection\": 0, \"cum_infected\": 1}, {\"place\": \"Tucum\\u00e1n\", \"infered_place\": \"Tucum\\u00e1n\", \"infered_place_score\": 1.0, \"infected\": 5, \"date\": \"2020-03-22T00:00:00\", \"days_from_first_infection\": 3, \"cum_infected\": 6}, {\"place\": \"Mendoza\", \"infered_place\": \"Mendoza\", \"infered_place_score\": 1.0, \"infected\": 5, \"date\": \"2020-03-21T00:00:00\", \"days_from_first_infection\": 0, \"cum_infected\": 5}, {\"place\": \"Neuqu\\u00e9n\", \"infered_place\": \"Neuqu\\u00e9n\", \"infered_place_score\": 1.0, \"infected\": 2, \"date\": \"2020-03-20T00:00:00\", \"days_from_first_infection\": 0, \"cum_infected\": 2}, {\"place\": \"Neuqu\\u00e9n\", \"infered_place\": \"Neuqu\\u00e9n\", \"infered_place_score\": 1.0, \"infected\": 1, \"date\": \"2020-03-24T00:00:00\", \"days_from_first_infection\": 4, \"cum_infected\": 3}, {\"place\": \"Entre R\\u00edos\", \"infered_place\": \"Entre R\\u00edos\", \"infered_place_score\": 1.0, \"infected\": 1, \"date\": \"2020-03-17T00:00:00\", \"days_from_first_infection\": 0, \"cum_infected\": 1}, {\"place\": \"Entre R\\u00edos\", \"infered_place\": \"Entre R\\u00edos\", \"infered_place_score\": 1.0, \"infected\": 1, \"date\": \"2020-03-18T00:00:00\", \"days_from_first_infection\": 1, \"cum_infected\": 2}, {\"place\": \"Entre R\\u00edos\", \"infered_place\": \"Entre R\\u00edos\", \"infered_place_score\": 1.0, \"infected\": 1, \"date\": \"2020-03-20T00:00:00\", \"days_from_first_infection\": 3, \"cum_infected\": 3}, {\"place\": \"Corrientes\", \"infered_place\": \"Corrientes\", \"infered_place_score\": 1.0, \"infected\": 1, \"date\": \"2020-03-20T00:00:00\", \"days_from_first_infection\": 0, \"cum_infected\": 1}, {\"place\": \"Corrientes\", \"infered_place\": \"Corrientes\", \"infered_place_score\": 1.0, \"infected\": 2, \"date\": \"2020-03-21T00:00:00\", \"days_from_first_infection\": 1, \"cum_infected\": 3}, {\"place\": \"R\\u00edo Negro\", \"infered_place\": \"R\\u00edo Negro\", \"infered_place_score\": 1.0, \"infected\": 1, \"date\": \"2020-03-17T00:00:00\", \"days_from_first_infection\": 0, \"cum_infected\": 1}, {\"place\": \"Rio Negro\", \"infered_place\": \"R\\u00edo Negro\", \"infered_place_score\": 1.0, \"infected\": 1, \"date\": \"2020-03-19T00:00:00\", \"days_from_first_infection\": 2, \"cum_infected\": 2}, {\"place\": \"Santa Cruz\", \"infered_place\": \"Santa Cruz\", \"infered_place_score\": 1.0, \"infected\": 1, \"date\": \"2020-03-17T00:00:00\", \"days_from_first_infection\": 0, \"cum_infected\": 1}, {\"place\": \"Santa Cruz\", \"infered_place\": \"Santa Cruz\", \"infered_place_score\": 1.0, \"infected\": 1, \"date\": \"2020-03-24T00:00:00\", \"days_from_first_infection\": 7, \"cum_infected\": 2}, {\"place\": \"La Pampa\", \"infered_place\": \"La Pampa\", \"infered_place_score\": 1.0, \"infected\": 1, \"date\": \"2020-03-24T00:00:00\", \"days_from_first_infection\": 0, \"cum_infected\": 1}, {\"place\": \"Jujuy\", \"infered_place\": \"Jujuy\", \"infered_place_score\": 1.0, \"infected\": 1, \"date\": \"2020-03-17T00:00:00\", \"days_from_first_infection\": 0, \"cum_infected\": 1}, {\"place\": \"Salt a\", \"infered_place\": \"Salta\", \"infered_place_score\": 0.8333333333333334, \"infected\": 1, \"date\": \"2020-03-17T00:00:00\", \"days_from_first_infection\": 0, \"cum_infected\": 1}, {\"place\": \"Misiones\", \"infered_place\": \"Misiones\", \"infered_place_score\": 1.0, \"infected\": 1, \"date\": \"2020-03-22T00:00:00\", \"days_from_first_infection\": 0, \"cum_infected\": 1}]}}, {\"mode\": \"vega-lite\"});\n",
       "</script>"
      ],
      "text/plain": [
       "alt.Chart(...)"
      ]
     },
     "execution_count": 13,
     "metadata": {},
     "output_type": "execute_result"
    }
   ],
   "source": [
    "#hide_input\n",
    "plot_evolution(\n",
    "    cnt_by_place[cnt_by_place >=10].index.tolist(), \n",
    "    xaxis='days_from_first_infection', \n",
    "    xaxis_title='Dias desde el primer caso confirmado'\n",
    ")"
   ]
  },
  {
   "cell_type": "code",
   "execution_count": null,
   "metadata": {
    "papermill": {
     "duration": 0.012062,
     "end_time": "2020-03-25T02:27:10.379069",
     "exception": false,
     "start_time": "2020-03-25T02:27:10.367007",
     "status": "completed"
    },
    "tags": []
   },
   "outputs": [],
   "source": []
  }
 ],
 "metadata": {
  "kernelspec": {
   "display_name": "Python 3",
   "language": "python",
   "name": "python3"
  },
  "language_info": {
   "codemirror_mode": {
    "name": "ipython",
    "version": 3
   },
   "file_extension": ".py",
   "mimetype": "text/x-python",
   "name": "python",
   "nbconvert_exporter": "python",
   "pygments_lexer": "ipython3",
   "version": "3.6.10"
  },
  "papermill": {
   "duration": 3.721105,
   "end_time": "2020-03-25T02:27:10.395055",
   "environment_variables": {},
   "exception": null,
   "input_path": "2020-03-24-visualizando-los-datos-del-informe-diario.ipynb",
   "output_path": "2020-03-24-visualizando-los-datos-del-informe-diario.ipynb",
   "parameters": {},
   "start_time": "2020-03-25T02:27:06.673950",
   "version": "2.0.0"
  }
 },
 "nbformat": 4,
 "nbformat_minor": 4
}