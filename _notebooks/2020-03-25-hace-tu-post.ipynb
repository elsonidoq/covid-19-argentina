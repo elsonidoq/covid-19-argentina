{
 "cells": [
  {
   "cell_type": "markdown",
   "metadata": {
    "papermill": {
     "duration": 0.012056,
     "end_time": "2020-03-25T14:04:05.788795",
     "exception": false,
     "start_time": "2020-03-25T14:04:05.776739",
     "status": "completed"
    },
    "tags": []
   },
   "source": [
    "# Hace tu visualizacion!\n",
    "> Después del último post varias personas se acercaron con ideas para probar...\n",
    "\n",
    "- toc: false \n",
    "- badges: true\n",
    "- comments: false\n",
    "- categories: [tutorial]\n",
    "- image: images/infected-and-growth.png"
   ]
  },
  {
   "cell_type": "markdown",
   "metadata": {
    "papermill": {
     "duration": 0.008302,
     "end_time": "2020-03-25T14:04:05.806603",
     "exception": false,
     "start_time": "2020-03-25T14:04:05.798301",
     "status": "completed"
    },
    "tags": []
   },
   "source": [
    "... asi que aqui vamos!\n",
    "\n",
    "Para los posts anteriores utilicé los **datos** de la universidad de [Johns Hopkins](https://github.com/CSSEGISandData/COVID-19) y los [datos publicados nacionales](https://www.argentina.gob.ar/coronavirus/informe-diario), que a diferencia de los de Johns Hopkins, está abierta por provincias\n",
    "\n",
    "Los datos abiertos por provincias provienen de un **scrapper que la saca de los PDFs**. Los primeros informes no seguian un patron tan sencillo para extraer, y luego estandarizaron en una enumeracion. Como los casos de los primeros informes eran unos pocos, el scrapper los desestima.\n",
    "\n",
    "En este post, intencionalmente **no oculté las celdas**. \n",
    "\n",
    "En las notebooks de otros posts oculté el código por una cuestion de legibilidad. Si entran en [este](https://github.com/elsonidoq/covid-19-argentina/blob/master/_notebooks/2020-03-24-visualizando-los-datos-del-informe-diario.ipynb), van a ver dice `#hide` en muchas cells. Eso hace que se oculte al hacer el post\n",
    "\n",
    "Para ver la documentación sobre como colaborar, pueden ir a [fastpages](https://fastpages.fast.ai/).\n"
   ]
  },
  {
   "cell_type": "code",
   "execution_count": 1,
   "metadata": {},
   "outputs": [],
   "source": [
    "# voy a usar tanto matplotlib, altair y seaborn... porque se puede!\n",
    "%matplotlib inline\n",
    "import matplotlib.pyplot as plt\n",
    "import altair as alt\n",
    "import seaborn as sns\n",
    "import pandas as pd\n",
    "import numpy as np\n",
    "\n",
    "# Estos files estan en el repo\n",
    "import arg_data\n",
    "import global_data\n",
    "\n",
    "sns.set(style='whitegrid')"
   ]
  },
  {
   "cell_type": "markdown",
   "metadata": {},
   "source": [
    "## Cargamos los dataframes"
   ]
  },
  {
   "cell_type": "code",
   "execution_count": null,
   "metadata": {},
   "outputs": [],
   "source": [
    "# Baja los PDFs, los guarda en la carpeta cache y los lee\n",
    "arg_df = arg_data.get_arg_df()\n",
    "\n",
    "# Accede a la data de JH\n",
    "global_df = global_data.get_global_covid_df()"
   ]
  },
  {
   "cell_type": "code",
   "execution_count": null,
   "metadata": {},
   "outputs": [],
   "source": [
    "arg_df.head()"
   ]
  },
  {
   "cell_type": "code",
   "execution_count": null,
   "metadata": {},
   "outputs": [],
   "source": [
    "global_df.head()"
   ]
  },
  {
   "cell_type": "markdown",
   "metadata": {},
   "source": [
    "----\n",
    "### A partir de aca, podes hacer cualquier estadística que combine estos datos"
   ]
  },
  {
   "cell_type": "markdown",
   "metadata": {},
   "source": [
    "Por ejemplo, evolución (interactiva!) de los paises con mas infectados"
   ]
  },
  {
   "cell_type": "code",
   "execution_count": null,
   "metadata": {},
   "outputs": [],
   "source": [
    "total_confirmed_by_country = global_df.groupby('country').confirmed.max().sort_values(ascending=False)\n",
    "selected_countries = total_confirmed_by_country[total_confirmed_by_country > 1000].index\n",
    "\n",
    "plot_df = global_df[\n",
    "    (global_df.confirmed > 0) & \n",
    "    (global_df.country.isin(selected_countries[:10]))\n",
    "].sort_values('date')\n",
    "\n",
    "selection = alt.selection_multi(\n",
    "    fields=['country'], \n",
    "    bind='legend', \n",
    "    init=[{'country': c} for c in selected_countries[:10]]\n",
    ")\n",
    "\n",
    "\n",
    "(\n",
    "    alt.Chart(plot_df)\n",
    "       .mark_line()\n",
    "       .encode(\n",
    "           x='days_from_first_infection', \n",
    "           y=alt.Y('confirmed', scale=alt.Scale(type='log')), \n",
    "           color='country',\n",
    "           opacity=alt.condition(selection, alt.value(.8), alt.value(.05))\n",
    "       ).add_selection(selection)\n",
    "        .properties(width=650, height=400)\n",
    "       \n",
    ")"
   ]
  },
  {
   "cell_type": "markdown",
   "metadata": {
    "papermill": {
     "duration": 0.009538,
     "end_time": "2020-03-25T14:04:07.714487",
     "exception": false,
     "start_time": "2020-03-25T14:04:07.704949",
     "status": "completed"
    },
    "tags": []
   },
   "source": [
    "_Y si no te llevas bien con altair (como yo!), podes usar el good 'ol matplotlib_"
   ]
  },
  {
   "cell_type": "code",
   "execution_count": null,
   "metadata": {},
   "outputs": [],
   "source": [
    "fig = plt.figure(figsize=(15,8))\n",
    "ax = fig.subplots()\n",
    "\n",
    "sns.lineplot(\n",
    "    data=plot_df, \n",
    "    x='days_from_first_infection', \n",
    "    y='confirmed', \n",
    "    hue='country',\n",
    "    lw=2\n",
    ")\n",
    "\n",
    "for country in selected_countries[:5]:\n",
    "    cdf = plot_df[plot_df.country == country]\n",
    "    loc = min(40, len(cdf)-1)\n",
    "    row = cdf.iloc[loc]\n",
    "    plt.text(row.days_from_first_infection, row.confirmed * 1.2, country, fontdict=dict(size=15))\n",
    "\n",
    "x=np.linspace(1, global_df.days_from_first_infection.max())\n",
    "def plot_rate(rate):\n",
    "    y = rate ** x\n",
    "    ax.semilogy(x, y, 'k--', lw=2, alpha=0.5)\n",
    "    plt.text(x[40], y[40] * 3, f'R0={rate}', fontdict=dict(size=15))\n",
    "    \n",
    "\n",
    "plot_rate(1.1)\n",
    "plot_rate(1.2)\n",
    "plot_rate(1.3)\n",
    "ax.grid()\n",
    "plt.legend(loc='best', ncol=2);"
   ]
  },
  {
   "cell_type": "markdown",
   "metadata": {},
   "source": [
    "# Tasa de contagios por país\n",
    "\n",
    "El color corresponde con la cantidad de casos confirmados"
   ]
  },
  {
   "cell_type": "code",
   "execution_count": null,
   "metadata": {},
   "outputs": [],
   "source": [
    "today_df = global_df[\n",
    "    (global_df.date == global_df.date.max()) & \n",
    "    (global_df.confirmed > 1000)\n",
    "]\n",
    "\n",
    "\n",
    "alt.Chart(today_df).mark_bar().encode(\n",
    "    x=alt.X(\n",
    "        'country', \n",
    "        sort=list(\n",
    "            today_df.set_index('country')\n",
    "                    .confirmed_growth_rate\n",
    "                    .sort_values()\n",
    "                    .index[::-1]\n",
    "        )\n",
    "    ),\n",
    "    y=alt.X(\n",
    "        'confirmed_growth_rate', \n",
    "        scale=alt.Scale(domain=[1, 1.6], clamp=True)\n",
    "    ),\n",
    "    color=alt.Color('confirmed', scale=alt.Scale(type='log')),\n",
    "    tooltip=list(today_df.columns)\n",
    ")"
   ]
  }
 ],
 "metadata": {
  "kernelspec": {
   "display_name": "Python 3",
   "language": "python",
   "name": "python3"
  },
  "language_info": {
   "codemirror_mode": {
    "name": "ipython",
    "version": 3
   },
   "file_extension": ".py",
   "mimetype": "text/x-python",
   "name": "python",
   "nbconvert_exporter": "python",
   "pygments_lexer": "ipython3",
   "version": "3.7.4"
  },
  "papermill": {
   "duration": 2.988172,
   "end_time": "2020-03-25T14:04:07.727490",
   "environment_variables": {},
   "exception": null,
   "input_path": "2020-03-24-visualizando-los-datos-del-informe-diario.ipynb",
   "output_path": "2020-03-24-visualizando-los-datos-del-informe-diario.ipynb",
   "parameters": {},
   "start_time": "2020-03-25T14:04:04.739318",
   "version": "2.0.0"
  }
 },
 "nbformat": 4,
 "nbformat_minor": 4
}
