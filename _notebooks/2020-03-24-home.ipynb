{
 "cells": [
  {
   "cell_type": "markdown",
   "metadata": {
    "papermill": {
     "duration": 0.00752,
     "end_time": "2020-04-04T20:03:31.054833",
     "exception": false,
     "start_time": "2020-04-04T20:03:31.047313",
     "status": "completed"
    },
    "tags": []
   },
   "source": [
    "# Home\n",
    "> home\n",
    "\n",
    "- toc: false \n",
    "- badges: true\n",
    "- comments: false\n",
    "- categories: []\n",
    "- image: images/evolucion-por-provincia.png\n",
    "- home: true\n",
    "- hide: true"
   ]
  },
  {
   "cell_type": "code",
   "execution_count": 1,
   "metadata": {
    "execution": {
     "iopub.execute_input": "2020-04-04T20:03:31.070683Z",
     "iopub.status.busy": "2020-04-04T20:03:31.070039Z",
     "iopub.status.idle": "2020-04-04T20:03:33.270248Z",
     "shell.execute_reply": "2020-04-04T20:03:33.269146Z"
    },
    "papermill": {
     "duration": 2.209859,
     "end_time": "2020-04-04T20:03:33.270413",
     "exception": false,
     "start_time": "2020-04-04T20:03:31.060554",
     "status": "completed"
    },
    "tags": []
   },
   "outputs": [
    {
     "name": "stdout",
     "output_type": "stream",
     "text": [
      "Processing cache/03-04-20_reporte_vespertino_covid_19.pdf...\n",
      "\tHas 27 matches\n",
      "Processing cache/02-04-20_reporte_vespertino_covid_19_0.pdf...\n",
      "\tHas 2 matches\n",
      "Processing cache/01-04-20_reporte_vespertino_covid-19.pdf...\n"
     ]
    },
    {
     "name": "stdout",
     "output_type": "stream",
     "text": [
      "\tHas 2 matches\n",
      "Processing cache/31-03-20-reporte-vespertino-covid-19.pdf...\n",
      "\tHas 26 matches\n",
      "Processing cache/30-03-20-reporte-vespertino-covid-19.pdf...\n",
      "\tHas 26 matches\n",
      "Processing cache/29-03-20_reporte_vespertino_covid_19.pdf...\n",
      "\tHas 27 matches\n",
      "Processing cache/28-03-20-reporte-vespertino-covid-19.pdf...\n"
     ]
    },
    {
     "name": "stdout",
     "output_type": "stream",
     "text": [
      "\tHas 11 matches\n",
      "Processing cache/27-03-20-reporte-diario-vespertino-covid-19.pdf...\n",
      "\tHas 15 matches\n",
      "Processing cache/26-03-20-reporte-diario-vespertino-covid-19.pdf...\n",
      "\tHas 14 matches\n",
      "Processing cache/25-03-20-reporte-diario-vespertino-covid-19.pdf...\n",
      "\tHas 15 matches\n",
      "Processing cache/24-03-20-reporte-diario-vespertino-covid-19_0.pdf...\n"
     ]
    },
    {
     "name": "stdout",
     "output_type": "stream",
     "text": [
      "\tHas 11 matches\n",
      "Processing cache/23-03-2020-covid19_informe-diario.pdf...\n",
      "\tHas 8 matches\n",
      "Processing cache/22-03-20-reporte-diario_covid19.pdf...\n",
      "\tHas 8 matches\n",
      "Processing cache/21-03-20-reporte-diario_covid19.pdf...\n",
      "\tHas 12 matches\n",
      "Processing cache/20-03-20_reporte_diario_covid_19_2.pdf...\n",
      "\tHas 11 matches\n",
      "Processing cache/19-03-20-reporte-diario-covid-19.pdf...\n"
     ]
    },
    {
     "name": "stdout",
     "output_type": "stream",
     "text": [
      "\tHas 9 matches\n",
      "Processing cache/18-03-20_reporte_diario_covid-19_1.pdf...\n",
      "\tHas 8 matches\n",
      "Processing cache/17-03-20_reporte_diario_covid-19.pdf...\n",
      "\tHas 12 matches\n",
      "Processing cache/16-03-20-reporte-diario-covid-19_0.pdf...\n",
      "\tHas 7 matches\n",
      "Skipping 15032020-nuevo-coronavirus-covid-19_0.pdf\n",
      "Processing cache/14-03-20-reporte-diario-covid-19_0.pdf...\n"
     ]
    },
    {
     "name": "stdout",
     "output_type": "stream",
     "text": [
      "\tHas 0 matches\n",
      "Processing cache/13-03-20-reporte-diario-covid-19_0.pdf...\n",
      "\tHas 5 matches\n",
      "Processing cache/12-03-20-nuevo-coronavirus-covid-19_reporte-diario_0.pdf...\n",
      "\tHas 0 matches\n",
      "Processing cache/11-03-2020-nuevo-coronavirus-covid-19-reporte-diario_0.pdf...\n",
      "\tHas 3 matches\n",
      "Processing cache/10-03-2020-nuevo-coronavirus-covid-19-reporte-diario_1.pdf...\n"
     ]
    },
    {
     "name": "stdout",
     "output_type": "stream",
     "text": [
      "\tHas 1 matches\n",
      "Processing cache/9-03-2020-nuevo-coronavirus-covid-19-reporte_diario_0.pdf...\n",
      "\tHas 1 matches\n",
      "Processing cache/8-03-2020-nuevo-coronavirus-covid-19-reporte-diario_0.pdf...\n",
      "\tHas 1 matches\n",
      "Processing cache/6-03-2020-nuevo-coronavirus-covid-19-reporte-diario_1.pdf...\n",
      "\tHas 1 matches\n",
      "Processing cache/5-03-2020-nuevo-coronavirus-covid-19-reporte-diario_1.pdf...\n",
      "\tHas 0 matches\n"
     ]
    }
   ],
   "source": [
    "#hide\n",
    "import arg_data\n",
    "\n",
    "df = arg_data.get_arg_df()\n",
    "cnt_by_place = df.groupby('infered_place').infected.sum().sort_values(ascending=False)"
   ]
  },
  {
   "cell_type": "code",
   "execution_count": 2,
   "metadata": {
    "execution": {
     "iopub.execute_input": "2020-04-04T20:03:33.297216Z",
     "iopub.status.busy": "2020-04-04T20:03:33.296206Z",
     "iopub.status.idle": "2020-04-04T20:03:33.418280Z",
     "shell.execute_reply": "2020-04-04T20:03:33.418882Z"
    },
    "papermill": {
     "duration": 0.141141,
     "end_time": "2020-04-04T20:03:33.419039",
     "exception": false,
     "start_time": "2020-04-04T20:03:33.277898",
     "status": "completed"
    },
    "tags": []
   },
   "outputs": [],
   "source": [
    "#hide\n",
    "import altair as alt\n",
    "\n",
    "def plot_evolution(selected_places=None, xaxis='date', xaxis_title='Fecha'):\n",
    "    selection = alt.selection_multi(\n",
    "        fields=['infered_place'], bind='legend', init=[{'infered_place': c} for c in (selected_places or [])]\n",
    "    )\n",
    "    \n",
    "    return (\n",
    "        alt.Chart(df)\n",
    "           .mark_line(point=True, radius=150)\n",
    "           .encode(\n",
    "               x=alt.X(xaxis, axis=alt.Axis(title=xaxis_title)),\n",
    "               y=alt.Y('cum_infected', scale=alt.Scale(type='log'), axis=alt.Axis(title='Casos confirmados')),\n",
    "               color=alt.Color('infered_place', sort=list(cnt_by_place.index)),\n",
    "               tooltip=list(df.columns), \n",
    "               opacity=alt.condition(selection, alt.value(.8), alt.value(.05))\n",
    "            ).add_selection(selection)\n",
    "             .configure_point(size=200)\n",
    "             .properties(width=450, height=400)\n",
    "             .configure_title(align='center', )\n",
    "    )\n",
    "    "
   ]
  },
  {
   "cell_type": "markdown",
   "metadata": {
    "papermill": {
     "duration": 0.007095,
     "end_time": "2020-04-04T20:03:33.434142",
     "exception": false,
     "start_time": "2020-04-04T20:03:33.427047",
     "status": "completed"
    },
    "tags": []
   },
   "source": [
    "### Evolucion en el tiempo de la cantidad de casos totales\n",
    "\n",
    "Nota de color: **Los graficos se actualizan solos!!**. Una vez por hora se corre el script que busca la data y arma los graficos via una [action de github](https://github.com/elsonidoq/covid-19-argentina/actions)"
   ]
  },
  {
   "cell_type": "code",
   "execution_count": 3,
   "metadata": {
    "execution": {
     "iopub.execute_input": "2020-04-04T20:03:33.471222Z",
     "iopub.status.busy": "2020-04-04T20:03:33.455595Z",
     "iopub.status.idle": "2020-04-04T20:03:33.565103Z",
     "shell.execute_reply": "2020-04-04T20:03:33.564544Z"
    },
    "papermill": {
     "duration": 0.12397,
     "end_time": "2020-04-04T20:03:33.565231",
     "exception": false,
     "start_time": "2020-04-04T20:03:33.441261",
     "status": "completed"
    },
    "tags": []
   },
   "outputs": [
    {
     "data": {
      "text/html": [
       "\n",
       "<div id=\"altair-viz-e114d43e246147b5af2fab730c1a76ee\"></div>\n",
       "<script type=\"text/javascript\">\n",
       "  (function(spec, embedOpt){\n",
       "    let outputDiv = document.currentScript.previousElementSibling;\n",
       "    if (outputDiv.id !== \"altair-viz-e114d43e246147b5af2fab730c1a76ee\") {\n",
       "      outputDiv = document.getElementById(\"altair-viz-e114d43e246147b5af2fab730c1a76ee\");\n",
       "    }\n",
       "    const paths = {\n",
       "      \"vega\": \"https://cdn.jsdelivr.net/npm//vega@5?noext\",\n",
       "      \"vega-lib\": \"https://cdn.jsdelivr.net/npm//vega-lib?noext\",\n",
       "      \"vega-lite\": \"https://cdn.jsdelivr.net/npm//vega-lite@4.8.1?noext\",\n",
       "      \"vega-embed\": \"https://cdn.jsdelivr.net/npm//vega-embed@6?noext\",\n",
       "    };\n",
       "\n",
       "    function loadScript(lib) {\n",
       "      return new Promise(function(resolve, reject) {\n",
       "        var s = document.createElement('script');\n",
       "        s.src = paths[lib];\n",
       "        s.async = true;\n",
       "        s.onload = () => resolve(paths[lib]);\n",
       "        s.onerror = () => reject(`Error loading script: ${paths[lib]}`);\n",
       "        document.getElementsByTagName(\"head\")[0].appendChild(s);\n",
       "      });\n",
       "    }\n",
       "\n",
       "    function showError(err) {\n",
       "      outputDiv.innerHTML = `<div class=\"error\" style=\"color:red;\">${err}</div>`;\n",
       "      throw err;\n",
       "    }\n",
       "\n",
       "    function displayChart(vegaEmbed) {\n",
       "      vegaEmbed(outputDiv, spec, embedOpt)\n",
       "        .catch(err => showError(`Javascript Error: ${err.message}<br>This usually means there's a typo in your chart specification. See the javascript console for the full traceback.`));\n",
       "    }\n",
       "\n",
       "    if(typeof define === \"function\" && define.amd) {\n",
       "      requirejs.config({paths});\n",
       "      require([\"vega-embed\"], displayChart, err => showError(`Error loading script: ${err.message}`));\n",
       "    } else if (typeof vegaEmbed === \"function\") {\n",
       "      displayChart(vegaEmbed);\n",
       "    } else {\n",
       "      loadScript(\"vega\")\n",
       "        .then(() => loadScript(\"vega-lite\"))\n",
       "        .then(() => loadScript(\"vega-embed\"))\n",
       "        .catch(showError)\n",
       "        .then(() => displayChart(vegaEmbed));\n",
       "    }\n",
       "  })({\"config\": {\"view\": {\"continuousWidth\": 400, \"continuousHeight\": 300}, \"point\": {\"size\": 200}, \"title\": {\"align\": \"center\"}}, \"data\": {\"name\": \"data-f40460365f97807aa5307521d92b00c9\"}, \"mark\": {\"type\": \"line\", \"point\": true, \"radius\": 150}, \"encoding\": {\"color\": {\"type\": \"nominal\", \"field\": \"infered_place\", \"sort\": [\"Ciudad autonoma de Buenos Aires\", \"Provincia de Buenos Aires\", \"Santa Fe\", \"C\\u00f3rdoba\", \"Chaco\", \"Tierra del Fuego\", \"Neuqu\\u00e9n\", \"Corrientes\", \"Mendoza\", \"Tucum\\u00e1n\", \"Entre R\\u00edos\", \"Santa Cruz\", \"Misiones\", \"R\\u00edo Negro\", \"San Luis\", \"Santiago del Estero\", \"Ciudad Autonoma de Buenos Aires\", \"La Pampa\", \"Jujuy\", \"La Rioja\", \"Salta\", \"San Juan\"]}, \"opacity\": {\"condition\": {\"value\": 0.8, \"selection\": \"selector001\"}, \"value\": 0.05}, \"tooltip\": [{\"type\": \"nominal\", \"field\": \"place\"}, {\"type\": \"nominal\", \"field\": \"infered_place\"}, {\"type\": \"quantitative\", \"field\": \"infered_place_score\"}, {\"type\": \"quantitative\", \"field\": \"infected\"}, {\"type\": \"temporal\", \"field\": \"date\"}, {\"type\": \"nominal\", \"field\": \"acum\"}, {\"type\": \"quantitative\", \"field\": \"days_from_first_infection\"}, {\"type\": \"quantitative\", \"field\": \"cum_infected\"}], \"x\": {\"type\": \"temporal\", \"axis\": {\"title\": \"Fecha\"}, \"field\": \"date\"}, \"y\": {\"type\": \"quantitative\", \"axis\": {\"title\": \"Casos confirmados\"}, \"field\": \"cum_infected\", \"scale\": {\"type\": \"log\"}}}, \"height\": 400, \"selection\": {\"selector001\": {\"type\": \"multi\", \"fields\": [\"infered_place\"], \"bind\": \"legend\", \"init\": [{\"infered_place\": \"Ciudad autonoma de Buenos Aires\"}, {\"infered_place\": \"Provincia de Buenos Aires\"}, {\"infered_place\": \"Santa Fe\"}, {\"infered_place\": \"C\\u00f3rdoba\"}, {\"infered_place\": \"Chaco\"}, {\"infered_place\": \"Tierra del Fuego\"}, {\"infered_place\": \"Neuqu\\u00e9n\"}, {\"infered_place\": \"Corrientes\"}, {\"infered_place\": \"Mendoza\"}, {\"infered_place\": \"Tucum\\u00e1n\"}, {\"infered_place\": \"Entre R\\u00edos\"}]}}, \"width\": 450, \"$schema\": \"https://vega.github.io/schema/vega-lite/v4.8.1.json\", \"datasets\": {\"data-f40460365f97807aa5307521d92b00c9\": [{\"place\": \"Ciudad de Buenos Aires\", \"infered_place\": \"Ciudad autonoma de Buenos Aires\", \"infered_place_score\": 1.0, \"infected\": 2, \"date\": \"2020-03-13T00:00:00\", \"acum\": null, \"days_from_first_infection\": 0, \"cum_infected\": 2}, {\"place\": \"Ciudad Aut\\u00f3noma de Buenos Aires\", \"infered_place\": \"Ciudad autonoma de Buenos Aires\", \"infered_place_score\": 1.0, \"infected\": 5, \"date\": \"2020-03-16T00:00:00\", \"acum\": null, \"days_from_first_infection\": 3, \"cum_infected\": 7}, {\"place\": \"Ciudad Aut\\u00f3noma de Buenos Aires\", \"infered_place\": \"Ciudad autonoma de Buenos Aires\", \"infered_place_score\": 1.0, \"infected\": 4, \"date\": \"2020-03-17T00:00:00\", \"acum\": null, \"days_from_first_infection\": 4, \"cum_infected\": 11}, {\"place\": \"Ciudad Aut\\u00f3noma de Buenos Aires\", \"infered_place\": \"Ciudad autonoma de Buenos Aires\", \"infered_place_score\": 1.0, \"infected\": 10, \"date\": \"2020-03-18T00:00:00\", \"acum\": null, \"days_from_first_infection\": 5, \"cum_infected\": 21}, {\"place\": \"Ciudad Aut\\u00f3noma de Buenos Aires\", \"infered_place\": \"Ciudad autonoma de Buenos Aires\", \"infered_place_score\": 1.0, \"infected\": 8, \"date\": \"2020-03-19T00:00:00\", \"acum\": null, \"days_from_first_infection\": 6, \"cum_infected\": 29}, {\"place\": \"Ciudad Aut\\u00f3noma de Buenos Aires\", \"infered_place\": \"Ciudad autonoma de Buenos Aires\", \"infered_place_score\": 1.0, \"infected\": 9, \"date\": \"2020-03-20T00:00:00\", \"acum\": null, \"days_from_first_infection\": 7, \"cum_infected\": 38}, {\"place\": \"Ciudad Aut\\u00f3noma de Buenos Aires\", \"infered_place\": \"Ciudad autonoma de Buenos Aires\", \"infered_place_score\": 1.0, \"infected\": 9, \"date\": \"2020-03-21T00:00:00\", \"acum\": null, \"days_from_first_infection\": 8, \"cum_infected\": 47}, {\"place\": \"Ciudad Aut\\u00f3noma de Buenos Aires\", \"infered_place\": \"Ciudad autonoma de Buenos Aires\", \"infered_place_score\": 1.0, \"infected\": 12, \"date\": \"2020-03-22T00:00:00\", \"acum\": null, \"days_from_first_infection\": 9, \"cum_infected\": 59}, {\"place\": \"Ciudad Aut\\u00f3noma de Buenos Aires\", \"infered_place\": \"Ciudad autonoma de Buenos Aires\", \"infered_place_score\": 1.0, \"infected\": 11, \"date\": \"2020-03-23T00:00:00\", \"acum\": null, \"days_from_first_infection\": 10, \"cum_infected\": 70}, {\"place\": \"Ciudad Aut\\u00f3noma de Buenos Aires\", \"infered_place\": \"Ciudad autonoma de Buenos Aires\", \"infered_place_score\": 1.0, \"infected\": 30, \"date\": \"2020-03-24T00:00:00\", \"acum\": null, \"days_from_first_infection\": 11, \"cum_infected\": 100}, {\"place\": \"Ciudad Aut\\u00f3noma de Buenos Aires\", \"infered_place\": \"Ciudad autonoma de Buenos Aires\", \"infered_place_score\": 1.0, \"infected\": 21, \"date\": \"2020-03-25T00:00:00\", \"acum\": null, \"days_from_first_infection\": 12, \"cum_infected\": 121}, {\"place\": \"Ciudad Aut\\u00f3noma de Buenos Aires\", \"infered_place\": \"Ciudad autonoma de Buenos Aires\", \"infered_place_score\": 1.0, \"infected\": 30, \"date\": \"2020-03-26T00:00:00\", \"acum\": null, \"days_from_first_infection\": 13, \"cum_infected\": 151}, {\"place\": \"Ciudad Aut\\u00f3noma de Buenos Aires\", \"infered_place\": \"Ciudad autonoma de Buenos Aires\", \"infered_place_score\": 1.0, \"infected\": 43, \"date\": \"2020-03-27T00:00:00\", \"acum\": null, \"days_from_first_infection\": 14, \"cum_infected\": 194}, {\"place\": \"Ciudad Aut\\u00f3no ma de Buenos Aires\", \"infered_place\": \"Ciudad autonoma de Buenos Aires\", \"infered_place_score\": 1.0, \"infected\": 18, \"date\": \"2020-03-28T00:00:00\", \"acum\": null, \"days_from_first_infection\": 15, \"cum_infected\": 212}, {\"place\": \"Ciudad de Buenos Aires\", \"infered_place\": \"Ciudad autonoma de Buenos Aires\", \"infered_place_score\": 1.0, \"infected\": 13, \"date\": \"2020-03-29T00:00:00\", \"acum\": \"258\", \"days_from_first_infection\": 16, \"cum_infected\": 225}, {\"place\": \"Ciudad de Buenos Aires\", \"infered_place\": \"Ciudad autonoma de Buenos Aires\", \"infered_place_score\": 1.0, \"infected\": 34, \"date\": \"2020-03-30T00:00:00\", \"acum\": \"292\", \"days_from_first_infection\": 17, \"cum_infected\": 259}, {\"place\": \"Ciudad de Buenos Aires\", \"infered_place\": \"Ciudad autonoma de Buenos Aires\", \"infered_place_score\": 1.0, \"infected\": 19, \"date\": \"2020-03-31T00:00:00\", \"acum\": \"311\", \"days_from_first_infection\": 18, \"cum_infected\": 278}, {\"place\": \"Ciudad de Buenos Aires\", \"infered_place\": \"Ciudad autonoma de Buenos Aires\", \"infered_place_score\": 1.0, \"infected\": 28, \"date\": \"2020-04-03T00:00:00\", \"acum\": \"373\", \"days_from_first_infection\": 21, \"cum_infected\": 306}, {\"place\": \"Buenos Aires y\", \"infered_place\": \"Provincia de Buenos Aires\", \"infered_place_score\": 1.0, \"infected\": 1, \"date\": \"2020-03-13T00:00:00\", \"acum\": null, \"days_from_first_infection\": 0, \"cum_infected\": 1}, {\"place\": \"Provincia de Buenos Aires\", \"infered_place\": \"Provincia de Buenos Aires\", \"infered_place_score\": 1.0, \"infected\": 1, \"date\": \"2020-03-16T00:00:00\", \"acum\": null, \"days_from_first_infection\": 3, \"cum_infected\": 2}, {\"place\": \"Provincia de Buenos Aires\", \"infered_place\": \"Provincia de Buenos Aires\", \"infered_place_score\": 1.0, \"infected\": 2, \"date\": \"2020-03-17T00:00:00\", \"acum\": null, \"days_from_first_infection\": 4, \"cum_infected\": 4}, {\"place\": \"Provi ncia de Buenos Aires\", \"infered_place\": \"Provincia de Buenos Aires\", \"infered_place_score\": 1.0, \"infected\": 6, \"date\": \"2020-03-18T00:00:00\", \"acum\": null, \"days_from_first_infection\": 5, \"cum_infected\": 10}, {\"place\": \"Provincia de Buenos Aires\", \"infered_place\": \"Provincia de Buenos Aires\", \"infered_place_score\": 1.0, \"infected\": 15, \"date\": \"2020-03-19T00:00:00\", \"acum\": null, \"days_from_first_infection\": 6, \"cum_infected\": 25}, {\"place\": \"Provincia de Buenos Aires\", \"infered_place\": \"Provincia de Buenos Aires\", \"infered_place_score\": 1.0, \"infected\": 9, \"date\": \"2020-03-20T00:00:00\", \"acum\": null, \"days_from_first_infection\": 7, \"cum_infected\": 34}, {\"place\": \"Provincia de Buenos Aires\", \"infered_place\": \"Provincia de Buenos Aires\", \"infered_place_score\": 1.0, \"infected\": 15, \"date\": \"2020-03-21T00:00:00\", \"acum\": null, \"days_from_first_infection\": 8, \"cum_infected\": 49}, {\"place\": \"Provincia de Buenos Aires\", \"infered_place\": \"Provincia de Buenos Aires\", \"infered_place_score\": 1.0, \"infected\": 8, \"date\": \"2020-03-22T00:00:00\", \"acum\": null, \"days_from_first_infection\": 9, \"cum_infected\": 57}, {\"place\": \"Provincia de Buenos Aires\", \"infered_place\": \"Provincia de Buenos Aires\", \"infered_place_score\": 1.0, \"infected\": 5, \"date\": \"2020-03-23T00:00:00\", \"acum\": null, \"days_from_first_infection\": 10, \"cum_infected\": 62}, {\"place\": \"Provincia de Buenos Aires\", \"infered_place\": \"Provincia de Buenos Aires\", \"infered_place_score\": 1.0, \"infected\": 30, \"date\": \"2020-03-24T00:00:00\", \"acum\": null, \"days_from_first_infection\": 11, \"cum_infected\": 92}, {\"place\": \"De los 117 casos\", \"infered_place\": \"Provincia de Buenos Aires\", \"infered_place_score\": 0.30612244897959184, \"infected\": 2, \"date\": \"2020-03-25T00:00:00\", \"acum\": null, \"days_from_first_infection\": 12, \"cum_infected\": 94}, {\"place\": \"Provincia de Buenos Aires\", \"infered_place\": \"Provincia de Buenos Aires\", \"infered_place_score\": 1.0, \"infected\": 30, \"date\": \"2020-03-25T00:00:00\", \"acum\": null, \"days_from_first_infection\": 12, \"cum_infected\": 124}, {\"place\": \"Provincia de Buenos Aires\", \"infered_place\": \"Provincia de Buenos Aires\", \"infered_place_score\": 1.0, \"infected\": 27, \"date\": \"2020-03-26T00:00:00\", \"acum\": null, \"days_from_first_infection\": 13, \"cum_infected\": 151}, {\"place\": \"Provincia de Buenos Aires\", \"infered_place\": \"Provincia de Buenos Aires\", \"infered_place_score\": 1.0, \"infected\": 36, \"date\": \"2020-03-27T00:00:00\", \"acum\": null, \"days_from_first_infection\": 14, \"cum_infected\": 187}, {\"place\": \"Provincia de Buenos Aires\", \"infered_place\": \"Provincia de Buenos Aires\", \"infered_place_score\": 1.0, \"infected\": 8, \"date\": \"2020-03-28T00:00:00\", \"acum\": null, \"days_from_first_infection\": 15, \"cum_infected\": 195}, {\"place\": \"Buenos Aires\", \"infered_place\": \"Provincia de Buenos Aires\", \"infered_place_score\": 1.0, \"infected\": 16, \"date\": \"2020-03-29T00:00:00\", \"acum\": \"217\", \"days_from_first_infection\": 16, \"cum_infected\": 211}, {\"place\": \"Buenos Aires\", \"infered_place\": \"Provincia de Buenos Aires\", \"infered_place_score\": 1.0, \"infected\": 17, \"date\": \"2020-03-31T00:00:00\", \"acum\": \"270\", \"days_from_first_infection\": 18, \"cum_infected\": 228}, {\"place\": \"Buenos Aires\", \"infered_place\": \"Provincia de Buenos Aires\", \"infered_place_score\": 1.0, \"infected\": 22, \"date\": \"2020-04-03T00:00:00\", \"acum\": \"338\", \"days_from_first_infection\": 21, \"cum_infected\": 250}, {\"place\": \"Las autoridades sanitarias de las jurisdicciones se encuentran realizando la investigaci\\u00f3n\", \"infered_place\": \"Ciudad Autonoma de Buenos Aires\", \"infered_place_score\": 0.2569832402234637, \"infected\": 2, \"date\": \"2020-03-13T00:00:00\", \"acum\": null, \"days_from_first_infection\": 0, \"cum_infected\": 2}, {\"place\": \"Se insta al equipo de salud de todo el pa\\u00eds\", \"infered_place\": \"Ciudad Autonoma de Buenos Aires\", \"infered_place_score\": 0.4, \"infected\": 2, \"date\": \"2020-03-16T00:00:00\", \"acum\": null, \"days_from_first_infection\": 3, \"cum_infected\": 4}, {\"place\": \"Chaco y uno\", \"infered_place\": \"Chaco\", \"infered_place_score\": 0.42857142857142855, \"infected\": 3, \"date\": \"2020-03-16T00:00:00\", \"acum\": null, \"days_from_first_infection\": 0, \"cum_infected\": 3}, {\"place\": \"Chaco\", \"infered_place\": \"Chaco\", \"infered_place_score\": 1.0, \"infected\": 1, \"date\": \"2020-03-17T00:00:00\", \"acum\": null, \"days_from_first_infection\": 1, \"cum_infected\": 4}, {\"place\": \"Chaco\", \"infered_place\": \"Chaco\", \"infered_place_score\": 1.0, \"infected\": 1, \"date\": \"2020-03-18T00:00:00\", \"acum\": null, \"days_from_first_infection\": 2, \"cum_infected\": 5}, {\"place\": \"Chaco\", \"infered_place\": \"Chaco\", \"infered_place_score\": 1.0, \"infected\": 2, \"date\": \"2020-03-19T00:00:00\", \"acum\": null, \"days_from_first_infection\": 3, \"cum_infected\": 7}, {\"place\": \"Chaco\", \"infered_place\": \"Chaco\", \"infered_place_score\": 1.0, \"infected\": 1, \"date\": \"2020-03-20T00:00:00\", \"acum\": null, \"days_from_first_infection\": 4, \"cum_infected\": 8}, {\"place\": \"Chaco\", \"infered_place\": \"Chaco\", \"infered_place_score\": 1.0, \"infected\": 5, \"date\": \"2020-03-21T00:00:00\", \"acum\": null, \"days_from_first_infection\": 5, \"cum_infected\": 13}, {\"place\": \"Chaco\", \"infered_place\": \"Chaco\", \"infered_place_score\": 1.0, \"infected\": 7, \"date\": \"2020-03-22T00:00:00\", \"acum\": null, \"days_from_first_infection\": 6, \"cum_infected\": 20}, {\"place\": \"Chaco\", \"infered_place\": \"Chaco\", \"infered_place_score\": 1.0, \"infected\": 4, \"date\": \"2020-03-23T00:00:00\", \"acum\": null, \"days_from_first_infection\": 7, \"cum_infected\": 24}, {\"place\": \"Chaco\", \"infered_place\": \"Chaco\", \"infered_place_score\": 1.0, \"infected\": 9, \"date\": \"2020-03-24T00:00:00\", \"acum\": null, \"days_from_first_infection\": 8, \"cum_infected\": 33}, {\"place\": \"Chaco\", \"infered_place\": \"Chaco\", \"infered_place_score\": 1.0, \"infected\": 12, \"date\": \"2020-03-25T00:00:00\", \"acum\": null, \"days_from_first_infection\": 9, \"cum_infected\": 45}, {\"place\": \"Chaco\", \"infered_place\": \"Chaco\", \"infered_place_score\": 1.0, \"infected\": 3, \"date\": \"2020-03-26T00:00:00\", \"acum\": null, \"days_from_first_infection\": 10, \"cum_infected\": 48}, {\"place\": \"Chaco\", \"infered_place\": \"Chaco\", \"infered_place_score\": 1.0, \"infected\": 3, \"date\": \"2020-03-27T00:00:00\", \"acum\": null, \"days_from_first_infection\": 11, \"cum_infected\": 51}, {\"place\": \"Chaco\", \"infered_place\": \"Chaco\", \"infered_place_score\": 1.0, \"infected\": 5, \"date\": \"2020-03-28T00:00:00\", \"acum\": null, \"days_from_first_infection\": 12, \"cum_infected\": 56}, {\"place\": \"Chaco\", \"infered_place\": \"Chaco\", \"infered_place_score\": 1.0, \"infected\": 4, \"date\": \"2020-03-29T00:00:00\", \"acum\": \"69\", \"days_from_first_infection\": 13, \"cum_infected\": 60}, {\"place\": \"Chaco\", \"infered_place\": \"Chaco\", \"infered_place_score\": 1.0, \"infected\": 12, \"date\": \"2020-03-30T00:00:00\", \"acum\": \"81\", \"days_from_first_infection\": 14, \"cum_infected\": 72}, {\"place\": \"Chaco\", \"infered_place\": \"Chaco\", \"infered_place_score\": 1.0, \"infected\": 3, \"date\": \"2020-03-31T00:00:00\", \"acum\": \"84\", \"days_from_first_infection\": 15, \"cum_infected\": 75}, {\"place\": \"Chaco\", \"infered_place\": \"Chaco\", \"infered_place_score\": 1.0, \"infected\": 8, \"date\": \"2020-04-03T00:00:00\", \"acum\": \"107\", \"days_from_first_infection\": 18, \"cum_infected\": 83}, {\"place\": \"Entre R\\u00edos\", \"infered_place\": \"Entre R\\u00edos\", \"infered_place_score\": 1.0, \"infected\": 1, \"date\": \"2020-03-17T00:00:00\", \"acum\": null, \"days_from_first_infection\": 0, \"cum_infected\": 1}, {\"place\": \"Entre R\\u00edos\", \"infered_place\": \"Entre R\\u00edos\", \"infered_place_score\": 1.0, \"infected\": 1, \"date\": \"2020-03-18T00:00:00\", \"acum\": null, \"days_from_first_infection\": 1, \"cum_infected\": 2}, {\"place\": \"Entre R\\u00edos\", \"infered_place\": \"Entre R\\u00edos\", \"infered_place_score\": 1.0, \"infected\": 1, \"date\": \"2020-03-20T00:00:00\", \"acum\": null, \"days_from_first_infection\": 3, \"cum_infected\": 3}, {\"place\": \"Entre R\\u00edos\", \"infered_place\": \"Entre R\\u00edos\", \"infered_place_score\": 1.0, \"infected\": 3, \"date\": \"2020-03-25T00:00:00\", \"acum\": null, \"days_from_first_infection\": 8, \"cum_infected\": 6}, {\"place\": \"Entre R\\u00edos\", \"infered_place\": \"Entre R\\u00edos\", \"infered_place_score\": 1.0, \"infected\": 3, \"date\": \"2020-03-27T00:00:00\", \"acum\": null, \"days_from_first_infection\": 10, \"cum_infected\": 9}, {\"place\": \"Entre R\\u00edos\", \"infered_place\": \"Entre R\\u00edos\", \"infered_place_score\": 1.0, \"infected\": 3, \"date\": \"2020-03-30T00:00:00\", \"acum\": \"13\", \"days_from_first_infection\": 13, \"cum_infected\": 12}, {\"place\": \"Entre R\\u00edos\", \"infered_place\": \"Entre R\\u00edos\", \"infered_place_score\": 1.0, \"infected\": 2, \"date\": \"2020-04-03T00:00:00\", \"acum\": \"18\", \"days_from_first_infection\": 17, \"cum_infected\": 14}, {\"place\": \"R\\u00edo Negro\", \"infered_place\": \"R\\u00edo Negro\", \"infered_place_score\": 1.0, \"infected\": 1, \"date\": \"2020-03-17T00:00:00\", \"acum\": null, \"days_from_first_infection\": 0, \"cum_infected\": 1}, {\"place\": \"Rio Negro\", \"infered_place\": \"R\\u00edo Negro\", \"infered_place_score\": 1.0, \"infected\": 1, \"date\": \"2020-03-19T00:00:00\", \"acum\": null, \"days_from_first_infection\": 2, \"cum_infected\": 2}, {\"place\": \"R\\u00edo Negro\", \"infered_place\": \"R\\u00edo Negro\", \"infered_place_score\": 1.0, \"infected\": 3, \"date\": \"2020-03-27T00:00:00\", \"acum\": null, \"days_from_first_infection\": 10, \"cum_infected\": 5}, {\"place\": \"R\\u00edo Negro\", \"infered_place\": \"R\\u00edo Negro\", \"infered_place_score\": 1.0, \"infected\": 1, \"date\": \"2020-03-31T00:00:00\", \"acum\": \"9\", \"days_from_first_infection\": 14, \"cum_infected\": 6}, {\"place\": \"R\\u00edo Negro\", \"infered_place\": \"R\\u00edo Negro\", \"infered_place_score\": 1.0, \"infected\": 1, \"date\": \"2020-04-03T00:00:00\", \"acum\": \"10\", \"days_from_first_infection\": 17, \"cum_infected\": 7}, {\"place\": \"Salt a\", \"infered_place\": \"Salta\", \"infered_place_score\": 0.7272727272727273, \"infected\": 1, \"date\": \"2020-03-17T00:00:00\", \"acum\": null, \"days_from_first_infection\": 0, \"cum_infected\": 1}, {\"place\": \"Jujuy\", \"infered_place\": \"Jujuy\", \"infered_place_score\": 1.0, \"infected\": 1, \"date\": \"2020-03-17T00:00:00\", \"acum\": null, \"days_from_first_infection\": 0, \"cum_infected\": 1}, {\"place\": \"Jujuy\", \"infered_place\": \"Jujuy\", \"infered_place_score\": 1.0, \"infected\": 2, \"date\": \"2020-03-26T00:00:00\", \"acum\": null, \"days_from_first_infection\": 9, \"cum_infected\": 3}, {\"place\": \"C\\u00f3rdoba\", \"infered_place\": \"C\\u00f3rdoba\", \"infered_place_score\": 1.0, \"infected\": 2, \"date\": \"2020-03-17T00:00:00\", \"acum\": null, \"days_from_first_infection\": 0, \"cum_infected\": 2}, {\"place\": \"C\\u00f3rdoba\", \"infered_place\": \"C\\u00f3rdoba\", \"infered_place_score\": 1.0, \"infected\": 1, \"date\": \"2020-03-18T00:00:00\", \"acum\": null, \"days_from_first_infection\": 1, \"cum_infected\": 3}, {\"place\": \"C\\u00f3rdoba\", \"infered_place\": \"C\\u00f3rdoba\", \"infered_place_score\": 1.0, \"infected\": 3, \"date\": \"2020-03-19T00:00:00\", \"acum\": null, \"days_from_first_infection\": 2, \"cum_infected\": 6}, {\"place\": \"C\\u00f3rdoba\", \"infered_place\": \"C\\u00f3rdoba\", \"infered_place_score\": 1.0, \"infected\": 5, \"date\": \"2020-03-20T00:00:00\", \"acum\": null, \"days_from_first_infection\": 3, \"cum_infected\": 11}, {\"place\": \"C\\u00f3rdoba\", \"infered_place\": \"C\\u00f3rdoba\", \"infered_place_score\": 1.0, \"infected\": 4, \"date\": \"2020-03-21T00:00:00\", \"acum\": null, \"days_from_first_infection\": 4, \"cum_infected\": 15}, {\"place\": \"C\\u00f3rdoba\", \"infered_place\": \"C\\u00f3rdoba\", \"infered_place_score\": 1.0, \"infected\": 8, \"date\": \"2020-03-22T00:00:00\", \"acum\": null, \"days_from_first_infection\": 5, \"cum_infected\": 23}, {\"place\": \"C\\u00f3rdoba\", \"infered_place\": \"C\\u00f3rdoba\", \"infered_place_score\": 1.0, \"infected\": 3, \"date\": \"2020-03-23T00:00:00\", \"acum\": null, \"days_from_first_infection\": 6, \"cum_infected\": 26}, {\"place\": \"C\\u00f3rdoba\", \"infered_place\": \"C\\u00f3rdoba\", \"infered_place_score\": 1.0, \"infected\": 7, \"date\": \"2020-03-24T00:00:00\", \"acum\": null, \"days_from_first_infection\": 7, \"cum_infected\": 33}, {\"place\": \"C\\u00f3rdoba\", \"infered_place\": \"C\\u00f3rdoba\", \"infered_place_score\": 1.0, \"infected\": 15, \"date\": \"2020-03-25T00:00:00\", \"acum\": null, \"days_from_first_infection\": 8, \"cum_infected\": 48}, {\"place\": \"C\\u00f3rdoba\", \"infered_place\": \"C\\u00f3rdoba\", \"infered_place_score\": 1.0, \"infected\": 3, \"date\": \"2020-03-26T00:00:00\", \"acum\": null, \"days_from_first_infection\": 9, \"cum_infected\": 51}, {\"place\": \"C\\u00f3rdoba\", \"infered_place\": \"C\\u00f3rdoba\", \"infered_place_score\": 1.0, \"infected\": 5, \"date\": \"2020-03-27T00:00:00\", \"acum\": null, \"days_from_first_infection\": 10, \"cum_infected\": 56}, {\"place\": \"C\\u00f3rdoba\", \"infered_place\": \"C\\u00f3rdoba\", \"infered_place_score\": 1.0, \"infected\": 1, \"date\": \"2020-03-28T00:00:00\", \"acum\": null, \"days_from_first_infection\": 11, \"cum_infected\": 57}, {\"place\": \"C\\u00f3rdoba\", \"infered_place\": \"C\\u00f3rdoba\", \"infered_place_score\": 1.0, \"infected\": 18, \"date\": \"2020-03-29T00:00:00\", \"acum\": \"73\", \"days_from_first_infection\": 12, \"cum_infected\": 75}, {\"place\": \"C\\u00f3rdoba\", \"infered_place\": \"C\\u00f3rdoba\", \"infered_place_score\": 1.0, \"infected\": 8, \"date\": \"2020-03-30T00:00:00\", \"acum\": \"81\", \"days_from_first_infection\": 13, \"cum_infected\": 83}, {\"place\": \"C\\u00f3rdoba\", \"infered_place\": \"C\\u00f3rdoba\", \"infered_place_score\": 1.0, \"infected\": 14, \"date\": \"2020-03-31T00:00:00\", \"acum\": \"95\", \"days_from_first_infection\": 14, \"cum_infected\": 97}, {\"place\": \"C\\u00f3rdoba\", \"infered_place\": \"C\\u00f3rdoba\", \"infered_place_score\": 1.0, \"infected\": 14, \"date\": \"2020-04-03T00:00:00\", \"acum\": \"131\", \"days_from_first_infection\": 17, \"cum_infected\": 111}, {\"place\": \"Santa Cruz\", \"infered_place\": \"Santa Cruz\", \"infered_place_score\": 1.0, \"infected\": 1, \"date\": \"2020-03-17T00:00:00\", \"acum\": null, \"days_from_first_infection\": 0, \"cum_infected\": 1}, {\"place\": \"Santa Cruz\", \"infered_place\": \"Santa Cruz\", \"infered_place_score\": 1.0, \"infected\": 1, \"date\": \"2020-03-24T00:00:00\", \"acum\": null, \"days_from_first_infection\": 7, \"cum_infected\": 2}, {\"place\": \"Santa Cruz\", \"infered_place\": \"Santa Cruz\", \"infered_place_score\": 1.0, \"infected\": 5, \"date\": \"2020-03-25T00:00:00\", \"acum\": null, \"days_from_first_infection\": 8, \"cum_infected\": 7}, {\"place\": \"Santa Cruz\", \"infered_place\": \"Santa Cruz\", \"infered_place_score\": 1.0, \"infected\": 2, \"date\": \"2020-03-26T00:00:00\", \"acum\": null, \"days_from_first_infection\": 9, \"cum_infected\": 9}, {\"place\": \"Tucum\\u00e1n\", \"infered_place\": \"Tucum\\u00e1n\", \"infered_place_score\": 1.0, \"infected\": 1, \"date\": \"2020-03-19T00:00:00\", \"acum\": null, \"days_from_first_infection\": 0, \"cum_infected\": 1}, {\"place\": \"Tucum\\u00e1n\", \"infered_place\": \"Tucum\\u00e1n\", \"infered_place_score\": 1.0, \"infected\": 1, \"date\": \"2020-03-21T00:00:00\", \"acum\": null, \"days_from_first_infection\": 2, \"cum_infected\": 2}, {\"place\": \"Tucum\\u00e1n\", \"infered_place\": \"Tucum\\u00e1n\", \"infered_place_score\": 1.0, \"infected\": 5, \"date\": \"2020-03-22T00:00:00\", \"acum\": null, \"days_from_first_infection\": 3, \"cum_infected\": 7}, {\"place\": \"Tucum\\u00e1n\", \"infered_place\": \"Tucum\\u00e1n\", \"infered_place_score\": 1.0, \"infected\": 2, \"date\": \"2020-03-25T00:00:00\", \"acum\": null, \"days_from_first_infection\": 6, \"cum_infected\": 9}, {\"place\": \"Tucum\\u00e1n\", \"infered_place\": \"Tucum\\u00e1n\", \"infered_place_score\": 1.0, \"infected\": 6, \"date\": \"2020-03-27T00:00:00\", \"acum\": null, \"days_from_first_infection\": 8, \"cum_infected\": 15}, {\"place\": \"Tucum\\u00e1n\", \"infered_place\": \"Tucum\\u00e1n\", \"infered_place_score\": 1.0, \"infected\": 1, \"date\": \"2020-03-31T00:00:00\", \"acum\": \"16\", \"days_from_first_infection\": 12, \"cum_infected\": 16}, {\"place\": \"Santiago del Estero\", \"infered_place\": \"Santiago del Estero\", \"infered_place_score\": 1.0, \"infected\": 1, \"date\": \"2020-03-20T00:00:00\", \"acum\": null, \"days_from_first_infection\": 0, \"cum_infected\": 1}, {\"place\": \"De los 87 caso s\", \"infered_place\": \"Santiago del Estero\", \"infered_place_score\": 0.32432432432432434, \"infected\": 2, \"date\": \"2020-03-26T00:00:00\", \"acum\": null, \"days_from_first_infection\": 6, \"cum_infected\": 3}, {\"place\": \"Santiago del Estero\", \"infered_place\": \"Santiago del Estero\", \"infered_place_score\": 1.0, \"infected\": 1, \"date\": \"2020-03-27T00:00:00\", \"acum\": null, \"days_from_first_infection\": 7, \"cum_infected\": 4}, {\"place\": \"Neuqu\\u00e9n\", \"infered_place\": \"Neuqu\\u00e9n\", \"infered_place_score\": 1.0, \"infected\": 2, \"date\": \"2020-03-20T00:00:00\", \"acum\": null, \"days_from_first_infection\": 0, \"cum_infected\": 2}, {\"place\": \"Neuqu\\u00e9n\", \"infered_place\": \"Neuqu\\u00e9n\", \"infered_place_score\": 1.0, \"infected\": 1, \"date\": \"2020-03-24T00:00:00\", \"acum\": null, \"days_from_first_infection\": 4, \"cum_infected\": 3}, {\"place\": \"Neuqu\\u00e9n\", \"infered_place\": \"Neuqu\\u00e9n\", \"infered_place_score\": 1.0, \"infected\": 1, \"date\": \"2020-03-25T00:00:00\", \"acum\": null, \"days_from_first_infection\": 5, \"cum_infected\": 4}, {\"place\": \"Neuqu\\u00e9n\", \"infered_place\": \"Neuqu\\u00e9n\", \"infered_place_score\": 1.0, \"infected\": 3, \"date\": \"2020-03-26T00:00:00\", \"acum\": null, \"days_from_first_infection\": 6, \"cum_infected\": 7}, {\"place\": \"Neuqu\\u00e9n\", \"infered_place\": \"Neuqu\\u00e9n\", \"infered_place_score\": 1.0, \"infected\": 4, \"date\": \"2020-03-27T00:00:00\", \"acum\": null, \"days_from_first_infection\": 7, \"cum_infected\": 11}, {\"place\": \"Neuqu\\u00e9n\", \"infered_place\": \"Neuqu\\u00e9n\", \"infered_place_score\": 1.0, \"infected\": 2, \"date\": \"2020-03-28T00:00:00\", \"acum\": null, \"days_from_first_infection\": 8, \"cum_infected\": 13}, {\"place\": \"Neuqu\\u00e9n\", \"infered_place\": \"Neuqu\\u00e9n\", \"infered_place_score\": 1.0, \"infected\": 8, \"date\": \"2020-03-30T00:00:00\", \"acum\": \"20\", \"days_from_first_infection\": 10, \"cum_infected\": 21}, {\"place\": \"Neuqu\\u00e9n\", \"infered_place\": \"Neuqu\\u00e9n\", \"infered_place_score\": 1.0, \"infected\": 1, \"date\": \"2020-04-03T00:00:00\", \"acum\": \"29\", \"days_from_first_infection\": 14, \"cum_infected\": 22}, {\"place\": \"Corrientes\", \"infered_place\": \"Corrientes\", \"infered_place_score\": 1.0, \"infected\": 1, \"date\": \"2020-03-20T00:00:00\", \"acum\": null, \"days_from_first_infection\": 0, \"cum_infected\": 1}, {\"place\": \"Corrientes\", \"infered_place\": \"Corrientes\", \"infered_place_score\": 1.0, \"infected\": 2, \"date\": \"2020-03-21T00:00:00\", \"acum\": null, \"days_from_first_infection\": 1, \"cum_infected\": 3}, {\"place\": \"Corrientes\", \"infered_place\": \"Corrientes\", \"infered_place_score\": 1.0, \"infected\": 2, \"date\": \"2020-03-27T00:00:00\", \"acum\": null, \"days_from_first_infection\": 7, \"cum_infected\": 5}, {\"place\": \"Corrientes\", \"infered_place\": \"Corrientes\", \"infered_place_score\": 1.0, \"infected\": 4, \"date\": \"2020-03-28T00:00:00\", \"acum\": null, \"days_from_first_infection\": 8, \"cum_infected\": 9}, {\"place\": \"Corrientes\", \"infered_place\": \"Corrientes\", \"infered_place_score\": 1.0, \"infected\": 1, \"date\": \"2020-03-29T00:00:00\", \"acum\": \"9\", \"days_from_first_infection\": 9, \"cum_infected\": 10}, {\"place\": \"Corrientes\", \"infered_place\": \"Corrientes\", \"infered_place_score\": 1.0, \"infected\": 10, \"date\": \"2020-03-30T00:00:00\", \"acum\": \"19\", \"days_from_first_infection\": 10, \"cum_infected\": 20}, {\"place\": \"Corrientes\", \"infered_place\": \"Corrientes\", \"infered_place_score\": 1.0, \"infected\": 1, \"date\": \"2020-03-31T00:00:00\", \"acum\": \"20\", \"days_from_first_infection\": 11, \"cum_infected\": 21}, {\"place\": \"Tierra del Fuego\", \"infered_place\": \"Tierra del Fuego\", \"infered_place_score\": 1.0, \"infected\": 1, \"date\": \"2020-03-20T00:00:00\", \"acum\": null, \"days_from_first_infection\": 0, \"cum_infected\": 1}, {\"place\": \"Tierra del Fuego\", \"infered_place\": \"Tierra del Fuego\", \"infered_place_score\": 1.0, \"infected\": 3, \"date\": \"2020-03-21T00:00:00\", \"acum\": null, \"days_from_first_infection\": 1, \"cum_infected\": 4}, {\"place\": \"Tierra del Fuego\", \"infered_place\": \"Tierra del Fuego\", \"infered_place_score\": 1.0, \"infected\": 4, \"date\": \"2020-03-24T00:00:00\", \"acum\": null, \"days_from_first_infection\": 4, \"cum_infected\": 8}, {\"place\": \"Tierra del Fuego\", \"infered_place\": \"Tierra del Fuego\", \"infered_place_score\": 1.0, \"infected\": 1, \"date\": \"2020-03-25T00:00:00\", \"acum\": null, \"days_from_first_infection\": 5, \"cum_infected\": 9}, {\"place\": \"Tierra del Fuego\", \"infered_place\": \"Tierra del Fuego\", \"infered_place_score\": 1.0, \"infected\": 3, \"date\": \"2020-03-26T00:00:00\", \"acum\": null, \"days_from_first_infection\": 6, \"cum_infected\": 12}, {\"place\": \"Tierra del Fuego\", \"infered_place\": \"Tierra del Fuego\", \"infered_place_score\": 1.0, \"infected\": 4, \"date\": \"2020-03-28T00:00:00\", \"acum\": null, \"days_from_first_infection\": 8, \"cum_infected\": 16}, {\"place\": \"Tierra del Fuego\", \"infered_place\": \"Tierra del Fuego\", \"infered_place_score\": 1.0, \"infected\": 4, \"date\": \"2020-03-29T00:00:00\", \"acum\": \"21\", \"days_from_first_infection\": 9, \"cum_infected\": 20}, {\"place\": \"Tierra del Fuego\", \"infered_place\": \"Tierra del Fuego\", \"infered_place_score\": 1.0, \"infected\": 11, \"date\": \"2020-03-30T00:00:00\", \"acum\": \"32\", \"days_from_first_infection\": 10, \"cum_infected\": 31}, {\"place\": \"Tierra del Fuego\", \"infered_place\": \"Tierra del Fuego\", \"infered_place_score\": 1.0, \"infected\": 7, \"date\": \"2020-03-31T00:00:00\", \"acum\": \"39\", \"days_from_first_infection\": 11, \"cum_infected\": 38}, {\"place\": \"Tierra del Fuego\", \"infered_place\": \"Tierra del Fuego\", \"infered_place_score\": 1.0, \"infected\": 1, \"date\": \"2020-04-03T00:00:00\", \"acum\": \"64\", \"days_from_first_infection\": 14, \"cum_infected\": 39}, {\"place\": \"Mendoza\", \"infered_place\": \"Mendoza\", \"infered_place_score\": 1.0, \"infected\": 5, \"date\": \"2020-03-21T00:00:00\", \"acum\": null, \"days_from_first_infection\": 0, \"cum_infected\": 5}, {\"place\": \"Mendoza\", \"infered_place\": \"Mendoza\", \"infered_place_score\": 1.0, \"infected\": 1, \"date\": \"2020-03-25T00:00:00\", \"acum\": null, \"days_from_first_infection\": 4, \"cum_infected\": 6}, {\"place\": \"Mendoza\", \"infered_place\": \"Mendoza\", \"infered_place_score\": 1.0, \"infected\": 1, \"date\": \"2020-03-26T00:00:00\", \"acum\": null, \"days_from_first_infection\": 5, \"cum_infected\": 7}, {\"place\": \"Mendoza\", \"infered_place\": \"Mendoza\", \"infered_place_score\": 1.0, \"infected\": 1, \"date\": \"2020-03-27T00:00:00\", \"acum\": null, \"days_from_first_infection\": 6, \"cum_infected\": 8}, {\"place\": \"Mendoza\", \"infered_place\": \"Mendoza\", \"infered_place_score\": 1.0, \"infected\": 1, \"date\": \"2020-03-28T00:00:00\", \"acum\": null, \"days_from_first_infection\": 7, \"cum_infected\": 9}, {\"place\": \"Mendoza\", \"infered_place\": \"Mendoza\", \"infered_place_score\": 1.0, \"infected\": 1, \"date\": \"2020-03-29T00:00:00\", \"acum\": \"10\", \"days_from_first_infection\": 8, \"cum_infected\": 10}, {\"place\": \"Mendoza\", \"infered_place\": \"Mendoza\", \"infered_place_score\": 1.0, \"infected\": 3, \"date\": \"2020-03-30T00:00:00\", \"acum\": \"13\", \"days_from_first_infection\": 9, \"cum_infected\": 13}, {\"place\": \"Mendoza\", \"infered_place\": \"Mendoza\", \"infered_place_score\": 1.0, \"infected\": 2, \"date\": \"2020-03-31T00:00:00\", \"acum\": \"15\", \"days_from_first_infection\": 10, \"cum_infected\": 15}, {\"place\": \"Mendoza\", \"infered_place\": \"Mendoza\", \"infered_place_score\": 1.0, \"infected\": 2, \"date\": \"2020-04-03T00:00:00\", \"acum\": \"27\", \"days_from_first_infection\": 13, \"cum_infected\": 17}, {\"place\": \"Santa Fe\", \"infered_place\": \"Santa Fe\", \"infered_place_score\": 1.0, \"infected\": 2, \"date\": \"2020-03-21T00:00:00\", \"acum\": null, \"days_from_first_infection\": 0, \"cum_infected\": 2}, {\"place\": \"Santa Fe\", \"infered_place\": \"Santa Fe\", \"infered_place_score\": 1.0, \"infected\": 13, \"date\": \"2020-03-23T00:00:00\", \"acum\": null, \"days_from_first_infection\": 2, \"cum_infected\": 15}, {\"place\": \"Santa Fe\", \"infered_place\": \"Santa Fe\", \"infered_place_score\": 1.0, \"infected\": 3, \"date\": \"2020-03-24T00:00:00\", \"acum\": null, \"days_from_first_infection\": 3, \"cum_infected\": 18}, {\"place\": \"Santa Fe\", \"infered_place\": \"Santa Fe\", \"infered_place_score\": 1.0, \"infected\": 22, \"date\": \"2020-03-25T00:00:00\", \"acum\": null, \"days_from_first_infection\": 4, \"cum_infected\": 40}, {\"place\": \"Santa Fe\", \"infered_place\": \"Santa Fe\", \"infered_place_score\": 1.0, \"infected\": 12, \"date\": \"2020-03-26T00:00:00\", \"acum\": null, \"days_from_first_infection\": 5, \"cum_infected\": 52}, {\"place\": \"Santa Fe\", \"infered_place\": \"Santa Fe\", \"infered_place_score\": 1.0, \"infected\": 9, \"date\": \"2020-03-27T00:00:00\", \"acum\": null, \"days_from_first_infection\": 6, \"cum_infected\": 61}, {\"place\": \"Santa Fe\", \"infered_place\": \"Santa Fe\", \"infered_place_score\": 1.0, \"infected\": 13, \"date\": \"2020-03-28T00:00:00\", \"acum\": null, \"days_from_first_infection\": 7, \"cum_infected\": 74}, {\"place\": \"Santa Fe\", \"infered_place\": \"Santa Fe\", \"infered_place_score\": 1.0, \"infected\": 13, \"date\": \"2020-03-29T00:00:00\", \"acum\": \"90\", \"days_from_first_infection\": 8, \"cum_infected\": 87}, {\"place\": \"Santa Fe\", \"infered_place\": \"Santa Fe\", \"infered_place_score\": 1.0, \"infected\": 21, \"date\": \"2020-03-30T00:00:00\", \"acum\": \"111\", \"days_from_first_infection\": 9, \"cum_infected\": 108}, {\"place\": \"Santa Fe\", \"infered_place\": \"Santa Fe\", \"infered_place_score\": 1.0, \"infected\": 22, \"date\": \"2020-03-31T00:00:00\", \"acum\": \"133\", \"days_from_first_infection\": 10, \"cum_infected\": 130}, {\"place\": \"Santa Fe\", \"infered_place\": \"Santa Fe\", \"infered_place_score\": 1.0, \"infected\": 8, \"date\": \"2020-04-03T00:00:00\", \"acum\": \"160\", \"days_from_first_infection\": 13, \"cum_infected\": 138}, {\"place\": \"R\\u00edo\", \"infered_place\": \"La Rioja\", \"infered_place_score\": 0.3333333333333333, \"infected\": 1, \"date\": \"2020-03-21T00:00:00\", \"acum\": null, \"days_from_first_infection\": 0, \"cum_infected\": 1}, {\"place\": \"La Rioja\", \"infered_place\": \"La Rioja\", \"infered_place_score\": 1.0, \"infected\": 1, \"date\": \"2020-03-29T00:00:00\", \"acum\": \"1\", \"days_from_first_infection\": 8, \"cum_infected\": 2}, {\"place\": \"Misiones\", \"infered_place\": \"Misiones\", \"infered_place_score\": 1.0, \"infected\": 1, \"date\": \"2020-03-22T00:00:00\", \"acum\": null, \"days_from_first_infection\": 0, \"cum_infected\": 1}, {\"place\": \"Misiones\", \"infered_place\": \"Misiones\", \"infered_place_score\": 1.0, \"infected\": 1, \"date\": \"2020-03-27T00:00:00\", \"acum\": null, \"days_from_first_infection\": 5, \"cum_infected\": 2}, {\"place\": \"Misiones\", \"infered_place\": \"Misiones\", \"infered_place_score\": 1.0, \"infected\": 1, \"date\": \"2020-03-29T00:00:00\", \"acum\": \"2\", \"days_from_first_infection\": 7, \"cum_infected\": 3}, {\"place\": \"Misiones\", \"infered_place\": \"Misiones\", \"infered_place_score\": 1.0, \"infected\": 1, \"date\": \"2020-03-31T00:00:00\", \"acum\": \"3\", \"days_from_first_infection\": 9, \"cum_infected\": 4}, {\"place\": \"Hombres\", \"infered_place\": \"Misiones\", \"infered_place_score\": 0.3333333333333333, \"infected\": 4, \"date\": \"2020-04-03T00:00:00\", \"acum\": null, \"days_from_first_infection\": 12, \"cum_infected\": 8}, {\"place\": \"La Pampa\", \"infered_place\": \"La Pampa\", \"infered_place_score\": 1.0, \"infected\": 1, \"date\": \"2020-03-24T00:00:00\", \"acum\": null, \"days_from_first_infection\": 0, \"cum_infected\": 1}, {\"place\": \"La Pampa\", \"infered_place\": \"La Pampa\", \"infered_place_score\": 1.0, \"infected\": 2, \"date\": \"2020-03-29T00:00:00\", \"acum\": \"3\", \"days_from_first_infection\": 5, \"cum_infected\": 3}, {\"place\": \"San Luis\", \"infered_place\": \"San Luis\", \"infered_place_score\": 1.0, \"infected\": 4, \"date\": \"2020-03-25T00:00:00\", \"acum\": null, \"days_from_first_infection\": 0, \"cum_infected\": 4}, {\"place\": \"San Luis\", \"infered_place\": \"San Luis\", \"infered_place_score\": 1.0, \"infected\": 1, \"date\": \"2020-03-26T00:00:00\", \"acum\": null, \"days_from_first_infection\": 1, \"cum_infected\": 5}, {\"place\": \"San Luis\", \"infered_place\": \"San Luis\", \"infered_place_score\": 1.0, \"infected\": 1, \"date\": \"2020-04-03T00:00:00\", \"acum\": \"10\", \"days_from_first_infection\": 9, \"cum_infected\": 6}, {\"place\": \"San Juan\", \"infered_place\": \"San Juan\", \"infered_place_score\": 1.0, \"infected\": 1, \"date\": \"2020-03-29T00:00:00\", \"acum\": \"1\", \"days_from_first_infection\": 0, \"cum_infected\": 1}]}}, {\"mode\": \"vega-lite\"});\n",
       "</script>"
      ],
      "text/plain": [
       "alt.Chart(...)"
      ]
     },
     "execution_count": 3,
     "metadata": {},
     "output_type": "execute_result"
    }
   ],
   "source": [
    "#hide_input\n",
    "plot_evolution(cnt_by_place[cnt_by_place >=10].index.tolist())"
   ]
  },
  {
   "cell_type": "markdown",
   "metadata": {
    "papermill": {
     "duration": 0.008735,
     "end_time": "2020-04-04T20:03:33.582755",
     "exception": false,
     "start_time": "2020-04-04T20:03:33.574020",
     "status": "completed"
    },
    "tags": []
   },
   "source": [
    "Haciendo **Shift+Click** en las provincias que se ven a la derecha, podemos agregar o quitar provincias al gráfico\n",
    "\n",
    "Esta página es un experimento para evaluar la utilidad de la informacion que se encuentra disponible en el sitio https://www.argentina.gob.ar/coronavirus/informe-diario para tener una vision general de lo que pasa en el pais"
   ]
  }
 ],
 "metadata": {
  "kernelspec": {
   "display_name": "Python 3",
   "language": "python",
   "name": "python3"
  },
  "language_info": {
   "codemirror_mode": {
    "name": "ipython",
    "version": 3
   },
   "file_extension": ".py",
   "mimetype": "text/x-python",
   "name": "python",
   "nbconvert_exporter": "python",
   "pygments_lexer": "ipython3",
   "version": "3.6.10"
  },
  "papermill": {
   "duration": 3.761454,
   "end_time": "2020-04-04T20:03:33.698307",
   "environment_variables": {},
   "exception": null,
   "input_path": "2020-03-24-home.ipynb",
   "output_path": "2020-03-24-home.ipynb",
   "parameters": {},
   "start_time": "2020-04-04T20:03:29.936853",
   "version": "2.0.0"
  }
 },
 "nbformat": 4,
 "nbformat_minor": 4
}