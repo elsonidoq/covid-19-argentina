{
 "cells": [
  {
   "cell_type": "markdown",
   "metadata": {
    "papermill": {
     "duration": 0.008106,
     "end_time": "2020-03-26T16:04:26.233984",
     "exception": false,
     "start_time": "2020-03-26T16:04:26.225878",
     "status": "completed"
    },
    "tags": []
   },
   "source": [
    "# Home\n",
    "> home\n",
    "\n",
    "- toc: false \n",
    "- badges: true\n",
    "- comments: false\n",
    "- categories: []\n",
    "- image: images/evolucion-por-provincia.png\n",
    "- home: true\n",
    "- hide: true"
   ]
  },
  {
   "cell_type": "code",
   "execution_count": 1,
   "metadata": {
    "papermill": {
     "duration": 1.265575,
     "end_time": "2020-03-26T16:04:27.504522",
     "exception": false,
     "start_time": "2020-03-26T16:04:26.238947",
     "status": "completed"
    },
    "tags": []
   },
   "outputs": [],
   "source": [
    "#hide\n",
    "import arg_data\n",
    "\n",
    "df = arg_data.get_arg_df()\n",
    "cnt_by_place = df.groupby('infered_place').infected.sum().sort_values(ascending=False)"
   ]
  },
  {
   "cell_type": "code",
   "execution_count": 2,
   "metadata": {
    "papermill": {
     "duration": 0.12629,
     "end_time": "2020-03-26T16:04:27.635425",
     "exception": false,
     "start_time": "2020-03-26T16:04:27.509135",
     "status": "completed"
    },
    "tags": []
   },
   "outputs": [],
   "source": [
    "#hide\n",
    "import altair as alt\n",
    "\n",
    "def plot_evolution(selected_places=None, xaxis='date', xaxis_title='Fecha'):\n",
    "    selection = alt.selection_multi(\n",
    "        fields=['infered_place'], bind='legend', init=[{'infered_place': c} for c in (selected_places or [])]\n",
    "    )\n",
    "    \n",
    "    return (\n",
    "        alt.Chart(df)\n",
    "           .mark_line(point=True, radius=150)\n",
    "           .encode(\n",
    "               x=alt.X(xaxis, axis=alt.Axis(title=xaxis_title)),\n",
    "               y=alt.Y('cum_infected', scale=alt.Scale(type='log'), axis=alt.Axis(title='Casos confirmados')),\n",
    "               color=alt.Color('infered_place', sort=list(cnt_by_place.index)),\n",
    "               tooltip=list(df.columns), \n",
    "               opacity=alt.condition(selection, alt.value(.8), alt.value(.05))\n",
    "            ).add_selection(selection)\n",
    "             .configure_point(size=200)\n",
    "             .properties(width=450, height=400)\n",
    "             .configure_title(align='center', )\n",
    "    )\n",
    "    "
   ]
  },
  {
   "cell_type": "markdown",
   "metadata": {
    "papermill": {
     "duration": 0.004043,
     "end_time": "2020-03-26T16:04:27.644142",
     "exception": false,
     "start_time": "2020-03-26T16:04:27.640099",
     "status": "completed"
    },
    "tags": []
   },
   "source": [
    "### Evolucion en el tiempo de la cantidad de casos totales\n",
    "\n",
    "Haciendo **Shift+Click** en las provincias que se ven a la derecha, podemos agregar o quitar provincias al gráfico"
   ]
  },
  {
   "cell_type": "code",
   "execution_count": 3,
   "metadata": {
    "papermill": {
     "duration": 0.101991,
     "end_time": "2020-03-26T16:04:27.750388",
     "exception": false,
     "start_time": "2020-03-26T16:04:27.648397",
     "status": "completed"
    },
    "tags": []
   },
   "outputs": [
    {
     "data": {
      "text/html": [
       "\n",
       "<div id=\"altair-viz-5da1ba5a611648d282e1d6aec05a182e\"></div>\n",
       "<script type=\"text/javascript\">\n",
       "  (function(spec, embedOpt){\n",
       "    const outputDiv = document.getElementById(\"altair-viz-5da1ba5a611648d282e1d6aec05a182e\");\n",
       "    const paths = {\n",
       "      \"vega\": \"https://cdn.jsdelivr.net/npm//vega@5?noext\",\n",
       "      \"vega-lib\": \"https://cdn.jsdelivr.net/npm//vega-lib?noext\",\n",
       "      \"vega-lite\": \"https://cdn.jsdelivr.net/npm//vega-lite@4.0.2?noext\",\n",
       "      \"vega-embed\": \"https://cdn.jsdelivr.net/npm//vega-embed@6?noext\",\n",
       "    };\n",
       "\n",
       "    function loadScript(lib) {\n",
       "      return new Promise(function(resolve, reject) {\n",
       "        var s = document.createElement('script');\n",
       "        s.src = paths[lib];\n",
       "        s.async = true;\n",
       "        s.onload = () => resolve(paths[lib]);\n",
       "        s.onerror = () => reject(`Error loading script: ${paths[lib]}`);\n",
       "        document.getElementsByTagName(\"head\")[0].appendChild(s);\n",
       "      });\n",
       "    }\n",
       "\n",
       "    function showError(err) {\n",
       "      outputDiv.innerHTML = `<div class=\"error\" style=\"color:red;\">${err}</div>`;\n",
       "      throw err;\n",
       "    }\n",
       "\n",
       "    function displayChart(vegaEmbed) {\n",
       "      vegaEmbed(outputDiv, spec, embedOpt)\n",
       "        .catch(err => showError(`Javascript Error: ${err.message}<br>This usually means there's a typo in your chart specification. See the javascript console for the full traceback.`));\n",
       "    }\n",
       "\n",
       "    if(typeof define === \"function\" && define.amd) {\n",
       "      requirejs.config({paths});\n",
       "      require([\"vega-embed\"], displayChart, err => showError(`Error loading script: ${err.message}`));\n",
       "    } else if (typeof vegaEmbed === \"function\") {\n",
       "      displayChart(vegaEmbed);\n",
       "    } else {\n",
       "      loadScript(\"vega\")\n",
       "        .then(() => loadScript(\"vega-lite\"))\n",
       "        .then(() => loadScript(\"vega-embed\"))\n",
       "        .catch(showError)\n",
       "        .then(() => displayChart(vegaEmbed));\n",
       "    }\n",
       "  })({\"config\": {\"view\": {\"continuousWidth\": 400, \"continuousHeight\": 300}, \"point\": {\"size\": 200}, \"title\": {\"align\": \"center\"}}, \"data\": {\"name\": \"data-9395f9d5b3ad9b821f2727f177c215d5\"}, \"mark\": {\"type\": \"line\", \"point\": true, \"radius\": 150}, \"encoding\": {\"color\": {\"type\": \"nominal\", \"field\": \"infered_place\", \"sort\": [\"Provincia de Buenos Aires\", \"Ciudad autonoma de Buenos Aires\", \"C\\u00f3rdoba\", \"Chaco\", \"Santa Fe\", \"Tierra del Fuego\", \"Tucum\\u00e1n\", \"Santa Cruz\", \"Mendoza\", \"Entre R\\u00edos\", \"Neuqu\\u00e9n\", \"San Luis\", \"Corrientes\", \"R\\u00edo Negro\", \"Salta\", \"La Pampa\", \"Jujuy\", \"Misiones\"]}, \"opacity\": {\"condition\": {\"value\": 0.8, \"selection\": \"selector001\"}, \"value\": 0.05}, \"tooltip\": [{\"type\": \"nominal\", \"field\": \"place\"}, {\"type\": \"nominal\", \"field\": \"infered_place\"}, {\"type\": \"quantitative\", \"field\": \"infered_place_score\"}, {\"type\": \"quantitative\", \"field\": \"infected\"}, {\"type\": \"temporal\", \"field\": \"date\"}, {\"type\": \"quantitative\", \"field\": \"days_from_first_infection\"}, {\"type\": \"quantitative\", \"field\": \"cum_infected\"}], \"x\": {\"type\": \"temporal\", \"axis\": {\"title\": \"Fecha\"}, \"field\": \"date\"}, \"y\": {\"type\": \"quantitative\", \"axis\": {\"title\": \"Casos confirmados\"}, \"field\": \"cum_infected\", \"scale\": {\"type\": \"log\"}}}, \"height\": 400, \"selection\": {\"selector001\": {\"type\": \"multi\", \"fields\": [\"infered_place\"], \"bind\": \"legend\", \"init\": [{\"infered_place\": \"Provincia de Buenos Aires\"}, {\"infered_place\": \"Ciudad autonoma de Buenos Aires\"}, {\"infered_place\": \"C\\u00f3rdoba\"}, {\"infered_place\": \"Chaco\"}, {\"infered_place\": \"Santa Fe\"}]}}, \"width\": 450, \"$schema\": \"https://vega.github.io/schema/vega-lite/v4.0.2.json\", \"datasets\": {\"data-9395f9d5b3ad9b821f2727f177c215d5\": [{\"place\": \"Ciudad de Buenos Aires\", \"infered_place\": \"Ciudad autonoma de Buenos Aires\", \"infered_place_score\": 1.0, \"infected\": 2, \"date\": \"2020-03-13T00:00:00\", \"days_from_first_infection\": 0, \"cum_infected\": 2}, {\"place\": \"Ciudad Aut\\u00f3noma de Buenos Aires\", \"infered_place\": \"Ciudad autonoma de Buenos Aires\", \"infered_place_score\": 1.0, \"infected\": 5, \"date\": \"2020-03-16T00:00:00\", \"days_from_first_infection\": 3, \"cum_infected\": 7}, {\"place\": \"Ciudad Aut\\u00f3noma de Buenos Aires\", \"infered_place\": \"Ciudad autonoma de Buenos Aires\", \"infered_place_score\": 1.0, \"infected\": 4, \"date\": \"2020-03-17T00:00:00\", \"days_from_first_infection\": 4, \"cum_infected\": 11}, {\"place\": \"Ciudad Aut\\u00f3noma de Buenos Aires\", \"infered_place\": \"Ciudad autonoma de Buenos Aires\", \"infered_place_score\": 1.0, \"infected\": 10, \"date\": \"2020-03-18T00:00:00\", \"days_from_first_infection\": 5, \"cum_infected\": 21}, {\"place\": \"Ciudad Aut\\u00f3noma de Buenos Aires\", \"infered_place\": \"Ciudad autonoma de Buenos Aires\", \"infered_place_score\": 1.0, \"infected\": 8, \"date\": \"2020-03-19T00:00:00\", \"days_from_first_infection\": 6, \"cum_infected\": 29}, {\"place\": \"Ciudad Aut\\u00f3noma de Buenos Aires\", \"infered_place\": \"Ciudad autonoma de Buenos Aires\", \"infered_place_score\": 1.0, \"infected\": 9, \"date\": \"2020-03-20T00:00:00\", \"days_from_first_infection\": 7, \"cum_infected\": 38}, {\"place\": \"Ciudad Aut\\u00f3noma de Buenos Aires\", \"infered_place\": \"Ciudad autonoma de Buenos Aires\", \"infered_place_score\": 1.0, \"infected\": 9, \"date\": \"2020-03-21T00:00:00\", \"days_from_first_infection\": 8, \"cum_infected\": 47}, {\"place\": \"Ciudad Aut\\u00f3noma de Buenos Aires\", \"infered_place\": \"Ciudad autonoma de Buenos Aires\", \"infered_place_score\": 1.0, \"infected\": 12, \"date\": \"2020-03-22T00:00:00\", \"days_from_first_infection\": 9, \"cum_infected\": 59}, {\"place\": \"Ciudad Aut\\u00f3noma de Buenos Aires\", \"infered_place\": \"Ciudad autonoma de Buenos Aires\", \"infered_place_score\": 1.0, \"infected\": 11, \"date\": \"2020-03-23T00:00:00\", \"days_from_first_infection\": 10, \"cum_infected\": 70}, {\"place\": \"Ciudad Aut\\u00f3noma de Buenos Aires\", \"infered_place\": \"Ciudad autonoma de Buenos Aires\", \"infered_place_score\": 1.0, \"infected\": 30, \"date\": \"2020-03-24T00:00:00\", \"days_from_first_infection\": 11, \"cum_infected\": 100}, {\"place\": \"Ciudad Aut\\u00f3noma de Buenos Aires\", \"infered_place\": \"Ciudad autonoma de Buenos Aires\", \"infered_place_score\": 1.0, \"infected\": 21, \"date\": \"2020-03-25T00:00:00\", \"days_from_first_infection\": 12, \"cum_infected\": 121}, {\"place\": \"Buenos Aires y\", \"infered_place\": \"Provincia de Buenos Aires\", \"infered_place_score\": 1.0, \"infected\": 1, \"date\": \"2020-03-13T00:00:00\", \"days_from_first_infection\": 0, \"cum_infected\": 1}, {\"place\": \"Provincia de Buenos Aires\", \"infered_place\": \"Provincia de Buenos Aires\", \"infered_place_score\": 1.0, \"infected\": 1, \"date\": \"2020-03-16T00:00:00\", \"days_from_first_infection\": 3, \"cum_infected\": 2}, {\"place\": \"Provincia de Buenos Aires\", \"infered_place\": \"Provincia de Buenos Aires\", \"infered_place_score\": 1.0, \"infected\": 2, \"date\": \"2020-03-17T00:00:00\", \"days_from_first_infection\": 4, \"cum_infected\": 4}, {\"place\": \"Provi ncia de Buenos Aires\", \"infered_place\": \"Provincia de Buenos Aires\", \"infered_place_score\": 1.0, \"infected\": 6, \"date\": \"2020-03-18T00:00:00\", \"days_from_first_infection\": 5, \"cum_infected\": 10}, {\"place\": \"Provincia de Buenos Aires\", \"infered_place\": \"Provincia de Buenos Aires\", \"infered_place_score\": 1.0, \"infected\": 15, \"date\": \"2020-03-19T00:00:00\", \"days_from_first_infection\": 6, \"cum_infected\": 25}, {\"place\": \"Provincia de Buenos Aires\", \"infered_place\": \"Provincia de Buenos Aires\", \"infered_place_score\": 1.0, \"infected\": 9, \"date\": \"2020-03-20T00:00:00\", \"days_from_first_infection\": 7, \"cum_infected\": 34}, {\"place\": \"Provincia de Buenos Aires\", \"infered_place\": \"Provincia de Buenos Aires\", \"infered_place_score\": 1.0, \"infected\": 15, \"date\": \"2020-03-21T00:00:00\", \"days_from_first_infection\": 8, \"cum_infected\": 49}, {\"place\": \"Provincia de Buenos Aires\", \"infered_place\": \"Provincia de Buenos Aires\", \"infered_place_score\": 1.0, \"infected\": 8, \"date\": \"2020-03-22T00:00:00\", \"days_from_first_infection\": 9, \"cum_infected\": 57}, {\"place\": \"Provincia de Buenos Aires\", \"infered_place\": \"Provincia de Buenos Aires\", \"infered_place_score\": 1.0, \"infected\": 5, \"date\": \"2020-03-23T00:00:00\", \"days_from_first_infection\": 10, \"cum_infected\": 62}, {\"place\": \"Provincia de Buenos Aires\", \"infered_place\": \"Provincia de Buenos Aires\", \"infered_place_score\": 1.0, \"infected\": 30, \"date\": \"2020-03-24T00:00:00\", \"days_from_first_infection\": 11, \"cum_infected\": 92}, {\"place\": \"Provincia de Buenos Aires\", \"infered_place\": \"Provincia de Buenos Aires\", \"infered_place_score\": 1.0, \"infected\": 30, \"date\": \"2020-03-25T00:00:00\", \"days_from_first_infection\": 12, \"cum_infected\": 122}, {\"place\": \"Chaco y uno\", \"infered_place\": \"Chaco\", \"infered_place_score\": 0.45454545454545453, \"infected\": 3, \"date\": \"2020-03-16T00:00:00\", \"days_from_first_infection\": 0, \"cum_infected\": 3}, {\"place\": \"Chaco\", \"infered_place\": \"Chaco\", \"infered_place_score\": 1.0, \"infected\": 1, \"date\": \"2020-03-17T00:00:00\", \"days_from_first_infection\": 1, \"cum_infected\": 4}, {\"place\": \"Chaco\", \"infered_place\": \"Chaco\", \"infered_place_score\": 1.0, \"infected\": 1, \"date\": \"2020-03-18T00:00:00\", \"days_from_first_infection\": 2, \"cum_infected\": 5}, {\"place\": \"Chaco\", \"infered_place\": \"Chaco\", \"infered_place_score\": 1.0, \"infected\": 2, \"date\": \"2020-03-19T00:00:00\", \"days_from_first_infection\": 3, \"cum_infected\": 7}, {\"place\": \"Chaco\", \"infered_place\": \"Chaco\", \"infered_place_score\": 1.0, \"infected\": 1, \"date\": \"2020-03-20T00:00:00\", \"days_from_first_infection\": 4, \"cum_infected\": 8}, {\"place\": \"Chaco\", \"infered_place\": \"Chaco\", \"infered_place_score\": 1.0, \"infected\": 5, \"date\": \"2020-03-21T00:00:00\", \"days_from_first_infection\": 5, \"cum_infected\": 13}, {\"place\": \"Chaco\", \"infered_place\": \"Chaco\", \"infered_place_score\": 1.0, \"infected\": 7, \"date\": \"2020-03-22T00:00:00\", \"days_from_first_infection\": 6, \"cum_infected\": 20}, {\"place\": \"Chaco\", \"infered_place\": \"Chaco\", \"infered_place_score\": 1.0, \"infected\": 4, \"date\": \"2020-03-23T00:00:00\", \"days_from_first_infection\": 7, \"cum_infected\": 24}, {\"place\": \"Chaco\", \"infered_place\": \"Chaco\", \"infered_place_score\": 1.0, \"infected\": 9, \"date\": \"2020-03-24T00:00:00\", \"days_from_first_infection\": 8, \"cum_infected\": 33}, {\"place\": \"Chaco\", \"infered_place\": \"Chaco\", \"infered_place_score\": 1.0, \"infected\": 12, \"date\": \"2020-03-25T00:00:00\", \"days_from_first_infection\": 9, \"cum_infected\": 45}, {\"place\": \"Santa Cruz\", \"infered_place\": \"Santa Cruz\", \"infered_place_score\": 1.0, \"infected\": 1, \"date\": \"2020-03-17T00:00:00\", \"days_from_first_infection\": 0, \"cum_infected\": 1}, {\"place\": \"Santa Cruz\", \"infered_place\": \"Santa Cruz\", \"infered_place_score\": 1.0, \"infected\": 1, \"date\": \"2020-03-24T00:00:00\", \"days_from_first_infection\": 7, \"cum_infected\": 2}, {\"place\": \"Santa Cruz\", \"infered_place\": \"Santa Cruz\", \"infered_place_score\": 1.0, \"infected\": 5, \"date\": \"2020-03-25T00:00:00\", \"days_from_first_infection\": 8, \"cum_infected\": 7}, {\"place\": \"Entre R\\u00edos\", \"infered_place\": \"Entre R\\u00edos\", \"infered_place_score\": 1.0, \"infected\": 1, \"date\": \"2020-03-17T00:00:00\", \"days_from_first_infection\": 0, \"cum_infected\": 1}, {\"place\": \"Entre R\\u00edos\", \"infered_place\": \"Entre R\\u00edos\", \"infered_place_score\": 1.0, \"infected\": 1, \"date\": \"2020-03-18T00:00:00\", \"days_from_first_infection\": 1, \"cum_infected\": 2}, {\"place\": \"Entre R\\u00edos\", \"infered_place\": \"Entre R\\u00edos\", \"infered_place_score\": 1.0, \"infected\": 1, \"date\": \"2020-03-20T00:00:00\", \"days_from_first_infection\": 3, \"cum_infected\": 3}, {\"place\": \"Entre R\\u00edos\", \"infered_place\": \"Entre R\\u00edos\", \"infered_place_score\": 1.0, \"infected\": 3, \"date\": \"2020-03-25T00:00:00\", \"days_from_first_infection\": 8, \"cum_infected\": 6}, {\"place\": \"R\\u00edo Negro\", \"infered_place\": \"R\\u00edo Negro\", \"infered_place_score\": 1.0, \"infected\": 1, \"date\": \"2020-03-17T00:00:00\", \"days_from_first_infection\": 0, \"cum_infected\": 1}, {\"place\": \"Rio Negro\", \"infered_place\": \"R\\u00edo Negro\", \"infered_place_score\": 1.0, \"infected\": 1, \"date\": \"2020-03-19T00:00:00\", \"days_from_first_infection\": 2, \"cum_infected\": 2}, {\"place\": \"Salt a\", \"infered_place\": \"Salta\", \"infered_place_score\": 0.8333333333333334, \"infected\": 1, \"date\": \"2020-03-17T00:00:00\", \"days_from_first_infection\": 0, \"cum_infected\": 1}, {\"place\": \"Jujuy\", \"infered_place\": \"Jujuy\", \"infered_place_score\": 1.0, \"infected\": 1, \"date\": \"2020-03-17T00:00:00\", \"days_from_first_infection\": 0, \"cum_infected\": 1}, {\"place\": \"C\\u00f3rdoba\", \"infered_place\": \"C\\u00f3rdoba\", \"infered_place_score\": 1.0, \"infected\": 2, \"date\": \"2020-03-17T00:00:00\", \"days_from_first_infection\": 0, \"cum_infected\": 2}, {\"place\": \"C\\u00f3rdoba\", \"infered_place\": \"C\\u00f3rdoba\", \"infered_place_score\": 1.0, \"infected\": 1, \"date\": \"2020-03-18T00:00:00\", \"days_from_first_infection\": 1, \"cum_infected\": 3}, {\"place\": \"C\\u00f3rdoba\", \"infered_place\": \"C\\u00f3rdoba\", \"infered_place_score\": 1.0, \"infected\": 3, \"date\": \"2020-03-19T00:00:00\", \"days_from_first_infection\": 2, \"cum_infected\": 6}, {\"place\": \"C\\u00f3rdoba\", \"infered_place\": \"C\\u00f3rdoba\", \"infered_place_score\": 1.0, \"infected\": 5, \"date\": \"2020-03-20T00:00:00\", \"days_from_first_infection\": 3, \"cum_infected\": 11}, {\"place\": \"C\\u00f3rdoba\", \"infered_place\": \"C\\u00f3rdoba\", \"infered_place_score\": 1.0, \"infected\": 4, \"date\": \"2020-03-21T00:00:00\", \"days_from_first_infection\": 4, \"cum_infected\": 15}, {\"place\": \"C\\u00f3rdoba\", \"infered_place\": \"C\\u00f3rdoba\", \"infered_place_score\": 1.0, \"infected\": 8, \"date\": \"2020-03-22T00:00:00\", \"days_from_first_infection\": 5, \"cum_infected\": 23}, {\"place\": \"C\\u00f3rdoba\", \"infered_place\": \"C\\u00f3rdoba\", \"infered_place_score\": 1.0, \"infected\": 3, \"date\": \"2020-03-23T00:00:00\", \"days_from_first_infection\": 6, \"cum_infected\": 26}, {\"place\": \"C\\u00f3rdoba\", \"infered_place\": \"C\\u00f3rdoba\", \"infered_place_score\": 1.0, \"infected\": 7, \"date\": \"2020-03-24T00:00:00\", \"days_from_first_infection\": 7, \"cum_infected\": 33}, {\"place\": \"C\\u00f3rdoba\", \"infered_place\": \"C\\u00f3rdoba\", \"infered_place_score\": 1.0, \"infected\": 15, \"date\": \"2020-03-25T00:00:00\", \"days_from_first_infection\": 8, \"cum_infected\": 48}, {\"place\": \"Tucum\\u00e1n\", \"infered_place\": \"Tucum\\u00e1n\", \"infered_place_score\": 1.0, \"infected\": 1, \"date\": \"2020-03-19T00:00:00\", \"days_from_first_infection\": 0, \"cum_infected\": 1}, {\"place\": \"Tucum\\u00e1n\", \"infered_place\": \"Tucum\\u00e1n\", \"infered_place_score\": 1.0, \"infected\": 5, \"date\": \"2020-03-22T00:00:00\", \"days_from_first_infection\": 3, \"cum_infected\": 6}, {\"place\": \"Tucum\\u00e1n\", \"infered_place\": \"Tucum\\u00e1n\", \"infered_place_score\": 1.0, \"infected\": 2, \"date\": \"2020-03-25T00:00:00\", \"days_from_first_infection\": 6, \"cum_infected\": 8}, {\"place\": \"Neuqu\\u00e9n\", \"infered_place\": \"Neuqu\\u00e9n\", \"infered_place_score\": 1.0, \"infected\": 2, \"date\": \"2020-03-20T00:00:00\", \"days_from_first_infection\": 0, \"cum_infected\": 2}, {\"place\": \"Neuqu\\u00e9n\", \"infered_place\": \"Neuqu\\u00e9n\", \"infered_place_score\": 1.0, \"infected\": 1, \"date\": \"2020-03-24T00:00:00\", \"days_from_first_infection\": 4, \"cum_infected\": 3}, {\"place\": \"Neuqu\\u00e9n\", \"infered_place\": \"Neuqu\\u00e9n\", \"infered_place_score\": 1.0, \"infected\": 1, \"date\": \"2020-03-25T00:00:00\", \"days_from_first_infection\": 5, \"cum_infected\": 4}, {\"place\": \"Tierra del Fuego\", \"infered_place\": \"Tierra del Fuego\", \"infered_place_score\": 1.0, \"infected\": 1, \"date\": \"2020-03-20T00:00:00\", \"days_from_first_infection\": 0, \"cum_infected\": 1}, {\"place\": \"Tierra del Fuego\", \"infered_place\": \"Tierra del Fuego\", \"infered_place_score\": 1.0, \"infected\": 3, \"date\": \"2020-03-21T00:00:00\", \"days_from_first_infection\": 1, \"cum_infected\": 4}, {\"place\": \"Tierra del Fuego\", \"infered_place\": \"Tierra del Fuego\", \"infered_place_score\": 1.0, \"infected\": 4, \"date\": \"2020-03-24T00:00:00\", \"days_from_first_infection\": 4, \"cum_infected\": 8}, {\"place\": \"Tierra del Fuego\", \"infered_place\": \"Tierra del Fuego\", \"infered_place_score\": 1.0, \"infected\": 1, \"date\": \"2020-03-25T00:00:00\", \"days_from_first_infection\": 5, \"cum_infected\": 9}, {\"place\": \"Corrientes\", \"infered_place\": \"Corrientes\", \"infered_place_score\": 1.0, \"infected\": 1, \"date\": \"2020-03-20T00:00:00\", \"days_from_first_infection\": 0, \"cum_infected\": 1}, {\"place\": \"Corrientes\", \"infered_place\": \"Corrientes\", \"infered_place_score\": 1.0, \"infected\": 2, \"date\": \"2020-03-21T00:00:00\", \"days_from_first_infection\": 1, \"cum_infected\": 3}, {\"place\": \"Santa Fe\", \"infered_place\": \"Santa Fe\", \"infered_place_score\": 1.0, \"infected\": 2, \"date\": \"2020-03-21T00:00:00\", \"days_from_first_infection\": 0, \"cum_infected\": 2}, {\"place\": \"Santa Fe\", \"infered_place\": \"Santa Fe\", \"infered_place_score\": 1.0, \"infected\": 13, \"date\": \"2020-03-23T00:00:00\", \"days_from_first_infection\": 2, \"cum_infected\": 15}, {\"place\": \"Santa Fe\", \"infered_place\": \"Santa Fe\", \"infered_place_score\": 1.0, \"infected\": 3, \"date\": \"2020-03-24T00:00:00\", \"days_from_first_infection\": 3, \"cum_infected\": 18}, {\"place\": \"Santa Fe\", \"infered_place\": \"Santa Fe\", \"infered_place_score\": 1.0, \"infected\": 22, \"date\": \"2020-03-25T00:00:00\", \"days_from_first_infection\": 4, \"cum_infected\": 40}, {\"place\": \"Mendoza\", \"infered_place\": \"Mendoza\", \"infered_place_score\": 1.0, \"infected\": 5, \"date\": \"2020-03-21T00:00:00\", \"days_from_first_infection\": 0, \"cum_infected\": 5}, {\"place\": \"Mendoza\", \"infered_place\": \"Mendoza\", \"infered_place_score\": 1.0, \"infected\": 1, \"date\": \"2020-03-25T00:00:00\", \"days_from_first_infection\": 4, \"cum_infected\": 6}, {\"place\": \"Misiones\", \"infered_place\": \"Misiones\", \"infered_place_score\": 1.0, \"infected\": 1, \"date\": \"2020-03-22T00:00:00\", \"days_from_first_infection\": 0, \"cum_infected\": 1}, {\"place\": \"La Pampa\", \"infered_place\": \"La Pampa\", \"infered_place_score\": 1.0, \"infected\": 1, \"date\": \"2020-03-24T00:00:00\", \"days_from_first_infection\": 0, \"cum_infected\": 1}, {\"place\": \"San Luis\", \"infered_place\": \"San Luis\", \"infered_place_score\": 1.0, \"infected\": 4, \"date\": \"2020-03-25T00:00:00\", \"days_from_first_infection\": 0, \"cum_infected\": 4}]}}, {\"mode\": \"vega-lite\"});\n",
       "</script>"
      ],
      "text/plain": [
       "alt.Chart(...)"
      ]
     },
     "execution_count": 3,
     "metadata": {},
     "output_type": "execute_result"
    }
   ],
   "source": [
    "#hide_input\n",
    "plot_evolution(cnt_by_place[cnt_by_place >=10].index.tolist())"
   ]
  },
  {
   "cell_type": "markdown",
   "metadata": {
    "papermill": {
     "duration": 0.004669,
     "end_time": "2020-03-26T16:04:27.760050",
     "exception": false,
     "start_time": "2020-03-26T16:04:27.755381",
     "status": "completed"
    },
    "tags": []
   },
   "source": [
    "Esta página es un experimento para evaluar la utilidad de la informacion que se encuentra disponible en el sitio https://www.argentina.gob.ar/coronavirus/informe-diario para tener una vision general de lo que pasa en el pais"
   ]
  }
 ],
 "metadata": {
  "kernelspec": {
   "display_name": "Python 3",
   "language": "python",
   "name": "python3"
  },
  "language_info": {
   "codemirror_mode": {
    "name": "ipython",
    "version": 3
   },
   "file_extension": ".py",
   "mimetype": "text/x-python",
   "name": "python",
   "nbconvert_exporter": "python",
   "pygments_lexer": "ipython3",
   "version": "3.6.10"
  },
  "papermill": {
   "duration": 2.646289,
   "end_time": "2020-03-26T16:04:27.769039",
   "environment_variables": {},
   "exception": null,
   "input_path": "2020-03-24-home.ipynb",
   "output_path": "2020-03-24-home.ipynb",
   "parameters": {},
   "start_time": "2020-03-26T16:04:25.122750",
   "version": "2.0.0"
  }
 },
 "nbformat": 4,
 "nbformat_minor": 4
}